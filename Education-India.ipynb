{
 "cells": [
  {
   "cell_type": "code",
   "execution_count": 85,
   "metadata": {},
   "outputs": [],
   "source": [
    "#importing necessary libraries\n",
    "import pandas as pd\n",
    "import numpy as np\n",
    "import matplotlib.pyplot as plt \n",
    "import plotly.graph_objects as go\n"
   ]
  },
  {
   "cell_type": "code",
   "execution_count": 86,
   "metadata": {},
   "outputs": [
    {
     "data": {
      "text/html": [
       "<div>\n",
       "<style scoped>\n",
       "    .dataframe tbody tr th:only-of-type {\n",
       "        vertical-align: middle;\n",
       "    }\n",
       "\n",
       "    .dataframe tbody tr th {\n",
       "        vertical-align: top;\n",
       "    }\n",
       "\n",
       "    .dataframe thead th {\n",
       "        text-align: right;\n",
       "    }\n",
       "</style>\n",
       "<table border=\"1\" class=\"dataframe\">\n",
       "  <thead>\n",
       "    <tr style=\"text-align: right;\">\n",
       "      <th></th>\n",
       "      <th>AC_YEAR</th>\n",
       "      <th>STATCD</th>\n",
       "      <th>STATNAME</th>\n",
       "      <th>DISTRICTS</th>\n",
       "      <th>BLOCKS</th>\n",
       "      <th>VILLAGES</th>\n",
       "      <th>CLUSTERS</th>\n",
       "      <th>TOTPOPULAT</th>\n",
       "      <th>P_URB_POP</th>\n",
       "      <th>POPULATION_0_6</th>\n",
       "      <th>...</th>\n",
       "      <th>USCR35</th>\n",
       "      <th>NOTCH_ASS</th>\n",
       "      <th>TCHINV</th>\n",
       "      <th>TOTCLS1G</th>\n",
       "      <th>TOTCLS2G</th>\n",
       "      <th>TOTCLS3G</th>\n",
       "      <th>TOTCLS4G</th>\n",
       "      <th>TOTCLS5G</th>\n",
       "      <th>TOTCLS6G</th>\n",
       "      <th>TOTCLS7G</th>\n",
       "    </tr>\n",
       "  </thead>\n",
       "  <tbody>\n",
       "    <tr>\n",
       "      <th>0</th>\n",
       "      <td>2015-16</td>\n",
       "      <td>1</td>\n",
       "      <td>JAMMU &amp; KASHMIR</td>\n",
       "      <td>22</td>\n",
       "      <td>201</td>\n",
       "      <td>7263</td>\n",
       "      <td>1628</td>\n",
       "      <td>12549</td>\n",
       "      <td>20.05</td>\n",
       "      <td>16.01</td>\n",
       "      <td>...</td>\n",
       "      <td>1014</td>\n",
       "      <td>20491</td>\n",
       "      <td>1946</td>\n",
       "      <td>41171</td>\n",
       "      <td>62474</td>\n",
       "      <td>7878</td>\n",
       "      <td>564</td>\n",
       "      <td>495</td>\n",
       "      <td>24326</td>\n",
       "      <td>2001</td>\n",
       "    </tr>\n",
       "    <tr>\n",
       "      <th>1</th>\n",
       "      <td>2015-16</td>\n",
       "      <td>2</td>\n",
       "      <td>HIMACHAL PRADESH</td>\n",
       "      <td>12</td>\n",
       "      <td>124</td>\n",
       "      <td>10120</td>\n",
       "      <td>2243</td>\n",
       "      <td>6857</td>\n",
       "      <td>8.69</td>\n",
       "      <td>11.14</td>\n",
       "      <td>...</td>\n",
       "      <td>652</td>\n",
       "      <td>36054</td>\n",
       "      <td>3053</td>\n",
       "      <td>38307</td>\n",
       "      <td>6930</td>\n",
       "      <td>6909</td>\n",
       "      <td>6498</td>\n",
       "      <td>5445</td>\n",
       "      <td>6151</td>\n",
       "      <td>2717</td>\n",
       "    </tr>\n",
       "    <tr>\n",
       "      <th>2</th>\n",
       "      <td>2015-16</td>\n",
       "      <td>3</td>\n",
       "      <td>PUNJAB</td>\n",
       "      <td>22</td>\n",
       "      <td>146</td>\n",
       "      <td>13197</td>\n",
       "      <td>1780</td>\n",
       "      <td>27704</td>\n",
       "      <td>29.82</td>\n",
       "      <td>10.62</td>\n",
       "      <td>...</td>\n",
       "      <td>2754</td>\n",
       "      <td>88618</td>\n",
       "      <td>14200</td>\n",
       "      <td>56222</td>\n",
       "      <td>23531</td>\n",
       "      <td>42532</td>\n",
       "      <td>9244</td>\n",
       "      <td>8406</td>\n",
       "      <td>30835</td>\n",
       "      <td>7218</td>\n",
       "    </tr>\n",
       "    <tr>\n",
       "      <th>3</th>\n",
       "      <td>2015-16</td>\n",
       "      <td>4</td>\n",
       "      <td>CHANDIGARH</td>\n",
       "      <td>1</td>\n",
       "      <td>20</td>\n",
       "      <td>84</td>\n",
       "      <td>20</td>\n",
       "      <td>1055</td>\n",
       "      <td>97.25</td>\n",
       "      <td>11.18</td>\n",
       "      <td>...</td>\n",
       "      <td>117</td>\n",
       "      <td>1994</td>\n",
       "      <td>218</td>\n",
       "      <td>135</td>\n",
       "      <td>419</td>\n",
       "      <td>2066</td>\n",
       "      <td>0</td>\n",
       "      <td>36</td>\n",
       "      <td>1398</td>\n",
       "      <td>0</td>\n",
       "    </tr>\n",
       "    <tr>\n",
       "      <th>4</th>\n",
       "      <td>2015-16</td>\n",
       "      <td>5</td>\n",
       "      <td>UTTARAKHAND</td>\n",
       "      <td>13</td>\n",
       "      <td>95</td>\n",
       "      <td>11989</td>\n",
       "      <td>995</td>\n",
       "      <td>10117</td>\n",
       "      <td>21.54</td>\n",
       "      <td>13.14</td>\n",
       "      <td>...</td>\n",
       "      <td>1147</td>\n",
       "      <td>12608</td>\n",
       "      <td>1024</td>\n",
       "      <td>48215</td>\n",
       "      <td>14587</td>\n",
       "      <td>7545</td>\n",
       "      <td>12388</td>\n",
       "      <td>6671</td>\n",
       "      <td>1855</td>\n",
       "      <td>3227</td>\n",
       "    </tr>\n",
       "  </tbody>\n",
       "</table>\n",
       "<p>5 rows × 816 columns</p>\n",
       "</div>"
      ],
      "text/plain": [
       "   AC_YEAR  STATCD          STATNAME  DISTRICTS  BLOCKS  VILLAGES  CLUSTERS  \\\n",
       "0  2015-16       1   JAMMU & KASHMIR         22     201      7263      1628   \n",
       "1  2015-16       2  HIMACHAL PRADESH         12     124     10120      2243   \n",
       "2  2015-16       3            PUNJAB         22     146     13197      1780   \n",
       "3  2015-16       4        CHANDIGARH          1      20        84        20   \n",
       "4  2015-16       5       UTTARAKHAND         13      95     11989       995   \n",
       "\n",
       "   TOTPOPULAT  P_URB_POP  POPULATION_0_6  ...  USCR35  NOTCH_ASS  TCHINV  \\\n",
       "0       12549      20.05           16.01  ...    1014      20491    1946   \n",
       "1        6857       8.69           11.14  ...     652      36054    3053   \n",
       "2       27704      29.82           10.62  ...    2754      88618   14200   \n",
       "3        1055      97.25           11.18  ...     117       1994     218   \n",
       "4       10117      21.54           13.14  ...    1147      12608    1024   \n",
       "\n",
       "   TOTCLS1G  TOTCLS2G  TOTCLS3G  TOTCLS4G  TOTCLS5G  TOTCLS6G  TOTCLS7G  \n",
       "0     41171     62474      7878       564       495     24326      2001  \n",
       "1     38307      6930      6909      6498      5445      6151      2717  \n",
       "2     56222     23531     42532      9244      8406     30835      7218  \n",
       "3       135       419      2066         0        36      1398         0  \n",
       "4     48215     14587      7545     12388      6671      1855      3227  \n",
       "\n",
       "[5 rows x 816 columns]"
      ]
     },
     "execution_count": 86,
     "metadata": {},
     "output_type": "execute_result"
    }
   ],
   "source": [
    "#Reading Statewise data detailing Education in India\n",
    "se=pd.read_csv(r'2015_16_Statewise_Elementary.csv')\n",
    "se.head()\n"
   ]
  },
  {
   "cell_type": "code",
   "execution_count": 87,
   "metadata": {},
   "outputs": [
    {
     "data": {
      "text/html": [
       "<div>\n",
       "<style scoped>\n",
       "    .dataframe tbody tr th:only-of-type {\n",
       "        vertical-align: middle;\n",
       "    }\n",
       "\n",
       "    .dataframe tbody tr th {\n",
       "        vertical-align: top;\n",
       "    }\n",
       "\n",
       "    .dataframe thead th {\n",
       "        text-align: right;\n",
       "    }\n",
       "</style>\n",
       "<table border=\"1\" class=\"dataframe\">\n",
       "  <thead>\n",
       "    <tr style=\"text-align: right;\">\n",
       "      <th></th>\n",
       "      <th>Field name</th>\n",
       "      <th>Description</th>\n",
       "    </tr>\n",
       "  </thead>\n",
       "  <tbody>\n",
       "    <tr>\n",
       "      <th>0</th>\n",
       "      <td>AC_YEAR</td>\n",
       "      <td>AC_YEAR: AC_YEAR</td>\n",
       "    </tr>\n",
       "    <tr>\n",
       "      <th>1</th>\n",
       "      <td>STATCD</td>\n",
       "      <td>Data Reported from: Data Reported from</td>\n",
       "    </tr>\n",
       "    <tr>\n",
       "      <th>2</th>\n",
       "      <td>STATNAME</td>\n",
       "      <td>Data Reported from: Data Reported from</td>\n",
       "    </tr>\n",
       "    <tr>\n",
       "      <th>3</th>\n",
       "      <td>DISTRICTS</td>\n",
       "      <td>Data Reported from: Data Reported from</td>\n",
       "    </tr>\n",
       "    <tr>\n",
       "      <th>4</th>\n",
       "      <td>BLOCKS</td>\n",
       "      <td>Data Reported from: Data Reported from</td>\n",
       "    </tr>\n",
       "    <tr>\n",
       "      <th>5</th>\n",
       "      <td>VILLAGES</td>\n",
       "      <td>Data Reported from: Data Reported from</td>\n",
       "    </tr>\n",
       "    <tr>\n",
       "      <th>6</th>\n",
       "      <td>CLUSTERS</td>\n",
       "      <td>Data Reported from: Data Reported from</td>\n",
       "    </tr>\n",
       "    <tr>\n",
       "      <th>7</th>\n",
       "      <td>TOTPOPULAT</td>\n",
       "      <td>Basic data from Census 2011: Total Population(...</td>\n",
       "    </tr>\n",
       "    <tr>\n",
       "      <th>8</th>\n",
       "      <td>P_URB_POP</td>\n",
       "      <td>Basic data from Census 2011: Percentage Urban ...</td>\n",
       "    </tr>\n",
       "    <tr>\n",
       "      <th>9</th>\n",
       "      <td>POPULATION_0_6</td>\n",
       "      <td>Basic data from Census 2011: Percentage Popula...</td>\n",
       "    </tr>\n",
       "  </tbody>\n",
       "</table>\n",
       "</div>"
      ],
      "text/plain": [
       "       Field name                                        Description\n",
       "0         AC_YEAR                                   AC_YEAR: AC_YEAR\n",
       "1          STATCD             Data Reported from: Data Reported from\n",
       "2        STATNAME             Data Reported from: Data Reported from\n",
       "3       DISTRICTS             Data Reported from: Data Reported from\n",
       "4          BLOCKS             Data Reported from: Data Reported from\n",
       "5        VILLAGES             Data Reported from: Data Reported from\n",
       "6        CLUSTERS             Data Reported from: Data Reported from\n",
       "7      TOTPOPULAT  Basic data from Census 2011: Total Population(...\n",
       "8       P_URB_POP  Basic data from Census 2011: Percentage Urban ...\n",
       "9  POPULATION_0_6  Basic data from Census 2011: Percentage Popula..."
      ]
     },
     "execution_count": 87,
     "metadata": {},
     "output_type": "execute_result"
    }
   ],
   "source": [
    "#Reading the Statewise Elementary Metadata which allows us to see what each column head means\n",
    "sem = pd.read_csv(r'2015_16_Statewise_Elementary_Metadata.csv')\n",
    "sem.head(10)"
   ]
  },
  {
   "cell_type": "code",
   "execution_count": 88,
   "metadata": {},
   "outputs": [],
   "source": [
    "def col_des(col):\n",
    "        return sem[sem['Field name'] == col].Description.values[0]\n"
   ]
  },
  {
   "cell_type": "code",
   "execution_count": 116,
   "metadata": {},
   "outputs": [],
   "source": [
    "def details(col):\n",
    "    det=se[col].describe()\n",
    "    print(det)\n",
    "    print(\"MIN: \", *se[se[col]==det[3]]['STATNAME'], \"\\nMAX: \", *se[se[col]==det[7]].STATNAME)    \n",
    "    "
   ]
  },
  {
   "cell_type": "code",
   "execution_count": 90,
   "metadata": {},
   "outputs": [
    {
     "data": {
      "text/plain": [
       "'Basic data from Census 2011: Literacy Rate'"
      ]
     },
     "execution_count": 90,
     "metadata": {},
     "output_type": "execute_result"
    }
   ],
   "source": [
    "col_des('OVERALL_LI')"
   ]
  },
  {
   "cell_type": "code",
   "execution_count": 115,
   "metadata": {},
   "outputs": [
    {
     "name": "stdout",
     "output_type": "stream",
     "text": [
      "36.0 78.30944444444445 8.257752009715976 63.82 70.9375 78.48 86.2875 93.91\n",
      "MIN:  BIHAR \n",
      "MAX:  KERALA\n"
     ]
    }
   ],
   "source": [
    "details('OVERALL_LI')"
   ]
  },
  {
   "cell_type": "code",
   "execution_count": 54,
   "metadata": {},
   "outputs": [
    {
     "data": {
      "text/plain": [
       "'Basic data from Census 2011: Female Literacy Rate'"
      ]
     },
     "execution_count": 54,
     "metadata": {},
     "output_type": "execute_result"
    }
   ],
   "source": [
    "col_des('FEMALE_LIT')"
   ]
  },
  {
   "cell_type": "code",
   "execution_count": 117,
   "metadata": {},
   "outputs": [
    {
     "name": "stdout",
     "output_type": "stream",
     "text": [
      "count    36.000000\n",
      "mean     71.091389\n",
      "std      10.581109\n",
      "min      52.660000\n",
      "25%      60.447500\n",
      "50%      71.250000\n",
      "75%      79.925000\n",
      "max      91.980000\n",
      "Name: FEMALE_LIT, dtype: float64\n",
      "MIN:  RAJASTHAN \n",
      "MAX:  KERALA\n"
     ]
    }
   ],
   "source": [
    "details('FEMALE_LIT')\n"
   ]
  },
  {
   "cell_type": "code",
   "execution_count": 55,
   "metadata": {},
   "outputs": [
    {
     "data": {
      "text/plain": [
       "'Basic data from Census 2011: Male Literacy Rate'"
      ]
     },
     "execution_count": 55,
     "metadata": {},
     "output_type": "execute_result"
    }
   ],
   "source": [
    "col_des('MALE_LIT')"
   ]
  },
  {
   "cell_type": "code",
   "execution_count": 118,
   "metadata": {},
   "outputs": [
    {
     "name": "stdout",
     "output_type": "stream",
     "text": [
      "count    36.000000\n",
      "mean     84.985000\n",
      "std       6.468443\n",
      "min      73.390000\n",
      "25%      80.192500\n",
      "50%      85.920000\n",
      "75%      90.612500\n",
      "max      96.110000\n",
      "Name: MALE_LIT, dtype: float64\n",
      "MIN:  BIHAR \n",
      "MAX:  LAKSHADWEEP\n"
     ]
    }
   ],
   "source": [
    "details('MALE_LIT')"
   ]
  },
  {
   "cell_type": "code",
   "execution_count": 56,
   "metadata": {},
   "outputs": [
    {
     "data": {
      "text/plain": [
       "'Basic data from Census 2011: Area (Sq. KM)'"
      ]
     },
     "execution_count": 56,
     "metadata": {},
     "output_type": "execute_result"
    }
   ],
   "source": [
    "col_des('AREA_SQKM')"
   ]
  },
  {
   "cell_type": "code",
   "execution_count": 119,
   "metadata": {},
   "outputs": [
    {
     "name": "stdout",
     "output_type": "stream",
     "text": [
      "count        36.000000\n",
      "mean      94501.111111\n",
      "std      102321.909726\n",
      "min          32.000000\n",
      "25%        9926.750000\n",
      "50%       54578.000000\n",
      "75%      140320.000000\n",
      "max      342239.000000\n",
      "Name: AREA_SQKM, dtype: float64\n",
      "MIN:  LAKSHADWEEP \n",
      "MAX:  RAJASTHAN\n"
     ]
    }
   ],
   "source": [
    "details('AREA_SQKM')"
   ]
  },
  {
   "cell_type": "code",
   "execution_count": 62,
   "metadata": {},
   "outputs": [
    {
     "data": {
      "text/html": [
       "<div>\n",
       "<style scoped>\n",
       "    .dataframe tbody tr th:only-of-type {\n",
       "        vertical-align: middle;\n",
       "    }\n",
       "\n",
       "    .dataframe tbody tr th {\n",
       "        vertical-align: top;\n",
       "    }\n",
       "\n",
       "    .dataframe thead th {\n",
       "        text-align: right;\n",
       "    }\n",
       "</style>\n",
       "<table border=\"1\" class=\"dataframe\">\n",
       "  <thead>\n",
       "    <tr style=\"text-align: right;\">\n",
       "      <th></th>\n",
       "      <th>AC_YEAR</th>\n",
       "      <th>STATCD</th>\n",
       "      <th>STATNAME</th>\n",
       "      <th>DISTRICTS</th>\n",
       "      <th>BLOCKS</th>\n",
       "      <th>VILLAGES</th>\n",
       "      <th>CLUSTERS</th>\n",
       "      <th>TOTPOPULAT</th>\n",
       "      <th>P_URB_POP</th>\n",
       "      <th>POPULATION_0_6</th>\n",
       "      <th>...</th>\n",
       "      <th>USCR35</th>\n",
       "      <th>NOTCH_ASS</th>\n",
       "      <th>TCHINV</th>\n",
       "      <th>TOTCLS1G</th>\n",
       "      <th>TOTCLS2G</th>\n",
       "      <th>TOTCLS3G</th>\n",
       "      <th>TOTCLS4G</th>\n",
       "      <th>TOTCLS5G</th>\n",
       "      <th>TOTCLS6G</th>\n",
       "      <th>TOTCLS7G</th>\n",
       "    </tr>\n",
       "  </thead>\n",
       "  <tbody>\n",
       "    <tr>\n",
       "      <th>30</th>\n",
       "      <td>2015-16</td>\n",
       "      <td>31</td>\n",
       "      <td>LAKSHADWEEP</td>\n",
       "      <td>1</td>\n",
       "      <td>3</td>\n",
       "      <td>10</td>\n",
       "      <td>9</td>\n",
       "      <td>64</td>\n",
       "      <td>41.86</td>\n",
       "      <td>11.0</td>\n",
       "      <td>...</td>\n",
       "      <td>0</td>\n",
       "      <td>2395</td>\n",
       "      <td>209</td>\n",
       "      <td>139</td>\n",
       "      <td>150</td>\n",
       "      <td>49</td>\n",
       "      <td>15</td>\n",
       "      <td>28</td>\n",
       "      <td>11</td>\n",
       "      <td>0</td>\n",
       "    </tr>\n",
       "  </tbody>\n",
       "</table>\n",
       "<p>1 rows × 816 columns</p>\n",
       "</div>"
      ],
      "text/plain": [
       "    AC_YEAR  STATCD     STATNAME  DISTRICTS  BLOCKS  VILLAGES  CLUSTERS  \\\n",
       "30  2015-16      31  LAKSHADWEEP          1       3        10         9   \n",
       "\n",
       "    TOTPOPULAT  P_URB_POP  POPULATION_0_6  ...  USCR35  NOTCH_ASS  TCHINV  \\\n",
       "30          64      41.86            11.0  ...       0       2395     209   \n",
       "\n",
       "    TOTCLS1G  TOTCLS2G  TOTCLS3G  TOTCLS4G  TOTCLS5G  TOTCLS6G  TOTCLS7G  \n",
       "30       139       150        49        15        28        11         0  \n",
       "\n",
       "[1 rows x 816 columns]"
      ]
     },
     "execution_count": 62,
     "metadata": {},
     "output_type": "execute_result"
    }
   ],
   "source": [
    "se[se['AREA_SQKM'] == 32]"
   ]
  },
  {
   "cell_type": "code",
   "execution_count": 129,
   "metadata": {},
   "outputs": [
    {
     "name": "stdout",
     "output_type": "stream",
     "text": [
      "count    36.000000\n",
      "mean     19.990556\n",
      "std      11.455856\n",
      "min      -0.470000\n",
      "25%      13.880000\n",
      "50%      18.910000\n",
      "75%      22.637500\n",
      "max      55.500000\n",
      "Name: GROWTHRATE, dtype: float64\n",
      "MIN:  NAGALAND \n",
      "MAX:  DADRA & NAGAR HAVELI\n"
     ]
    }
   ],
   "source": [
    "details('GROWTHRATE')"
   ]
  },
  {
   "cell_type": "code",
   "execution_count": 60,
   "metadata": {},
   "outputs": [
    {
     "data": {
      "text/html": [
       "<div>\n",
       "<style scoped>\n",
       "    .dataframe tbody tr th:only-of-type {\n",
       "        vertical-align: middle;\n",
       "    }\n",
       "\n",
       "    .dataframe tbody tr th {\n",
       "        vertical-align: top;\n",
       "    }\n",
       "\n",
       "    .dataframe thead th {\n",
       "        text-align: right;\n",
       "    }\n",
       "</style>\n",
       "<table border=\"1\" class=\"dataframe\">\n",
       "  <thead>\n",
       "    <tr style=\"text-align: right;\">\n",
       "      <th></th>\n",
       "      <th>AC_YEAR</th>\n",
       "      <th>STATCD</th>\n",
       "      <th>STATNAME</th>\n",
       "      <th>DISTRICTS</th>\n",
       "      <th>BLOCKS</th>\n",
       "      <th>VILLAGES</th>\n",
       "      <th>CLUSTERS</th>\n",
       "      <th>TOTPOPULAT</th>\n",
       "      <th>P_URB_POP</th>\n",
       "      <th>POPULATION_0_6</th>\n",
       "      <th>...</th>\n",
       "      <th>USCR35</th>\n",
       "      <th>NOTCH_ASS</th>\n",
       "      <th>TCHINV</th>\n",
       "      <th>TOTCLS1G</th>\n",
       "      <th>TOTCLS2G</th>\n",
       "      <th>TOTCLS3G</th>\n",
       "      <th>TOTCLS4G</th>\n",
       "      <th>TOTCLS5G</th>\n",
       "      <th>TOTCLS6G</th>\n",
       "      <th>TOTCLS7G</th>\n",
       "    </tr>\n",
       "  </thead>\n",
       "  <tbody>\n",
       "    <tr>\n",
       "      <th>12</th>\n",
       "      <td>2015-16</td>\n",
       "      <td>13</td>\n",
       "      <td>NAGALAND</td>\n",
       "      <td>11</td>\n",
       "      <td>47</td>\n",
       "      <td>1478</td>\n",
       "      <td>125</td>\n",
       "      <td>1981</td>\n",
       "      <td>17.31</td>\n",
       "      <td>14.44</td>\n",
       "      <td>...</td>\n",
       "      <td>233</td>\n",
       "      <td>21056</td>\n",
       "      <td>1454</td>\n",
       "      <td>6588</td>\n",
       "      <td>6152</td>\n",
       "      <td>1772</td>\n",
       "      <td>167</td>\n",
       "      <td>256</td>\n",
       "      <td>3639</td>\n",
       "      <td>781</td>\n",
       "    </tr>\n",
       "  </tbody>\n",
       "</table>\n",
       "<p>1 rows × 816 columns</p>\n",
       "</div>"
      ],
      "text/plain": [
       "    AC_YEAR  STATCD  STATNAME  DISTRICTS  BLOCKS  VILLAGES  CLUSTERS  \\\n",
       "12  2015-16      13  NAGALAND         11      47      1478       125   \n",
       "\n",
       "    TOTPOPULAT  P_URB_POP  POPULATION_0_6  ...  USCR35  NOTCH_ASS  TCHINV  \\\n",
       "12        1981      17.31           14.44  ...     233      21056    1454   \n",
       "\n",
       "    TOTCLS1G  TOTCLS2G  TOTCLS3G  TOTCLS4G  TOTCLS5G  TOTCLS6G  TOTCLS7G  \n",
       "12      6588      6152      1772       167       256      3639       781  \n",
       "\n",
       "[1 rows x 816 columns]"
      ]
     },
     "execution_count": 60,
     "metadata": {},
     "output_type": "execute_result"
    }
   ],
   "source": []
  },
  {
   "cell_type": "code",
   "execution_count": null,
   "metadata": {},
   "outputs": [],
   "source": []
  },
  {
   "cell_type": "code",
   "execution_count": null,
   "metadata": {},
   "outputs": [],
   "source": []
  },
  {
   "cell_type": "code",
   "execution_count": null,
   "metadata": {},
   "outputs": [],
   "source": []
  },
  {
   "cell_type": "code",
   "execution_count": 47,
   "metadata": {},
   "outputs": [
    {
     "data": {
      "text/html": [
       "<div>\n",
       "<style scoped>\n",
       "    .dataframe tbody tr th:only-of-type {\n",
       "        vertical-align: middle;\n",
       "    }\n",
       "\n",
       "    .dataframe tbody tr th {\n",
       "        vertical-align: top;\n",
       "    }\n",
       "\n",
       "    .dataframe thead th {\n",
       "        text-align: right;\n",
       "    }\n",
       "</style>\n",
       "<table border=\"1\" class=\"dataframe\">\n",
       "  <thead>\n",
       "    <tr style=\"text-align: right;\">\n",
       "      <th></th>\n",
       "      <th>OVERALL_LI</th>\n",
       "    </tr>\n",
       "    <tr>\n",
       "      <th>STATNAME</th>\n",
       "      <th></th>\n",
       "    </tr>\n",
       "  </thead>\n",
       "  <tbody>\n",
       "    <tr>\n",
       "      <th>KERALA</th>\n",
       "      <td>93.91</td>\n",
       "    </tr>\n",
       "    <tr>\n",
       "      <th>LAKSHADWEEP</th>\n",
       "      <td>92.28</td>\n",
       "    </tr>\n",
       "    <tr>\n",
       "      <th>MIZORAM</th>\n",
       "      <td>91.58</td>\n",
       "    </tr>\n",
       "    <tr>\n",
       "      <th>TRIPURA</th>\n",
       "      <td>87.75</td>\n",
       "    </tr>\n",
       "    <tr>\n",
       "      <th>GOA</th>\n",
       "      <td>87.40</td>\n",
       "    </tr>\n",
       "  </tbody>\n",
       "</table>\n",
       "</div>"
      ],
      "text/plain": [
       "             OVERALL_LI\n",
       "STATNAME               \n",
       "KERALA            93.91\n",
       "LAKSHADWEEP       92.28\n",
       "MIZORAM           91.58\n",
       "TRIPURA           87.75\n",
       "GOA               87.40"
      ]
     },
     "execution_count": 47,
     "metadata": {},
     "output_type": "execute_result"
    }
   ],
   "source": [
    "se_li=se.copy()[['STATNAME','OVERALL_LI']]\n",
    "lit=se_li.groupby(['STATNAME']).mean()\n",
    "lit=lit.sort_values('OVERALL_LI',ascending=False)\n",
    "lit.head()"
   ]
  },
  {
   "cell_type": "code",
   "execution_count": 5,
   "metadata": {},
   "outputs": [
    {
     "data": {
      "image/png": "[encoded data removed]",
      "text/plain": [
       "<Figure size 1080x720 with 1 Axes>"
      ]
     },
     "metadata": {
      "needs_background": "light"
     },
     "output_type": "display_data"
    }
   ],
   "source": [
    "lit.plot.barh(figsize=(15,10))\n",
    "plt.show()"
   ]
  },
  {
   "cell_type": "markdown",
   "metadata": {},
   "source": [
    "### If unable to view the generated plots, [Click here](https://nbviewer.jupyter.org/github/rishabh-runwal/education-india/blob/master/Education-India.ipynb)"
   ]
  },
  {
   "cell_type": "code",
   "execution_count": 126,
   "metadata": {},
   "outputs": [
    {
     "data": {
      "application/vnd.plotly.v1+json": {
       "config": {
        "plotlyServerURL": "https://plot.ly"
       },
       "data": [
        {
         "marker": {
          "color": "indianred"
         },
         "name": "Male Literacy",
         "type": "bar",
         "x": [
          "KERALA",
          "MIZORAM",
          "LAKSHADWEEP",
          "TRIPURA",
          "A & N ISLANDS",
          "GOA",
          "CHANDIGARH",
          "PUDUCHERRY",
          "DELHI",
          "DAMAN & DIU",
          "NAGALAND",
          "HIMACHAL PRADESH",
          "SIKKIM",
          "MAHARASHTRA",
          "TAMIL NADU",
          "MEGHALAYA",
          "MANIPUR",
          "PUNJAB",
          "WEST BENGAL",
          "GUJARAT",
          "UTTARAKHAND",
          "KARNATAKA",
          "ASSAM",
          "HARYANA",
          "DADRA & NAGAR HAVELI",
          "ODISHA",
          "CHHATTISGARH",
          "MADHYA PRADESH",
          "ANDHRA PRADESH",
          "ARUNACHAL PRADESH",
          "UTTAR PRADESH",
          "JAMMU & KASHMIR",
          "TELANGANA",
          "JHARKHAND",
          "BIHAR",
          "RAJASTHAN"
         ],
         "y": [
          96.02,
          93.72,
          96.11,
          92.18,
          90.11,
          92.81,
          90.54,
          92.12,
          91.03,
          91.48,
          83.29,
          90.83,
          87.29,
          89.82,
          86.81,
          77.17,
          86.49,
          81.48,
          82.67,
          87.23,
          88.33,
          82.85,
          78.81,
          85.38,
          86.46,
          82.4,
          81.45,
          80.53,
          75.56,
          73.69,
          79.24,
          78.26,
          74.95,
          78.45,
          73.39,
          80.51
         ]
        },
        {
         "marker": {
          "color": "saddlebrown"
         },
         "name": "Female Literacy",
         "type": "bar",
         "x": [
          "KERALA",
          "MIZORAM",
          "LAKSHADWEEP",
          "TRIPURA",
          "A & N ISLANDS",
          "GOA",
          "CHANDIGARH",
          "PUDUCHERRY",
          "DELHI",
          "DAMAN & DIU",
          "NAGALAND",
          "HIMACHAL PRADESH",
          "SIKKIM",
          "MAHARASHTRA",
          "TAMIL NADU",
          "MEGHALAYA",
          "MANIPUR",
          "PUNJAB",
          "WEST BENGAL",
          "GUJARAT",
          "UTTARAKHAND",
          "KARNATAKA",
          "ASSAM",
          "HARYANA",
          "DADRA & NAGAR HAVELI",
          "ODISHA",
          "CHHATTISGARH",
          "MADHYA PRADESH",
          "ANDHRA PRADESH",
          "ARUNACHAL PRADESH",
          "UTTAR PRADESH",
          "JAMMU & KASHMIR",
          "TELANGANA",
          "JHARKHAND",
          "BIHAR",
          "RAJASTHAN"
         ],
         "y": [
          91.98,
          89.4,
          88.25,
          83.15,
          81.84,
          81.84,
          81.38,
          81.22,
          80.93,
          79.59,
          76.69,
          76.6,
          76.43,
          75.48,
          73.86,
          73.78,
          73.17,
          71.34,
          71.16,
          70.73,
          70.7,
          68.13,
          67.27,
          66.77,
          65.93,
          64.36,
          60.59,
          60.02,
          59.74,
          59.57,
          59.26,
          58.01,
          57.92,
          56.21,
          53.33,
          52.66
         ]
        }
       ],
       "layout": {
        "template": {
         "data": {
          "bar": [
           {
            "error_x": {
             "color": "#2a3f5f"
            },
            "error_y": {
             "color": "#2a3f5f"
            },
            "marker": {
             "line": {
              "color": "#E5ECF6",
              "width": 0.5
             }
            },
            "type": "bar"
           }
          ],
          "barpolar": [
           {
            "marker": {
             "line": {
              "color": "#E5ECF6",
              "width": 0.5
             }
            },
            "type": "barpolar"
           }
          ],
          "carpet": [
           {
            "aaxis": {
             "endlinecolor": "#2a3f5f",
             "gridcolor": "white",
             "linecolor": "white",
             "minorgridcolor": "white",
             "startlinecolor": "#2a3f5f"
            },
            "baxis": {
             "endlinecolor": "#2a3f5f",
             "gridcolor": "white",
             "linecolor": "white",
             "minorgridcolor": "white",
             "startlinecolor": "#2a3f5f"
            },
            "type": "carpet"
           }
          ],
          "choropleth": [
           {
            "colorbar": {
             "outlinewidth": 0,
             "ticks": ""
            },
            "type": "choropleth"
           }
          ],
          "contour": [
           {
            "colorbar": {
             "outlinewidth": 0,
             "ticks": ""
            },
            "colorscale": [
             [
              0,
              "#0d0887"
             ],
             [
              0.1111111111111111,
              "#46039f"
             ],
             [
              0.2222222222222222,
              "#7201a8"
             ],
             [
              0.3333333333333333,
              "#9c179e"
             ],
             [
              0.4444444444444444,
              "#bd3786"
             ],
             [
              0.5555555555555556,
              "#d8576b"
             ],
             [
              0.6666666666666666,
              "#ed7953"
             ],
             [
              0.7777777777777778,
              "#fb9f3a"
             ],
             [
              0.8888888888888888,
              "#fdca26"
             ],
             [
              1,
              "#f0f921"
             ]
            ],
            "type": "contour"
           }
          ],
          "contourcarpet": [
           {
            "colorbar": {
             "outlinewidth": 0,
             "ticks": ""
            },
            "type": "contourcarpet"
           }
          ],
          "heatmap": [
           {
            "colorbar": {
             "outlinewidth": 0,
             "ticks": ""
            },
            "colorscale": [
             [
              0,
              "#0d0887"
             ],
             [
              0.1111111111111111,
              "#46039f"
             ],
             [
              0.2222222222222222,
              "#7201a8"
             ],
             [
              0.3333333333333333,
              "#9c179e"
             ],
             [
              0.4444444444444444,
              "#bd3786"
             ],
             [
              0.5555555555555556,
              "#d8576b"
             ],
             [
              0.6666666666666666,
              "#ed7953"
             ],
             [
              0.7777777777777778,
              "#fb9f3a"
             ],
             [
              0.8888888888888888,
              "#fdca26"
             ],
             [
              1,
              "#f0f921"
             ]
            ],
            "type": "heatmap"
           }
          ],
          "heatmapgl": [
           {
            "colorbar": {
             "outlinewidth": 0,
             "ticks": ""
            },
            "colorscale": [
             [
              0,
              "#0d0887"
             ],
             [
              0.1111111111111111,
              "#46039f"
             ],
             [
              0.2222222222222222,
              "#7201a8"
             ],
             [
              0.3333333333333333,
              "#9c179e"
             ],
             [
              0.4444444444444444,
              "#bd3786"
             ],
             [
              0.5555555555555556,
              "#d8576b"
             ],
             [
              0.6666666666666666,
              "#ed7953"
             ],
             [
              0.7777777777777778,
              "#fb9f3a"
             ],
             [
              0.8888888888888888,
              "#fdca26"
             ],
             [
              1,
              "#f0f921"
             ]
            ],
            "type": "heatmapgl"
           }
          ],
          "histogram": [
           {
            "marker": {
             "colorbar": {
              "outlinewidth": 0,
              "ticks": ""
             }
            },
            "type": "histogram"
           }
          ],
          "histogram2d": [
           {
            "colorbar": {
             "outlinewidth": 0,
             "ticks": ""
            },
            "colorscale": [
             [
              0,
              "#0d0887"
             ],
             [
              0.1111111111111111,
              "#46039f"
             ],
             [
              0.2222222222222222,
              "#7201a8"
             ],
             [
              0.3333333333333333,
              "#9c179e"
             ],
             [
              0.4444444444444444,
              "#bd3786"
             ],
             [
              0.5555555555555556,
              "#d8576b"
             ],
             [
              0.6666666666666666,
              "#ed7953"
             ],
             [
              0.7777777777777778,
              "#fb9f3a"
             ],
             [
              0.8888888888888888,
              "#fdca26"
             ],
             [
              1,
              "#f0f921"
             ]
            ],
            "type": "histogram2d"
           }
          ],
          "histogram2dcontour": [
           {
            "colorbar": {
             "outlinewidth": 0,
             "ticks": ""
            },
            "colorscale": [
             [
              0,
              "#0d0887"
             ],
             [
              0.1111111111111111,
              "#46039f"
             ],
             [
              0.2222222222222222,
              "#7201a8"
             ],
             [
              0.3333333333333333,
              "#9c179e"
             ],
             [
              0.4444444444444444,
              "#bd3786"
             ],
             [
              0.5555555555555556,
              "#d8576b"
             ],
             [
              0.6666666666666666,
              "#ed7953"
             ],
             [
              0.7777777777777778,
              "#fb9f3a"
             ],
             [
              0.8888888888888888,
              "#fdca26"
             ],
             [
              1,
              "#f0f921"
             ]
            ],
            "type": "histogram2dcontour"
           }
          ],
          "mesh3d": [
           {
            "colorbar": {
             "outlinewidth": 0,
             "ticks": ""
            },
            "type": "mesh3d"
           }
          ],
          "parcoords": [
           {
            "line": {
             "colorbar": {
              "outlinewidth": 0,
              "ticks": ""
             }
            },
            "type": "parcoords"
           }
          ],
          "pie": [
           {
            "automargin": true,
            "type": "pie"
           }
          ],
          "scatter": [
           {
            "marker": {
             "colorbar": {
              "outlinewidth": 0,
              "ticks": ""
             }
            },
            "type": "scatter"
           }
          ],
          "scatter3d": [
           {
            "line": {
             "colorbar": {
              "outlinewidth": 0,
              "ticks": ""
             }
            },
            "marker": {
             "colorbar": {
              "outlinewidth": 0,
              "ticks": ""
             }
            },
            "type": "scatter3d"
           }
          ],
          "scattercarpet": [
           {
            "marker": {
             "colorbar": {
              "outlinewidth": 0,
              "ticks": ""
             }
            },
            "type": "scattercarpet"
           }
          ],
          "scattergeo": [
           {
            "marker": {
             "colorbar": {
              "outlinewidth": 0,
              "ticks": ""
             }
            },
            "type": "scattergeo"
           }
          ],
          "scattergl": [
           {
            "marker": {
             "colorbar": {
              "outlinewidth": 0,
              "ticks": ""
             }
            },
            "type": "scattergl"
           }
          ],
          "scattermapbox": [
           {
            "marker": {
             "colorbar": {
              "outlinewidth": 0,
              "ticks": ""
             }
            },
            "type": "scattermapbox"
           }
          ],
          "scatterpolar": [
           {
            "marker": {
             "colorbar": {
              "outlinewidth": 0,
              "ticks": ""
             }
            },
            "type": "scatterpolar"
           }
          ],
          "scatterpolargl": [
           {
            "marker": {
             "colorbar": {
              "outlinewidth": 0,
              "ticks": ""
             }
            },
            "type": "scatterpolargl"
           }
          ],
          "scatterternary": [
           {
            "marker": {
             "colorbar": {
              "outlinewidth": 0,
              "ticks": ""
             }
            },
            "type": "scatterternary"
           }
          ],
          "surface": [
           {
            "colorbar": {
             "outlinewidth": 0,
             "ticks": ""
            },
            "colorscale": [
             [
              0,
              "#0d0887"
             ],
             [
              0.1111111111111111,
              "#46039f"
             ],
             [
              0.2222222222222222,
              "#7201a8"
             ],
             [
              0.3333333333333333,
              "#9c179e"
             ],
             [
              0.4444444444444444,
              "#bd3786"
             ],
             [
              0.5555555555555556,
              "#d8576b"
             ],
             [
              0.6666666666666666,
              "#ed7953"
             ],
             [
              0.7777777777777778,
              "#fb9f3a"
             ],
             [
              0.8888888888888888,
              "#fdca26"
             ],
             [
              1,
              "#f0f921"
             ]
            ],
            "type": "surface"
           }
          ],
          "table": [
           {
            "cells": {
             "fill": {
              "color": "#EBF0F8"
             },
             "line": {
              "color": "white"
             }
            },
            "header": {
             "fill": {
              "color": "#C8D4E3"
             },
             "line": {
              "color": "white"
             }
            },
            "type": "table"
           }
          ]
         },
         "layout": {
          "annotationdefaults": {
           "arrowcolor": "#2a3f5f",
           "arrowhead": 0,
           "arrowwidth": 1
          },
          "coloraxis": {
           "colorbar": {
            "outlinewidth": 0,
            "ticks": ""
           }
          },
          "colorscale": {
           "diverging": [
            [
             0,
             "#8e0152"
            ],
            [
             0.1,
             "#c51b7d"
            ],
            [
             0.2,
             "#de77ae"
            ],
            [
             0.3,
             "#f1b6da"
            ],
            [
             0.4,
             "#fde0ef"
            ],
            [
             0.5,
             "#f7f7f7"
            ],
            [
             0.6,
             "#e6f5d0"
            ],
            [
             0.7,
             "#b8e186"
            ],
            [
             0.8,
             "#7fbc41"
            ],
            [
             0.9,
             "#4d9221"
            ],
            [
             1,
             "#276419"
            ]
           ],
           "sequential": [
            [
             0,
             "#0d0887"
            ],
            [
             0.1111111111111111,
             "#46039f"
            ],
            [
             0.2222222222222222,
             "#7201a8"
            ],
            [
             0.3333333333333333,
             "#9c179e"
            ],
            [
             0.4444444444444444,
             "#bd3786"
            ],
            [
             0.5555555555555556,
             "#d8576b"
            ],
            [
             0.6666666666666666,
             "#ed7953"
            ],
            [
             0.7777777777777778,
             "#fb9f3a"
            ],
            [
             0.8888888888888888,
             "#fdca26"
            ],
            [
             1,
             "#f0f921"
            ]
           ],
           "sequentialminus": [
            [
             0,
             "#0d0887"
            ],
            [
             0.1111111111111111,
             "#46039f"
            ],
            [
             0.2222222222222222,
             "#7201a8"
            ],
            [
             0.3333333333333333,
             "#9c179e"
            ],
            [
             0.4444444444444444,
             "#bd3786"
            ],
            [
             0.5555555555555556,
             "#d8576b"
            ],
            [
             0.6666666666666666,
             "#ed7953"
            ],
            [
             0.7777777777777778,
             "#fb9f3a"
            ],
            [
             0.8888888888888888,
             "#fdca26"
            ],
            [
             1,
             "#f0f921"
            ]
           ]
          },
          "colorway": [
           "#636efa",
           "#EF553B",
           "#00cc96",
           "#ab63fa",
           "#FFA15A",
           "#19d3f3",
           "#FF6692",
           "#B6E880",
           "#FF97FF",
           "#FECB52"
          ],
          "font": {
           "color": "#2a3f5f"
          },
          "geo": {
           "bgcolor": "white",
           "lakecolor": "white",
           "landcolor": "#E5ECF6",
           "showlakes": true,
           "showland": true,
           "subunitcolor": "white"
          },
          "hoverlabel": {
           "align": "left"
          },
          "hovermode": "closest",
          "mapbox": {
           "style": "light"
          },
          "paper_bgcolor": "white",
          "plot_bgcolor": "#E5ECF6",
          "polar": {
           "angularaxis": {
            "gridcolor": "white",
            "linecolor": "white",
            "ticks": ""
           },
           "bgcolor": "#E5ECF6",
           "radialaxis": {
            "gridcolor": "white",
            "linecolor": "white",
            "ticks": ""
           }
          },
          "scene": {
           "xaxis": {
            "backgroundcolor": "#E5ECF6",
            "gridcolor": "white",
            "gridwidth": 2,
            "linecolor": "white",
            "showbackground": true,
            "ticks": "",
            "zerolinecolor": "white"
           },
           "yaxis": {
            "backgroundcolor": "#E5ECF6",
            "gridcolor": "white",
            "gridwidth": 2,
            "linecolor": "white",
            "showbackground": true,
            "ticks": "",
            "zerolinecolor": "white"
           },
           "zaxis": {
            "backgroundcolor": "#E5ECF6",
            "gridcolor": "white",
            "gridwidth": 2,
            "linecolor": "white",
            "showbackground": true,
            "ticks": "",
            "zerolinecolor": "white"
           }
          },
          "shapedefaults": {
           "line": {
            "color": "#2a3f5f"
           }
          },
          "ternary": {
           "aaxis": {
            "gridcolor": "white",
            "linecolor": "white",
            "ticks": ""
           },
           "baxis": {
            "gridcolor": "white",
            "linecolor": "white",
            "ticks": ""
           },
           "bgcolor": "#E5ECF6",
           "caxis": {
            "gridcolor": "white",
            "linecolor": "white",
            "ticks": ""
           }
          },
          "title": {
           "x": 0.05
          },
          "xaxis": {
           "automargin": true,
           "gridcolor": "white",
           "linecolor": "white",
           "ticks": "",
           "title": {
            "standoff": 15
           },
           "zerolinecolor": "white",
           "zerolinewidth": 2
          },
          "yaxis": {
           "automargin": true,
           "gridcolor": "white",
           "linecolor": "white",
           "ticks": "",
           "title": {
            "standoff": 15
           },
           "zerolinecolor": "white",
           "zerolinewidth": 2
          }
         }
        }
       }
      },
      "text/html": [
       "<div>\n",
       "        \n",
       "        \n",
       "            <div id=\"10d00afc-542e-4981-b005-5efbeb0cff49\" class=\"plotly-graph-div\" style=\"height:525px; width:100%;\"></div>\n",
       "            <script type=\"text/javascript\">\n",
       "                require([\"plotly\"], function(Plotly) {\n",
       "                    window.PLOTLYENV=window.PLOTLYENV || {};\n",
       "                    \n",
       "                if (document.getElementById(\"10d00afc-542e-4981-b005-5efbeb0cff49\")) {\n",
       "                    Plotly.newPlot(\n",
       "                        '10d00afc-542e-4981-b005-5efbeb0cff49',\n",
       "                        [{\"marker\": {\"color\": \"indianred\"}, \"name\": \"Male Literacy\", \"type\": \"bar\", \"x\": [\"KERALA\", \"MIZORAM\", \"LAKSHADWEEP\", \"TRIPURA\", \"A & N ISLANDS\", \"GOA\", \"CHANDIGARH\", \"PUDUCHERRY\", \"DELHI\", \"DAMAN & DIU\", \"NAGALAND\", \"HIMACHAL PRADESH\", \"SIKKIM\", \"MAHARASHTRA\", \"TAMIL NADU\", \"MEGHALAYA\", \"MANIPUR\", \"PUNJAB\", \"WEST BENGAL\", \"GUJARAT\", \"UTTARAKHAND\", \"KARNATAKA\", \"ASSAM\", \"HARYANA\", \"DADRA & NAGAR HAVELI\", \"ODISHA\", \"CHHATTISGARH\", \"MADHYA PRADESH\", \"ANDHRA PRADESH\", \"ARUNACHAL PRADESH\", \"UTTAR PRADESH\", \"JAMMU & KASHMIR\", \"TELANGANA\", \"JHARKHAND\", \"BIHAR\", \"RAJASTHAN\"], \"y\": [96.02, 93.72, 96.11, 92.18, 90.11, 92.81, 90.54, 92.12, 91.03, 91.48, 83.29, 90.83, 87.29, 89.82, 86.81, 77.17, 86.49, 81.48, 82.67, 87.23, 88.33, 82.85, 78.81, 85.38, 86.46, 82.4, 81.45, 80.53, 75.56, 73.69, 79.24, 78.26, 74.95, 78.45, 73.39, 80.51]}, {\"marker\": {\"color\": \"saddlebrown\"}, \"name\": \"Female Literacy\", \"type\": \"bar\", \"x\": [\"KERALA\", \"MIZORAM\", \"LAKSHADWEEP\", \"TRIPURA\", \"A & N ISLANDS\", \"GOA\", \"CHANDIGARH\", \"PUDUCHERRY\", \"DELHI\", \"DAMAN & DIU\", \"NAGALAND\", \"HIMACHAL PRADESH\", \"SIKKIM\", \"MAHARASHTRA\", \"TAMIL NADU\", \"MEGHALAYA\", \"MANIPUR\", \"PUNJAB\", \"WEST BENGAL\", \"GUJARAT\", \"UTTARAKHAND\", \"KARNATAKA\", \"ASSAM\", \"HARYANA\", \"DADRA & NAGAR HAVELI\", \"ODISHA\", \"CHHATTISGARH\", \"MADHYA PRADESH\", \"ANDHRA PRADESH\", \"ARUNACHAL PRADESH\", \"UTTAR PRADESH\", \"JAMMU & KASHMIR\", \"TELANGANA\", \"JHARKHAND\", \"BIHAR\", \"RAJASTHAN\"], \"y\": [91.98, 89.4, 88.25, 83.15, 81.84, 81.84, 81.38, 81.22, 80.93, 79.59, 76.69, 76.6, 76.43, 75.48, 73.86, 73.78, 73.17, 71.34, 71.16, 70.73, 70.7, 68.13, 67.27, 66.77, 65.93, 64.36, 60.59, 60.02, 59.74, 59.57, 59.26, 58.01, 57.92, 56.21, 53.33, 52.66]}],\n",
       "                        {\"template\": {\"data\": {\"bar\": [{\"error_x\": {\"color\": \"#2a3f5f\"}, \"error_y\": {\"color\": \"#2a3f5f\"}, \"marker\": {\"line\": {\"color\": \"#E5ECF6\", \"width\": 0.5}}, \"type\": \"bar\"}], \"barpolar\": [{\"marker\": {\"line\": {\"color\": \"#E5ECF6\", \"width\": 0.5}}, \"type\": \"barpolar\"}], \"carpet\": [{\"aaxis\": {\"endlinecolor\": \"#2a3f5f\", \"gridcolor\": \"white\", \"linecolor\": \"white\", \"minorgridcolor\": \"white\", \"startlinecolor\": \"#2a3f5f\"}, \"baxis\": {\"endlinecolor\": \"#2a3f5f\", \"gridcolor\": \"white\", \"linecolor\": \"white\", \"minorgridcolor\": \"white\", \"startlinecolor\": \"#2a3f5f\"}, \"type\": \"carpet\"}], \"choropleth\": [{\"colorbar\": {\"outlinewidth\": 0, \"ticks\": \"\"}, \"type\": \"choropleth\"}], \"contour\": [{\"colorbar\": {\"outlinewidth\": 0, \"ticks\": \"\"}, \"colorscale\": [[0.0, \"#0d0887\"], [0.1111111111111111, \"#46039f\"], [0.2222222222222222, \"#7201a8\"], [0.3333333333333333, \"#9c179e\"], [0.4444444444444444, \"#bd3786\"], [0.5555555555555556, \"#d8576b\"], [0.6666666666666666, \"#ed7953\"], [0.7777777777777778, \"#fb9f3a\"], [0.8888888888888888, \"#fdca26\"], [1.0, \"#f0f921\"]], \"type\": \"contour\"}], \"contourcarpet\": [{\"colorbar\": {\"outlinewidth\": 0, \"ticks\": \"\"}, \"type\": \"contourcarpet\"}], \"heatmap\": [{\"colorbar\": {\"outlinewidth\": 0, \"ticks\": \"\"}, \"colorscale\": [[0.0, \"#0d0887\"], [0.1111111111111111, \"#46039f\"], [0.2222222222222222, \"#7201a8\"], [0.3333333333333333, \"#9c179e\"], [0.4444444444444444, \"#bd3786\"], [0.5555555555555556, \"#d8576b\"], [0.6666666666666666, \"#ed7953\"], [0.7777777777777778, \"#fb9f3a\"], [0.8888888888888888, \"#fdca26\"], [1.0, \"#f0f921\"]], \"type\": \"heatmap\"}], \"heatmapgl\": [{\"colorbar\": {\"outlinewidth\": 0, \"ticks\": \"\"}, \"colorscale\": [[0.0, \"#0d0887\"], [0.1111111111111111, \"#46039f\"], [0.2222222222222222, \"#7201a8\"], [0.3333333333333333, \"#9c179e\"], [0.4444444444444444, \"#bd3786\"], [0.5555555555555556, \"#d8576b\"], [0.6666666666666666, \"#ed7953\"], [0.7777777777777778, \"#fb9f3a\"], [0.8888888888888888, \"#fdca26\"], [1.0, \"#f0f921\"]], \"type\": \"heatmapgl\"}], \"histogram\": [{\"marker\": {\"colorbar\": {\"outlinewidth\": 0, \"ticks\": \"\"}}, \"type\": \"histogram\"}], \"histogram2d\": [{\"colorbar\": {\"outlinewidth\": 0, \"ticks\": \"\"}, \"colorscale\": [[0.0, \"#0d0887\"], [0.1111111111111111, \"#46039f\"], [0.2222222222222222, \"#7201a8\"], [0.3333333333333333, \"#9c179e\"], [0.4444444444444444, \"#bd3786\"], [0.5555555555555556, \"#d8576b\"], [0.6666666666666666, \"#ed7953\"], [0.7777777777777778, \"#fb9f3a\"], [0.8888888888888888, \"#fdca26\"], [1.0, \"#f0f921\"]], \"type\": \"histogram2d\"}], \"histogram2dcontour\": [{\"colorbar\": {\"outlinewidth\": 0, \"ticks\": \"\"}, \"colorscale\": [[0.0, \"#0d0887\"], [0.1111111111111111, \"#46039f\"], [0.2222222222222222, \"#7201a8\"], [0.3333333333333333, \"#9c179e\"], [0.4444444444444444, \"#bd3786\"], [0.5555555555555556, \"#d8576b\"], [0.6666666666666666, \"#ed7953\"], [0.7777777777777778, \"#fb9f3a\"], [0.8888888888888888, \"#fdca26\"], [1.0, \"#f0f921\"]], \"type\": \"histogram2dcontour\"}], \"mesh3d\": [{\"colorbar\": {\"outlinewidth\": 0, \"ticks\": \"\"}, \"type\": \"mesh3d\"}], \"parcoords\": [{\"line\": {\"colorbar\": {\"outlinewidth\": 0, \"ticks\": \"\"}}, \"type\": \"parcoords\"}], \"pie\": [{\"automargin\": true, \"type\": \"pie\"}], \"scatter\": [{\"marker\": {\"colorbar\": {\"outlinewidth\": 0, \"ticks\": \"\"}}, \"type\": \"scatter\"}], \"scatter3d\": [{\"line\": {\"colorbar\": {\"outlinewidth\": 0, \"ticks\": \"\"}}, \"marker\": {\"colorbar\": {\"outlinewidth\": 0, \"ticks\": \"\"}}, \"type\": \"scatter3d\"}], \"scattercarpet\": [{\"marker\": {\"colorbar\": {\"outlinewidth\": 0, \"ticks\": \"\"}}, \"type\": \"scattercarpet\"}], \"scattergeo\": [{\"marker\": {\"colorbar\": {\"outlinewidth\": 0, \"ticks\": \"\"}}, \"type\": \"scattergeo\"}], \"scattergl\": [{\"marker\": {\"colorbar\": {\"outlinewidth\": 0, \"ticks\": \"\"}}, \"type\": \"scattergl\"}], \"scattermapbox\": [{\"marker\": {\"colorbar\": {\"outlinewidth\": 0, \"ticks\": \"\"}}, \"type\": \"scattermapbox\"}], \"scatterpolar\": [{\"marker\": {\"colorbar\": {\"outlinewidth\": 0, \"ticks\": \"\"}}, \"type\": \"scatterpolar\"}], \"scatterpolargl\": [{\"marker\": {\"colorbar\": {\"outlinewidth\": 0, \"ticks\": \"\"}}, \"type\": \"scatterpolargl\"}], \"scatterternary\": [{\"marker\": {\"colorbar\": {\"outlinewidth\": 0, \"ticks\": \"\"}}, \"type\": \"scatterternary\"}], \"surface\": [{\"colorbar\": {\"outlinewidth\": 0, \"ticks\": \"\"}, \"colorscale\": [[0.0, \"#0d0887\"], [0.1111111111111111, \"#46039f\"], [0.2222222222222222, \"#7201a8\"], [0.3333333333333333, \"#9c179e\"], [0.4444444444444444, \"#bd3786\"], [0.5555555555555556, \"#d8576b\"], [0.6666666666666666, \"#ed7953\"], [0.7777777777777778, \"#fb9f3a\"], [0.8888888888888888, \"#fdca26\"], [1.0, \"#f0f921\"]], \"type\": \"surface\"}], \"table\": [{\"cells\": {\"fill\": {\"color\": \"#EBF0F8\"}, \"line\": {\"color\": \"white\"}}, \"header\": {\"fill\": {\"color\": \"#C8D4E3\"}, \"line\": {\"color\": \"white\"}}, \"type\": \"table\"}]}, \"layout\": {\"annotationdefaults\": {\"arrowcolor\": \"#2a3f5f\", \"arrowhead\": 0, \"arrowwidth\": 1}, \"coloraxis\": {\"colorbar\": {\"outlinewidth\": 0, \"ticks\": \"\"}}, \"colorscale\": {\"diverging\": [[0, \"#8e0152\"], [0.1, \"#c51b7d\"], [0.2, \"#de77ae\"], [0.3, \"#f1b6da\"], [0.4, \"#fde0ef\"], [0.5, \"#f7f7f7\"], [0.6, \"#e6f5d0\"], [0.7, \"#b8e186\"], [0.8, \"#7fbc41\"], [0.9, \"#4d9221\"], [1, \"#276419\"]], \"sequential\": [[0.0, \"#0d0887\"], [0.1111111111111111, \"#46039f\"], [0.2222222222222222, \"#7201a8\"], [0.3333333333333333, \"#9c179e\"], [0.4444444444444444, \"#bd3786\"], [0.5555555555555556, \"#d8576b\"], [0.6666666666666666, \"#ed7953\"], [0.7777777777777778, \"#fb9f3a\"], [0.8888888888888888, \"#fdca26\"], [1.0, \"#f0f921\"]], \"sequentialminus\": [[0.0, \"#0d0887\"], [0.1111111111111111, \"#46039f\"], [0.2222222222222222, \"#7201a8\"], [0.3333333333333333, \"#9c179e\"], [0.4444444444444444, \"#bd3786\"], [0.5555555555555556, \"#d8576b\"], [0.6666666666666666, \"#ed7953\"], [0.7777777777777778, \"#fb9f3a\"], [0.8888888888888888, \"#fdca26\"], [1.0, \"#f0f921\"]]}, \"colorway\": [\"#636efa\", \"#EF553B\", \"#00cc96\", \"#ab63fa\", \"#FFA15A\", \"#19d3f3\", \"#FF6692\", \"#B6E880\", \"#FF97FF\", \"#FECB52\"], \"font\": {\"color\": \"#2a3f5f\"}, \"geo\": {\"bgcolor\": \"white\", \"lakecolor\": \"white\", \"landcolor\": \"#E5ECF6\", \"showlakes\": true, \"showland\": true, \"subunitcolor\": \"white\"}, \"hoverlabel\": {\"align\": \"left\"}, \"hovermode\": \"closest\", \"mapbox\": {\"style\": \"light\"}, \"paper_bgcolor\": \"white\", \"plot_bgcolor\": \"#E5ECF6\", \"polar\": {\"angularaxis\": {\"gridcolor\": \"white\", \"linecolor\": \"white\", \"ticks\": \"\"}, \"bgcolor\": \"#E5ECF6\", \"radialaxis\": {\"gridcolor\": \"white\", \"linecolor\": \"white\", \"ticks\": \"\"}}, \"scene\": {\"xaxis\": {\"backgroundcolor\": \"#E5ECF6\", \"gridcolor\": \"white\", \"gridwidth\": 2, \"linecolor\": \"white\", \"showbackground\": true, \"ticks\": \"\", \"zerolinecolor\": \"white\"}, \"yaxis\": {\"backgroundcolor\": \"#E5ECF6\", \"gridcolor\": \"white\", \"gridwidth\": 2, \"linecolor\": \"white\", \"showbackground\": true, \"ticks\": \"\", \"zerolinecolor\": \"white\"}, \"zaxis\": {\"backgroundcolor\": \"#E5ECF6\", \"gridcolor\": \"white\", \"gridwidth\": 2, \"linecolor\": \"white\", \"showbackground\": true, \"ticks\": \"\", \"zerolinecolor\": \"white\"}}, \"shapedefaults\": {\"line\": {\"color\": \"#2a3f5f\"}}, \"ternary\": {\"aaxis\": {\"gridcolor\": \"white\", \"linecolor\": \"white\", \"ticks\": \"\"}, \"baxis\": {\"gridcolor\": \"white\", \"linecolor\": \"white\", \"ticks\": \"\"}, \"bgcolor\": \"#E5ECF6\", \"caxis\": {\"gridcolor\": \"white\", \"linecolor\": \"white\", \"ticks\": \"\"}}, \"title\": {\"x\": 0.05}, \"xaxis\": {\"automargin\": true, \"gridcolor\": \"white\", \"linecolor\": \"white\", \"ticks\": \"\", \"title\": {\"standoff\": 15}, \"zerolinecolor\": \"white\", \"zerolinewidth\": 2}, \"yaxis\": {\"automargin\": true, \"gridcolor\": \"white\", \"linecolor\": \"white\", \"ticks\": \"\", \"title\": {\"standoff\": 15}, \"zerolinecolor\": \"white\", \"zerolinewidth\": 2}}}},\n",
       "                        {\"responsive\": true}\n",
       "                    ).then(function(){\n",
       "                            \n",
       "var gd = document.getElementById('10d00afc-542e-4981-b005-5efbeb0cff49');\n",
       "var x = new MutationObserver(function (mutations, observer) {{\n",
       "        var display = window.getComputedStyle(gd).display;\n",
       "        if (!display || display === 'none') {{\n",
       "            console.log([gd, 'removed!']);\n",
       "            Plotly.purge(gd);\n",
       "            observer.disconnect();\n",
       "        }}\n",
       "}});\n",
       "\n",
       "// Listen for the removal of the full notebook cells\n",
       "var notebookContainer = gd.closest('#notebook-container');\n",
       "if (notebookContainer) {{\n",
       "    x.observe(notebookContainer, {childList: true});\n",
       "}}\n",
       "\n",
       "// Listen for the clearing of the current output cell\n",
       "var outputEl = gd.closest('.output');\n",
       "if (outputEl) {{\n",
       "    x.observe(outputEl, {childList: true});\n",
       "}}\n",
       "\n",
       "                        })\n",
       "                };\n",
       "                });\n",
       "            </script>\n",
       "        </div>"
      ]
     },
     "metadata": {},
     "output_type": "display_data"
    }
   ],
   "source": [
    "fe_li=se.copy()[['STATNAME','FEMALE_LIT','MALE_LIT','OVERALL_LI']]\n",
    "fe_li=fe_li.sort_values('FEMALE_LIT',ascending=False).set_index('STATNAME')\n",
    "fig = go.Figure()\n",
    "# fig.add_trace(go.Bar(\n",
    "#     x=fe_li.index,\n",
    "#     y=fe_li['OVERALL_LI'],\n",
    "#     name='Total Literacy',\n",
    "#     marker_color='lightsalmon'\n",
    "# ))\n",
    "fig.add_trace(go.Bar(\n",
    "    x=fe_li.index,\n",
    "    y=fe_li['MALE_LIT'],\n",
    "    name='Male Literacy',\n",
    "    marker_color='indianred'\n",
    "))\n",
    "fig.add_trace(go.Bar(\n",
    "    x=fe_li.index,\n",
    "    y=fe_li['FEMALE_LIT'],\n",
    "    name='Female Literacy',\n",
    "    marker_color='saddlebrown'\n",
    "))\n",
    "\n",
    "\n",
    "fig.show()\n"
   ]
  },
  {
   "cell_type": "code",
   "execution_count": 128,
   "metadata": {},
   "outputs": [
    {
     "name": "stdout",
     "output_type": "stream",
     "text": [
      "Highest Female Literacy\n",
      "               FEMALE_LIT  MALE_LIT  OVERALL_LI\n",
      "STATNAME                                       \n",
      "KERALA              91.98     96.02       93.91\n",
      "MIZORAM             89.40     93.72       91.58\n",
      "LAKSHADWEEP         88.25     96.11       92.28\n",
      "TRIPURA             83.15     92.18       87.75\n",
      "A & N ISLANDS       81.84     90.11       86.27\n",
      "Lowest Female Literacy\n",
      "                 FEMALE_LIT  MALE_LIT  OVERALL_LI\n",
      "STATNAME                                         \n",
      "JAMMU & KASHMIR       58.01     78.26       68.74\n",
      "TELANGANA             57.92     74.95       66.46\n",
      "JHARKHAND             56.21     78.45       67.63\n",
      "BIHAR                 53.33     73.39       63.82\n",
      "RAJASTHAN             52.66     80.51       67.06\n",
      "Highest Overall Literacy\n",
      "             FEMALE_LIT  MALE_LIT  OVERALL_LI\n",
      "STATNAME                                     \n",
      "KERALA            91.98     96.02       93.91\n",
      "LAKSHADWEEP       88.25     96.11       92.28\n",
      "MIZORAM           89.40     93.72       91.58\n",
      "TRIPURA           83.15     92.18       87.75\n",
      "GOA               81.84     92.81       87.40\n",
      "Lowest Overall Literacy\n",
      "                   FEMALE_LIT  MALE_LIT  OVERALL_LI\n",
      "STATNAME                                           \n",
      "JHARKHAND               56.21     78.45       67.63\n",
      "RAJASTHAN               52.66     80.51       67.06\n",
      "ARUNACHAL PRADESH       59.57     73.69       66.95\n",
      "TELANGANA               57.92     74.95       66.46\n",
      "BIHAR                   53.33     73.39       63.82\n"
     ]
    }
   ],
   "source": [
    "print('Highest Female Literacy')\n",
    "print(fe_li.head())\n",
    "print('Lowest Female Literacy')\n",
    "print(fe_li.tail())\n",
    "ov_li=fe_li.sort_values('OVERALL_LI',ascending=False)\n",
    "print('Highest Overall Literacy')\n",
    "print(ov_li.head())\n",
    "print('Lowest Overall Literacy')\n",
    "print(ov_li.tail())"
   ]
  },
  {
   "cell_type": "code",
   "execution_count": 131,
   "metadata": {},
   "outputs": [
    {
     "data": {
      "text/html": [
       "<div>\n",
       "<style scoped>\n",
       "    .dataframe tbody tr th:only-of-type {\n",
       "        vertical-align: middle;\n",
       "    }\n",
       "\n",
       "    .dataframe tbody tr th {\n",
       "        vertical-align: top;\n",
       "    }\n",
       "\n",
       "    .dataframe thead th {\n",
       "        text-align: right;\n",
       "    }\n",
       "</style>\n",
       "<table border=\"1\" class=\"dataframe\">\n",
       "  <thead>\n",
       "    <tr style=\"text-align: right;\">\n",
       "      <th></th>\n",
       "      <th>LIT_DIF</th>\n",
       "    </tr>\n",
       "  </thead>\n",
       "  <tbody>\n",
       "    <tr>\n",
       "      <th>count</th>\n",
       "      <td>36.000000</td>\n",
       "    </tr>\n",
       "    <tr>\n",
       "      <th>mean</th>\n",
       "      <td>13.893611</td>\n",
       "    </tr>\n",
       "    <tr>\n",
       "      <th>std</th>\n",
       "      <td>5.679685</td>\n",
       "    </tr>\n",
       "    <tr>\n",
       "      <th>min</th>\n",
       "      <td>3.390000</td>\n",
       "    </tr>\n",
       "    <tr>\n",
       "      <th>25%</th>\n",
       "      <td>10.130000</td>\n",
       "    </tr>\n",
       "    <tr>\n",
       "      <th>50%</th>\n",
       "      <td>13.720000</td>\n",
       "    </tr>\n",
       "    <tr>\n",
       "      <th>75%</th>\n",
       "      <td>18.182500</td>\n",
       "    </tr>\n",
       "    <tr>\n",
       "      <th>max</th>\n",
       "      <td>27.850000</td>\n",
       "    </tr>\n",
       "  </tbody>\n",
       "</table>\n",
       "</div>"
      ],
      "text/plain": [
       "         LIT_DIF\n",
       "count  36.000000\n",
       "mean   13.893611\n",
       "std     5.679685\n",
       "min     3.390000\n",
       "25%    10.130000\n",
       "50%    13.720000\n",
       "75%    18.182500\n",
       "max    27.850000"
      ]
     },
     "execution_count": 131,
     "metadata": {},
     "output_type": "execute_result"
    }
   ],
   "source": [
    "li=se.copy()[['STATNAME','FEMALE_LIT','MALE_LIT','OVERALL_LI']]\n",
    "li['LIT_DIF']=li['MALE_LIT']-li['FEMALE_LIT']\n",
    "li=li.sort_values('OVERALL_LI').set_index('STATNAME')\n",
    "li.drop(['FEMALE_LIT','MALE_LIT', 'OVERALL_LI'], axis=1, inplace=True)\n",
    "li.describe()"
   ]
  },
  {
   "cell_type": "code",
   "execution_count": 49,
   "metadata": {},
   "outputs": [
    {
     "data": {
      "text/plain": [
       "LIT_DIF    13.893611\n",
       "dtype: float64"
      ]
     },
     "execution_count": 49,
     "metadata": {},
     "output_type": "execute_result"
    }
   ],
   "source": [
    "li.mean()"
   ]
  },
  {
   "cell_type": "code",
   "execution_count": 45,
   "metadata": {},
   "outputs": [
    {
     "data": {
      "text/plain": [
       "<matplotlib.axes._subplots.AxesSubplot at 0x1ce7b4098c8>"
      ]
     },
     "execution_count": 45,
     "metadata": {},
     "output_type": "execute_result"
    },
    {
     "data": {
      "image/png": "[encoded data removed]",
      "text/plain": [
       "<Figure size 432x288 with 1 Axes>"
      ]
     },
     "metadata": {
      "needs_background": "light"
     },
     "output_type": "display_data"
    }
   ],
   "source": [
    "li.iloc[[0,1,2,33,34,35]].plot.bar()"
   ]
  },
  {
   "cell_type": "code",
   "execution_count": 143,
   "metadata": {},
   "outputs": [
    {
     "data": {
      "text/plain": [
       "STATNAME\n",
       "NAGALAND              6.60\n",
       "MANIPUR              13.32\n",
       "MIZORAM               4.32\n",
       "ASSAM                11.54\n",
       "TRIPURA               9.03\n",
       "ARUNACHAL PRADESH    14.12\n",
       "MEGHALAYA             3.39\n",
       "SIKKIM               10.86\n",
       "Name: LIT_DIF, dtype: float64"
      ]
     },
     "execution_count": 143,
     "metadata": {},
     "output_type": "execute_result"
    }
   ],
   "source": [
    "north_east = ['NAGALAND','MANIPUR','MIZORAM','ASSAM','TRIPURA','ARUNACHAL PRADESH','MEGHALAYA','SIKKIM']\n",
    "ne_diff_lit = li.loc[north_east,'LIT_DIF' ]\n",
    "ne_diff_lit"
   ]
  },
  {
   "cell_type": "code",
   "execution_count": 144,
   "metadata": {},
   "outputs": [
    {
     "data": {
      "image/png": "[encoded data removed]",
      "text/plain": [
       "<Figure size 432x288 with 1 Axes>"
      ]
     },
     "metadata": {
      "needs_background": "light"
     },
     "output_type": "display_data"
    },
    {
     "name": "stdout",
     "output_type": "stream",
     "text": [
      "9.1475\n",
      "13.89361111111111\n"
     ]
    }
   ],
   "source": [
    "ne_diff_lit.plot.bar()\n",
    "plt.show()\n",
    "print(ne_diff_lit.mean())\n",
    "print(*li.mean())"
   ]
  },
  {
   "cell_type": "code",
   "execution_count": 147,
   "metadata": {},
   "outputs": [
    {
     "data": {
      "application/vnd.plotly.v1+json": {
       "config": {
        "plotlyServerURL": "https://plot.ly"
       },
       "data": [
        {
         "mode": "lines+markers",
         "name": "Grade 1",
         "type": "scatter",
         "x": [
          "A & N ISLANDS",
          "ANDHRA PRADESH",
          "ARUNACHAL PRADESH",
          "ASSAM",
          "BIHAR",
          "CHANDIGARH",
          "CHHATTISGARH",
          "DADRA & NAGAR HAVELI",
          "DAMAN & DIU",
          "DELHI",
          "GOA",
          "GUJARAT",
          "HARYANA",
          "HIMACHAL PRADESH",
          "JAMMU & KASHMIR",
          "JHARKHAND",
          "KARNATAKA",
          "KERALA",
          "LAKSHADWEEP",
          "MADHYA PRADESH",
          "MAHARASHTRA",
          "MANIPUR",
          "MEGHALAYA",
          "MIZORAM",
          "NAGALAND",
          "ODISHA",
          "PUDUCHERRY",
          "PUNJAB",
          "RAJASTHAN",
          "SIKKIM",
          "TAMIL NADU",
          "TELANGANA",
          "TRIPURA",
          "UTTAR PRADESH",
          "UTTARAKHAND",
          "WEST BENGAL"
         ],
         "y": [
          2086.333333333333,
          52872.69230769231,
          2861.2,
          33277.333333333336,
          89273.21052631579,
          15688,
          20978.59259259259,
          9102,
          1787.5,
          38255.33333333333,
          12685.5,
          34099.757575757576,
          21273.95238095238,
          9899.916666666666,
          13660.363636363636,
          40715.958333333336,
          33431.382352941175,
          35651.78571428571,
          927,
          31562.666666666668,
          56663.666666666664,
          8836.666666666668,
          13125.090909090908,
          4887,
          4620.909090909091,
          26485.733333333334,
          5192.5,
          23186.09090909091,
          61618.393939393936,
          2874.5,
          36652.1,
          72704.8,
          8328.75,
          71923.14666666667,
          18602.307692307695,
          80738.7619047619
         ]
        },
        {
         "mode": "lines+markers",
         "name": "Grade 2",
         "type": "scatter",
         "x": [
          "A & N ISLANDS",
          "ANDHRA PRADESH",
          "ARUNACHAL PRADESH",
          "ASSAM",
          "BIHAR",
          "CHANDIGARH",
          "CHHATTISGARH",
          "DADRA & NAGAR HAVELI",
          "DAMAN & DIU",
          "DELHI",
          "GOA",
          "GUJARAT",
          "HARYANA",
          "HIMACHAL PRADESH",
          "JAMMU & KASHMIR",
          "JHARKHAND",
          "KARNATAKA",
          "KERALA",
          "LAKSHADWEEP",
          "MADHYA PRADESH",
          "MAHARASHTRA",
          "MANIPUR",
          "MEGHALAYA",
          "MIZORAM",
          "NAGALAND",
          "ODISHA",
          "PUDUCHERRY",
          "PUNJAB",
          "RAJASTHAN",
          "SIKKIM",
          "TAMIL NADU",
          "TELANGANA",
          "TRIPURA",
          "UTTAR PRADESH",
          "UTTARAKHAND",
          "WEST BENGAL"
         ],
         "y": [
          2098.333333333333,
          55591.92307692308,
          2346,
          28126.333333333336,
          84066.73684210527,
          17782,
          20408.962962962964,
          7560,
          1880,
          41211.555555555555,
          12364,
          31328.696969696968,
          21905.04761904762,
          9729.5,
          11260.772727272728,
          36900,
          32457.73529411765,
          35032.92857142857,
          836,
          31996.333333333336,
          56035.77777777778,
          8322.333333333332,
          10367.727272727272,
          3670.75,
          4498.181818181818,
          27258.5,
          5193.25,
          22699.363636363636,
          50772.242424242424,
          2708.25,
          38705.9,
          64369.3,
          9113.125,
          67728.94666666667,
          17128.615384615387,
          78621.42857142858
         ]
        },
        {
         "mode": "lines+markers",
         "name": "Grade 3",
         "type": "scatter",
         "x": [
          "A & N ISLANDS",
          "ANDHRA PRADESH",
          "ARUNACHAL PRADESH",
          "ASSAM",
          "BIHAR",
          "CHANDIGARH",
          "CHHATTISGARH",
          "DADRA & NAGAR HAVELI",
          "DAMAN & DIU",
          "DELHI",
          "GOA",
          "GUJARAT",
          "HARYANA",
          "HIMACHAL PRADESH",
          "JAMMU & KASHMIR",
          "JHARKHAND",
          "KARNATAKA",
          "KERALA",
          "LAKSHADWEEP",
          "MADHYA PRADESH",
          "MAHARASHTRA",
          "MANIPUR",
          "MEGHALAYA",
          "MIZORAM",
          "NAGALAND",
          "ODISHA",
          "PUDUCHERRY",
          "PUNJAB",
          "RAJASTHAN",
          "SIKKIM",
          "TAMIL NADU",
          "TELANGANA",
          "TRIPURA",
          "UTTAR PRADESH",
          "UTTARAKHAND",
          "WEST BENGAL"
         ],
         "y": [
          2096,
          54998.53846153846,
          2091.95,
          26591.037037037036,
          86984.1052631579,
          19074,
          19899.444444444445,
          7618,
          1780,
          41990.22222222222,
          12285.5,
          34009.818181818184,
          22458.380952380954,
          9503.916666666668,
          10925.045454545454,
          37166.95833333333,
          31734.91176470588,
          34863.21428571429,
          561,
          31994.313725490196,
          55349.66666666667,
          7495,
          9731.454545454546,
          3403.375,
          4348.636363636364,
          27369.6,
          5223.5,
          22081.181818181816,
          47242.81818181818,
          2889.5,
          38499.433333333334,
          63249.4,
          9217.375,
          69146.4,
          16932.30769230769,
          58693.23809523809
         ]
        },
        {
         "mode": "lines+markers",
         "name": "Grade 4",
         "type": "scatter",
         "x": [
          "A & N ISLANDS",
          "ANDHRA PRADESH",
          "ARUNACHAL PRADESH",
          "ASSAM",
          "BIHAR",
          "CHANDIGARH",
          "CHHATTISGARH",
          "DADRA & NAGAR HAVELI",
          "DAMAN & DIU",
          "DELHI",
          "GOA",
          "GUJARAT",
          "HARYANA",
          "HIMACHAL PRADESH",
          "JAMMU & KASHMIR",
          "JHARKHAND",
          "KARNATAKA",
          "KERALA",
          "LAKSHADWEEP",
          "MADHYA PRADESH",
          "MAHARASHTRA",
          "MANIPUR",
          "MEGHALAYA",
          "MIZORAM",
          "NAGALAND",
          "ODISHA",
          "PUDUCHERRY",
          "PUNJAB",
          "RAJASTHAN",
          "SIKKIM",
          "TAMIL NADU",
          "TELANGANA",
          "TRIPURA",
          "UTTAR PRADESH",
          "UTTARAKHAND",
          "WEST BENGAL"
         ],
         "y": [
          2076.333333333333,
          54867.61538461538,
          1925.15,
          25288.51851851852,
          82625.63157894737,
          19983,
          20755.814814814814,
          4015,
          1863,
          42847.66666666667,
          12355.5,
          34488.333333333336,
          22574.904761904763,
          9375.166666666668,
          10688.68181818182,
          35370.375,
          31256.323529411766,
          35445.642857142855,
          988,
          32501.352941176472,
          55213.52777777778,
          6991.444444444444,
          8754.909090909092,
          3168.875,
          4275.545454545454,
          27901.766666666666,
          5291,
          22386.136363636364,
          45259.09090909091,
          3233,
          38527.2,
          62079.600000000006,
          9537,
          66504.28,
          16597.53846153846,
          91149.80952380953
         ]
        },
        {
         "mode": "lines+markers",
         "name": "Grade 5",
         "type": "scatter",
         "x": [
          "A & N ISLANDS",
          "ANDHRA PRADESH",
          "ARUNACHAL PRADESH",
          "ASSAM",
          "BIHAR",
          "CHANDIGARH",
          "CHHATTISGARH",
          "DADRA & NAGAR HAVELI",
          "DAMAN & DIU",
          "DELHI",
          "GOA",
          "GUJARAT",
          "HARYANA",
          "HIMACHAL PRADESH",
          "JAMMU & KASHMIR",
          "JHARKHAND",
          "KARNATAKA",
          "KERALA",
          "LAKSHADWEEP",
          "MADHYA PRADESH",
          "MAHARASHTRA",
          "MANIPUR",
          "MEGHALAYA",
          "MIZORAM",
          "NAGALAND",
          "ODISHA",
          "PUDUCHERRY",
          "PUNJAB",
          "RAJASTHAN",
          "SIKKIM",
          "TAMIL NADU",
          "TELANGANA",
          "TRIPURA",
          "UTTAR PRADESH",
          "UTTARAKHAND",
          "WEST BENGAL"
         ],
         "y": [
          2111.6666666666665,
          54491.38461538462,
          1837.1999999999998,
          24528.666666666664,
          82578.94736842105,
          20703,
          21401.814814814818,
          7901,
          1762,
          45359,
          12203.5,
          37226.27272727273,
          23056.761904761905,
          9917.583333333332,
          10240.272727272728,
          35410.33333333333,
          30126.882352941175,
          35337.07142857143,
          1096,
          30981.725490196077,
          55251.305555555555,
          6723.444444444445,
          7814.454545454546,
          3034.625,
          3900.3636363636365,
          28019.4,
          5107.75,
          22764.636363636364,
          45822.878787878784,
          3496.5,
          39294,
          62294.5,
          9662.25,
          61635.2,
          16524.46153846154,
          78025.19047619047
         ]
        },
        {
         "mode": "lines+markers",
         "name": "Grade 6",
         "type": "scatter",
         "x": [
          "A & N ISLANDS",
          "ANDHRA PRADESH",
          "ARUNACHAL PRADESH",
          "ASSAM",
          "BIHAR",
          "CHANDIGARH",
          "CHHATTISGARH",
          "DADRA & NAGAR HAVELI",
          "DAMAN & DIU",
          "DELHI",
          "GOA",
          "GUJARAT",
          "HARYANA",
          "HIMACHAL PRADESH",
          "JAMMU & KASHMIR",
          "JHARKHAND",
          "KARNATAKA",
          "KERALA",
          "LAKSHADWEEP",
          "MADHYA PRADESH",
          "MAHARASHTRA",
          "MANIPUR",
          "MEGHALAYA",
          "MIZORAM",
          "NAGALAND",
          "ODISHA",
          "PUDUCHERRY",
          "PUNJAB",
          "RAJASTHAN",
          "SIKKIM",
          "TAMIL NADU",
          "TELANGANA",
          "TRIPURA",
          "UTTAR PRADESH",
          "UTTARAKHAND",
          "WEST BENGAL"
         ],
         "y": [
          2098,
          53767.92307692308,
          1775.05,
          22382.185185185186,
          67107.65789473684,
          21642,
          21324.925925925927,
          7737,
          1693,
          42174.11111111111,
          12246,
          36070.78787878788,
          22026.380952380954,
          10224.333333333332,
          9561.590909090908,
          29719.958333333332,
          29245.764705882353,
          35853.71428571429,
          1059,
          31290.137254901958,
          55881.333333333336,
          6066.111111111111,
          7631.818181818182,
          3024.75,
          3638.636363636364,
          26151.6,
          5447,
          23219.181818181816,
          44641.93939393939,
          3956.5,
          37573.26666666666,
          60518.8,
          8678.375,
          49557.25333333333,
          15643,
          75542.57142857143
         ]
        },
        {
         "mode": "lines+markers",
         "name": "Grade 7",
         "type": "scatter",
         "x": [
          "A & N ISLANDS",
          "ANDHRA PRADESH",
          "ARUNACHAL PRADESH",
          "ASSAM",
          "BIHAR",
          "CHANDIGARH",
          "CHHATTISGARH",
          "DADRA & NAGAR HAVELI",
          "DAMAN & DIU",
          "DELHI",
          "GOA",
          "GUJARAT",
          "HARYANA",
          "HIMACHAL PRADESH",
          "JAMMU & KASHMIR",
          "JHARKHAND",
          "KARNATAKA",
          "KERALA",
          "LAKSHADWEEP",
          "MADHYA PRADESH",
          "MAHARASHTRA",
          "MANIPUR",
          "MEGHALAYA",
          "MIZORAM",
          "NAGALAND",
          "ODISHA",
          "PUDUCHERRY",
          "PUNJAB",
          "RAJASTHAN",
          "SIKKIM",
          "TAMIL NADU",
          "TELANGANA",
          "TRIPURA",
          "UTTAR PRADESH",
          "UTTARAKHAND",
          "WEST BENGAL"
         ],
         "y": [
          2091,
          53937.769230769234,
          1661.75,
          21069.370370370372,
          63354.10526315789,
          21754,
          20402.740740740737,
          7451,
          1638.5,
          41022.66666666667,
          11951,
          35073.333333333336,
          22357.142857142855,
          10429.416666666668,
          9119.590909090908,
          28691.541666666664,
          28765.76470588235,
          36873.857142857145,
          1021,
          31057.666666666664,
          56786.833333333336,
          5774.666666666666,
          6806.272727272728,
          2905.375,
          3377.272727272727,
          24354.066666666666,
          5358.75,
          22231.136363636364,
          40435.33333333333,
          3586,
          39417.86666666667,
          59667.9,
          8518.625,
          49409.28,
          15297.23076923077,
          75672.33333333333
         ]
        },
        {
         "mode": "lines+markers",
         "name": "Grade 8",
         "type": "scatter",
         "x": [
          "A & N ISLANDS",
          "ANDHRA PRADESH",
          "ARUNACHAL PRADESH",
          "ASSAM",
          "BIHAR",
          "CHANDIGARH",
          "CHHATTISGARH",
          "DADRA & NAGAR HAVELI",
          "DAMAN & DIU",
          "DELHI",
          "GOA",
          "GUJARAT",
          "HARYANA",
          "HIMACHAL PRADESH",
          "JAMMU & KASHMIR",
          "JHARKHAND",
          "KARNATAKA",
          "KERALA",
          "LAKSHADWEEP",
          "MADHYA PRADESH",
          "MAHARASHTRA",
          "MANIPUR",
          "MEGHALAYA",
          "MIZORAM",
          "NAGALAND",
          "ODISHA",
          "PUDUCHERRY",
          "PUNJAB",
          "RAJASTHAN",
          "SIKKIM",
          "TAMIL NADU",
          "TELANGANA",
          "TRIPURA",
          "UTTAR PRADESH",
          "UTTARAKHAND",
          "WEST BENGAL"
         ],
         "y": [
          2046.6666666666665,
          51111.38461538462,
          1624.6,
          19923.7037037037,
          60635.52631578947,
          21295,
          19914.925925925927,
          7590,
          1585,
          41251.666666666664,
          12063.5,
          33179.18181818182,
          22011.428571428572,
          10150.666666666668,
          8942.590909090908,
          27777.708333333336,
          28286.323529411766,
          37542.92857142857,
          1088,
          29634.80392156863,
          54478.305555555555,
          5634.333333333334,
          6278.545454545454,
          2694.875,
          3131,
          23395.466666666667,
          5551.75,
          21543.136363636364,
          38150.78787878788,
          3580,
          39203.3,
          55634.2,
          8133.5,
          49770.6,
          15018.615384615385,
          76272.57142857142
         ]
        },
        {
         "mode": "lines+markers",
         "name": "Grade 9",
         "type": "scatter",
         "x": [
          "A & N ISLANDS",
          "ANDHRA PRADESH",
          "ARUNACHAL PRADESH",
          "ASSAM",
          "BIHAR",
          "CHANDIGARH",
          "CHHATTISGARH",
          "DADRA & NAGAR HAVELI",
          "DAMAN & DIU",
          "DELHI",
          "GOA",
          "GUJARAT",
          "HARYANA",
          "HIMACHAL PRADESH",
          "JAMMU & KASHMIR",
          "JHARKHAND",
          "KARNATAKA",
          "KERALA",
          "LAKSHADWEEP",
          "MADHYA PRADESH",
          "MAHARASHTRA",
          "MANIPUR",
          "MEGHALAYA",
          "MIZORAM",
          "NAGALAND",
          "ODISHA",
          "PUDUCHERRY",
          "PUNJAB",
          "RAJASTHAN",
          "SIKKIM",
          "TAMIL NADU",
          "TELANGANA",
          "TRIPURA",
          "UTTAR PRADESH",
          "UTTARAKHAND",
          "WEST BENGAL"
         ],
         "y": [
          2296.666666666667,
          49520.69230769231,
          1457.5500000000002,
          20127.296296296296,
          47523.31578947368,
          22579,
          19632.814814814818,
          6982,
          1625,
          47606.11111111111,
          14783,
          27680.878787878788,
          21742.190476190477,
          10545.833333333334,
          8229.227272727272,
          22468,
          27106.70588235294,
          38974.357142857145,
          1406,
          28765.764705882353,
          54254.41666666667,
          4858.444444444445,
          5306.09090909091,
          2763.75,
          3300.5454545454545,
          21619.1,
          5872.75,
          20695.59090909091,
          36788.606060606064,
          4028.75,
          38718.2,
          53480.4,
          10566.625,
          44109.96,
          14776.538461538461,
          72796.09523809524
         ]
        }
       ],
       "layout": {
        "template": {
         "data": {
          "bar": [
           {
            "error_x": {
             "color": "#2a3f5f"
            },
            "error_y": {
             "color": "#2a3f5f"
            },
            "marker": {
             "line": {
              "color": "#E5ECF6",
              "width": 0.5
             }
            },
            "type": "bar"
           }
          ],
          "barpolar": [
           {
            "marker": {
             "line": {
              "color": "#E5ECF6",
              "width": 0.5
             }
            },
            "type": "barpolar"
           }
          ],
          "carpet": [
           {
            "aaxis": {
             "endlinecolor": "#2a3f5f",
             "gridcolor": "white",
             "linecolor": "white",
             "minorgridcolor": "white",
             "startlinecolor": "#2a3f5f"
            },
            "baxis": {
             "endlinecolor": "#2a3f5f",
             "gridcolor": "white",
             "linecolor": "white",
             "minorgridcolor": "white",
             "startlinecolor": "#2a3f5f"
            },
            "type": "carpet"
           }
          ],
          "choropleth": [
           {
            "colorbar": {
             "outlinewidth": 0,
             "ticks": ""
            },
            "type": "choropleth"
           }
          ],
          "contour": [
           {
            "colorbar": {
             "outlinewidth": 0,
             "ticks": ""
            },
            "colorscale": [
             [
              0,
              "#0d0887"
             ],
             [
              0.1111111111111111,
              "#46039f"
             ],
             [
              0.2222222222222222,
              "#7201a8"
             ],
             [
              0.3333333333333333,
              "#9c179e"
             ],
             [
              0.4444444444444444,
              "#bd3786"
             ],
             [
              0.5555555555555556,
              "#d8576b"
             ],
             [
              0.6666666666666666,
              "#ed7953"
             ],
             [
              0.7777777777777778,
              "#fb9f3a"
             ],
             [
              0.8888888888888888,
              "#fdca26"
             ],
             [
              1,
              "#f0f921"
             ]
            ],
            "type": "contour"
           }
          ],
          "contourcarpet": [
           {
            "colorbar": {
             "outlinewidth": 0,
             "ticks": ""
            },
            "type": "contourcarpet"
           }
          ],
          "heatmap": [
           {
            "colorbar": {
             "outlinewidth": 0,
             "ticks": ""
            },
            "colorscale": [
             [
              0,
              "#0d0887"
             ],
             [
              0.1111111111111111,
              "#46039f"
             ],
             [
              0.2222222222222222,
              "#7201a8"
             ],
             [
              0.3333333333333333,
              "#9c179e"
             ],
             [
              0.4444444444444444,
              "#bd3786"
             ],
             [
              0.5555555555555556,
              "#d8576b"
             ],
             [
              0.6666666666666666,
              "#ed7953"
             ],
             [
              0.7777777777777778,
              "#fb9f3a"
             ],
             [
              0.8888888888888888,
              "#fdca26"
             ],
             [
              1,
              "#f0f921"
             ]
            ],
            "type": "heatmap"
           }
          ],
          "heatmapgl": [
           {
            "colorbar": {
             "outlinewidth": 0,
             "ticks": ""
            },
            "colorscale": [
             [
              0,
              "#0d0887"
             ],
             [
              0.1111111111111111,
              "#46039f"
             ],
             [
              0.2222222222222222,
              "#7201a8"
             ],
             [
              0.3333333333333333,
              "#9c179e"
             ],
             [
              0.4444444444444444,
              "#bd3786"
             ],
             [
              0.5555555555555556,
              "#d8576b"
             ],
             [
              0.6666666666666666,
              "#ed7953"
             ],
             [
              0.7777777777777778,
              "#fb9f3a"
             ],
             [
              0.8888888888888888,
              "#fdca26"
             ],
             [
              1,
              "#f0f921"
             ]
            ],
            "type": "heatmapgl"
           }
          ],
          "histogram": [
           {
            "marker": {
             "colorbar": {
              "outlinewidth": 0,
              "ticks": ""
             }
            },
            "type": "histogram"
           }
          ],
          "histogram2d": [
           {
            "colorbar": {
             "outlinewidth": 0,
             "ticks": ""
            },
            "colorscale": [
             [
              0,
              "#0d0887"
             ],
             [
              0.1111111111111111,
              "#46039f"
             ],
             [
              0.2222222222222222,
              "#7201a8"
             ],
             [
              0.3333333333333333,
              "#9c179e"
             ],
             [
              0.4444444444444444,
              "#bd3786"
             ],
             [
              0.5555555555555556,
              "#d8576b"
             ],
             [
              0.6666666666666666,
              "#ed7953"
             ],
             [
              0.7777777777777778,
              "#fb9f3a"
             ],
             [
              0.8888888888888888,
              "#fdca26"
             ],
             [
              1,
              "#f0f921"
             ]
            ],
            "type": "histogram2d"
           }
          ],
          "histogram2dcontour": [
           {
            "colorbar": {
             "outlinewidth": 0,
             "ticks": ""
            },
            "colorscale": [
             [
              0,
              "#0d0887"
             ],
             [
              0.1111111111111111,
              "#46039f"
             ],
             [
              0.2222222222222222,
              "#7201a8"
             ],
             [
              0.3333333333333333,
              "#9c179e"
             ],
             [
              0.4444444444444444,
              "#bd3786"
             ],
             [
              0.5555555555555556,
              "#d8576b"
             ],
             [
              0.6666666666666666,
              "#ed7953"
             ],
             [
              0.7777777777777778,
              "#fb9f3a"
             ],
             [
              0.8888888888888888,
              "#fdca26"
             ],
             [
              1,
              "#f0f921"
             ]
            ],
            "type": "histogram2dcontour"
           }
          ],
          "mesh3d": [
           {
            "colorbar": {
             "outlinewidth": 0,
             "ticks": ""
            },
            "type": "mesh3d"
           }
          ],
          "parcoords": [
           {
            "line": {
             "colorbar": {
              "outlinewidth": 0,
              "ticks": ""
             }
            },
            "type": "parcoords"
           }
          ],
          "pie": [
           {
            "automargin": true,
            "type": "pie"
           }
          ],
          "scatter": [
           {
            "marker": {
             "colorbar": {
              "outlinewidth": 0,
              "ticks": ""
             }
            },
            "type": "scatter"
           }
          ],
          "scatter3d": [
           {
            "line": {
             "colorbar": {
              "outlinewidth": 0,
              "ticks": ""
             }
            },
            "marker": {
             "colorbar": {
              "outlinewidth": 0,
              "ticks": ""
             }
            },
            "type": "scatter3d"
           }
          ],
          "scattercarpet": [
           {
            "marker": {
             "colorbar": {
              "outlinewidth": 0,
              "ticks": ""
             }
            },
            "type": "scattercarpet"
           }
          ],
          "scattergeo": [
           {
            "marker": {
             "colorbar": {
              "outlinewidth": 0,
              "ticks": ""
             }
            },
            "type": "scattergeo"
           }
          ],
          "scattergl": [
           {
            "marker": {
             "colorbar": {
              "outlinewidth": 0,
              "ticks": ""
             }
            },
            "type": "scattergl"
           }
          ],
          "scattermapbox": [
           {
            "marker": {
             "colorbar": {
              "outlinewidth": 0,
              "ticks": ""
             }
            },
            "type": "scattermapbox"
           }
          ],
          "scatterpolar": [
           {
            "marker": {
             "colorbar": {
              "outlinewidth": 0,
              "ticks": ""
             }
            },
            "type": "scatterpolar"
           }
          ],
          "scatterpolargl": [
           {
            "marker": {
             "colorbar": {
              "outlinewidth": 0,
              "ticks": ""
             }
            },
            "type": "scatterpolargl"
           }
          ],
          "scatterternary": [
           {
            "marker": {
             "colorbar": {
              "outlinewidth": 0,
              "ticks": ""
             }
            },
            "type": "scatterternary"
           }
          ],
          "surface": [
           {
            "colorbar": {
             "outlinewidth": 0,
             "ticks": ""
            },
            "colorscale": [
             [
              0,
              "#0d0887"
             ],
             [
              0.1111111111111111,
              "#46039f"
             ],
             [
              0.2222222222222222,
              "#7201a8"
             ],
             [
              0.3333333333333333,
              "#9c179e"
             ],
             [
              0.4444444444444444,
              "#bd3786"
             ],
             [
              0.5555555555555556,
              "#d8576b"
             ],
             [
              0.6666666666666666,
              "#ed7953"
             ],
             [
              0.7777777777777778,
              "#fb9f3a"
             ],
             [
              0.8888888888888888,
              "#fdca26"
             ],
             [
              1,
              "#f0f921"
             ]
            ],
            "type": "surface"
           }
          ],
          "table": [
           {
            "cells": {
             "fill": {
              "color": "#EBF0F8"
             },
             "line": {
              "color": "white"
             }
            },
            "header": {
             "fill": {
              "color": "#C8D4E3"
             },
             "line": {
              "color": "white"
             }
            },
            "type": "table"
           }
          ]
         },
         "layout": {
          "annotationdefaults": {
           "arrowcolor": "#2a3f5f",
           "arrowhead": 0,
           "arrowwidth": 1
          },
          "coloraxis": {
           "colorbar": {
            "outlinewidth": 0,
            "ticks": ""
           }
          },
          "colorscale": {
           "diverging": [
            [
             0,
             "#8e0152"
            ],
            [
             0.1,
             "#c51b7d"
            ],
            [
             0.2,
             "#de77ae"
            ],
            [
             0.3,
             "#f1b6da"
            ],
            [
             0.4,
             "#fde0ef"
            ],
            [
             0.5,
             "#f7f7f7"
            ],
            [
             0.6,
             "#e6f5d0"
            ],
            [
             0.7,
             "#b8e186"
            ],
            [
             0.8,
             "#7fbc41"
            ],
            [
             0.9,
             "#4d9221"
            ],
            [
             1,
             "#276419"
            ]
           ],
           "sequential": [
            [
             0,
             "#0d0887"
            ],
            [
             0.1111111111111111,
             "#46039f"
            ],
            [
             0.2222222222222222,
             "#7201a8"
            ],
            [
             0.3333333333333333,
             "#9c179e"
            ],
            [
             0.4444444444444444,
             "#bd3786"
            ],
            [
             0.5555555555555556,
             "#d8576b"
            ],
            [
             0.6666666666666666,
             "#ed7953"
            ],
            [
             0.7777777777777778,
             "#fb9f3a"
            ],
            [
             0.8888888888888888,
             "#fdca26"
            ],
            [
             1,
             "#f0f921"
            ]
           ],
           "sequentialminus": [
            [
             0,
             "#0d0887"
            ],
            [
             0.1111111111111111,
             "#46039f"
            ],
            [
             0.2222222222222222,
             "#7201a8"
            ],
            [
             0.3333333333333333,
             "#9c179e"
            ],
            [
             0.4444444444444444,
             "#bd3786"
            ],
            [
             0.5555555555555556,
             "#d8576b"
            ],
            [
             0.6666666666666666,
             "#ed7953"
            ],
            [
             0.7777777777777778,
             "#fb9f3a"
            ],
            [
             0.8888888888888888,
             "#fdca26"
            ],
            [
             1,
             "#f0f921"
            ]
           ]
          },
          "colorway": [
           "#636efa",
           "#EF553B",
           "#00cc96",
           "#ab63fa",
           "#FFA15A",
           "#19d3f3",
           "#FF6692",
           "#B6E880",
           "#FF97FF",
           "#FECB52"
          ],
          "font": {
           "color": "#2a3f5f"
          },
          "geo": {
           "bgcolor": "white",
           "lakecolor": "white",
           "landcolor": "#E5ECF6",
           "showlakes": true,
           "showland": true,
           "subunitcolor": "white"
          },
          "hoverlabel": {
           "align": "left"
          },
          "hovermode": "closest",
          "mapbox": {
           "style": "light"
          },
          "paper_bgcolor": "white",
          "plot_bgcolor": "#E5ECF6",
          "polar": {
           "angularaxis": {
            "gridcolor": "white",
            "linecolor": "white",
            "ticks": ""
           },
           "bgcolor": "#E5ECF6",
           "radialaxis": {
            "gridcolor": "white",
            "linecolor": "white",
            "ticks": ""
           }
          },
          "scene": {
           "xaxis": {
            "backgroundcolor": "#E5ECF6",
            "gridcolor": "white",
            "gridwidth": 2,
            "linecolor": "white",
            "showbackground": true,
            "ticks": "",
            "zerolinecolor": "white"
           },
           "yaxis": {
            "backgroundcolor": "#E5ECF6",
            "gridcolor": "white",
            "gridwidth": 2,
            "linecolor": "white",
            "showbackground": true,
            "ticks": "",
            "zerolinecolor": "white"
           },
           "zaxis": {
            "backgroundcolor": "#E5ECF6",
            "gridcolor": "white",
            "gridwidth": 2,
            "linecolor": "white",
            "showbackground": true,
            "ticks": "",
            "zerolinecolor": "white"
           }
          },
          "shapedefaults": {
           "line": {
            "color": "#2a3f5f"
           }
          },
          "ternary": {
           "aaxis": {
            "gridcolor": "white",
            "linecolor": "white",
            "ticks": ""
           },
           "baxis": {
            "gridcolor": "white",
            "linecolor": "white",
            "ticks": ""
           },
           "bgcolor": "#E5ECF6",
           "caxis": {
            "gridcolor": "white",
            "linecolor": "white",
            "ticks": ""
           }
          },
          "title": {
           "x": 0.05
          },
          "xaxis": {
           "automargin": true,
           "gridcolor": "white",
           "linecolor": "white",
           "ticks": "",
           "title": {
            "standoff": 15
           },
           "zerolinecolor": "white",
           "zerolinewidth": 2
          },
          "yaxis": {
           "automargin": true,
           "gridcolor": "white",
           "linecolor": "white",
           "ticks": "",
           "title": {
            "standoff": 15
           },
           "zerolinecolor": "white",
           "zerolinewidth": 2
          }
         }
        }
       }
      },
      "text/html": [
       "<div>\n",
       "        \n",
       "        \n",
       "            <div id=\"6f942205-bb3c-4dcb-b851-7f9b19727254\" class=\"plotly-graph-div\" style=\"height:525px; width:100%;\"></div>\n",
       "            <script type=\"text/javascript\">\n",
       "                require([\"plotly\"], function(Plotly) {\n",
       "                    window.PLOTLYENV=window.PLOTLYENV || {};\n",
       "                    \n",
       "                if (document.getElementById(\"6f942205-bb3c-4dcb-b851-7f9b19727254\")) {\n",
       "                    Plotly.newPlot(\n",
       "                        '6f942205-bb3c-4dcb-b851-7f9b19727254',\n",
       "                        [{\"mode\": \"lines+markers\", \"name\": \"Grade 1\", \"type\": \"scatter\", \"x\": [\"A & N ISLANDS\", \"ANDHRA PRADESH\", \"ARUNACHAL PRADESH\", \"ASSAM\", \"BIHAR\", \"CHANDIGARH\", \"CHHATTISGARH\", \"DADRA & NAGAR HAVELI\", \"DAMAN & DIU\", \"DELHI\", \"GOA\", \"GUJARAT\", \"HARYANA\", \"HIMACHAL PRADESH\", \"JAMMU & KASHMIR\", \"JHARKHAND\", \"KARNATAKA\", \"KERALA\", \"LAKSHADWEEP\", \"MADHYA PRADESH\", \"MAHARASHTRA\", \"MANIPUR\", \"MEGHALAYA\", \"MIZORAM\", \"NAGALAND\", \"ODISHA\", \"PUDUCHERRY\", \"PUNJAB\", \"RAJASTHAN\", \"SIKKIM\", \"TAMIL NADU\", \"TELANGANA\", \"TRIPURA\", \"UTTAR PRADESH\", \"UTTARAKHAND\", \"WEST BENGAL\"], \"y\": [2086.333333333333, 52872.69230769231, 2861.2, 33277.333333333336, 89273.21052631579, 15688.0, 20978.59259259259, 9102.0, 1787.5, 38255.33333333333, 12685.5, 34099.757575757576, 21273.95238095238, 9899.916666666666, 13660.363636363636, 40715.958333333336, 33431.382352941175, 35651.78571428571, 927.0, 31562.666666666668, 56663.666666666664, 8836.666666666668, 13125.090909090908, 4887.0, 4620.909090909091, 26485.733333333334, 5192.5, 23186.09090909091, 61618.393939393936, 2874.5, 36652.1, 72704.8, 8328.75, 71923.14666666667, 18602.307692307695, 80738.7619047619]}, {\"mode\": \"lines+markers\", \"name\": \"Grade 2\", \"type\": \"scatter\", \"x\": [\"A & N ISLANDS\", \"ANDHRA PRADESH\", \"ARUNACHAL PRADESH\", \"ASSAM\", \"BIHAR\", \"CHANDIGARH\", \"CHHATTISGARH\", \"DADRA & NAGAR HAVELI\", \"DAMAN & DIU\", \"DELHI\", \"GOA\", \"GUJARAT\", \"HARYANA\", \"HIMACHAL PRADESH\", \"JAMMU & KASHMIR\", \"JHARKHAND\", \"KARNATAKA\", \"KERALA\", \"LAKSHADWEEP\", \"MADHYA PRADESH\", \"MAHARASHTRA\", \"MANIPUR\", \"MEGHALAYA\", \"MIZORAM\", \"NAGALAND\", \"ODISHA\", \"PUDUCHERRY\", \"PUNJAB\", \"RAJASTHAN\", \"SIKKIM\", \"TAMIL NADU\", \"TELANGANA\", \"TRIPURA\", \"UTTAR PRADESH\", \"UTTARAKHAND\", \"WEST BENGAL\"], \"y\": [2098.333333333333, 55591.92307692308, 2346.0, 28126.333333333336, 84066.73684210527, 17782.0, 20408.962962962964, 7560.0, 1880.0, 41211.555555555555, 12364.0, 31328.696969696968, 21905.04761904762, 9729.5, 11260.772727272728, 36900.0, 32457.73529411765, 35032.92857142857, 836.0, 31996.333333333336, 56035.77777777778, 8322.333333333332, 10367.727272727272, 3670.75, 4498.181818181818, 27258.5, 5193.25, 22699.363636363636, 50772.242424242424, 2708.25, 38705.9, 64369.3, 9113.125, 67728.94666666667, 17128.615384615387, 78621.42857142858]}, {\"mode\": \"lines+markers\", \"name\": \"Grade 3\", \"type\": \"scatter\", \"x\": [\"A & N ISLANDS\", \"ANDHRA PRADESH\", \"ARUNACHAL PRADESH\", \"ASSAM\", \"BIHAR\", \"CHANDIGARH\", \"CHHATTISGARH\", \"DADRA & NAGAR HAVELI\", \"DAMAN & DIU\", \"DELHI\", \"GOA\", \"GUJARAT\", \"HARYANA\", \"HIMACHAL PRADESH\", \"JAMMU & KASHMIR\", \"JHARKHAND\", \"KARNATAKA\", \"KERALA\", \"LAKSHADWEEP\", \"MADHYA PRADESH\", \"MAHARASHTRA\", \"MANIPUR\", \"MEGHALAYA\", \"MIZORAM\", \"NAGALAND\", \"ODISHA\", \"PUDUCHERRY\", \"PUNJAB\", \"RAJASTHAN\", \"SIKKIM\", \"TAMIL NADU\", \"TELANGANA\", \"TRIPURA\", \"UTTAR PRADESH\", \"UTTARAKHAND\", \"WEST BENGAL\"], \"y\": [2096.0, 54998.53846153846, 2091.95, 26591.037037037036, 86984.1052631579, 19074.0, 19899.444444444445, 7618.0, 1780.0, 41990.22222222222, 12285.5, 34009.818181818184, 22458.380952380954, 9503.916666666668, 10925.045454545454, 37166.95833333333, 31734.91176470588, 34863.21428571429, 561.0, 31994.313725490196, 55349.66666666667, 7495.0, 9731.454545454546, 3403.375, 4348.636363636364, 27369.6, 5223.5, 22081.181818181816, 47242.81818181818, 2889.5, 38499.433333333334, 63249.4, 9217.375, 69146.4, 16932.30769230769, 58693.23809523809]}, {\"mode\": \"lines+markers\", \"name\": \"Grade 4\", \"type\": \"scatter\", \"x\": [\"A & N ISLANDS\", \"ANDHRA PRADESH\", \"ARUNACHAL PRADESH\", \"ASSAM\", \"BIHAR\", \"CHANDIGARH\", \"CHHATTISGARH\", \"DADRA & NAGAR HAVELI\", \"DAMAN & DIU\", \"DELHI\", \"GOA\", \"GUJARAT\", \"HARYANA\", \"HIMACHAL PRADESH\", \"JAMMU & KASHMIR\", \"JHARKHAND\", \"KARNATAKA\", \"KERALA\", \"LAKSHADWEEP\", \"MADHYA PRADESH\", \"MAHARASHTRA\", \"MANIPUR\", \"MEGHALAYA\", \"MIZORAM\", \"NAGALAND\", \"ODISHA\", \"PUDUCHERRY\", \"PUNJAB\", \"RAJASTHAN\", \"SIKKIM\", \"TAMIL NADU\", \"TELANGANA\", \"TRIPURA\", \"UTTAR PRADESH\", \"UTTARAKHAND\", \"WEST BENGAL\"], \"y\": [2076.333333333333, 54867.61538461538, 1925.15, 25288.51851851852, 82625.63157894737, 19983.0, 20755.814814814814, 4015.0, 1863.0, 42847.66666666667, 12355.5, 34488.333333333336, 22574.904761904763, 9375.166666666668, 10688.68181818182, 35370.375, 31256.323529411766, 35445.642857142855, 988.0, 32501.352941176472, 55213.52777777778, 6991.444444444444, 8754.909090909092, 3168.875, 4275.545454545454, 27901.766666666666, 5291.0, 22386.136363636364, 45259.09090909091, 3233.0, 38527.2, 62079.600000000006, 9537.0, 66504.28, 16597.53846153846, 91149.80952380953]}, {\"mode\": \"lines+markers\", \"name\": \"Grade 5\", \"type\": \"scatter\", \"x\": [\"A & N ISLANDS\", \"ANDHRA PRADESH\", \"ARUNACHAL PRADESH\", \"ASSAM\", \"BIHAR\", \"CHANDIGARH\", \"CHHATTISGARH\", \"DADRA & NAGAR HAVELI\", \"DAMAN & DIU\", \"DELHI\", \"GOA\", \"GUJARAT\", \"HARYANA\", \"HIMACHAL PRADESH\", \"JAMMU & KASHMIR\", \"JHARKHAND\", \"KARNATAKA\", \"KERALA\", \"LAKSHADWEEP\", \"MADHYA PRADESH\", \"MAHARASHTRA\", \"MANIPUR\", \"MEGHALAYA\", \"MIZORAM\", \"NAGALAND\", \"ODISHA\", \"PUDUCHERRY\", \"PUNJAB\", \"RAJASTHAN\", \"SIKKIM\", \"TAMIL NADU\", \"TELANGANA\", \"TRIPURA\", \"UTTAR PRADESH\", \"UTTARAKHAND\", \"WEST BENGAL\"], \"y\": [2111.6666666666665, 54491.38461538462, 1837.1999999999998, 24528.666666666664, 82578.94736842105, 20703.0, 21401.814814814818, 7901.0, 1762.0, 45359.0, 12203.5, 37226.27272727273, 23056.761904761905, 9917.583333333332, 10240.272727272728, 35410.33333333333, 30126.882352941175, 35337.07142857143, 1096.0, 30981.725490196077, 55251.305555555555, 6723.444444444445, 7814.454545454546, 3034.625, 3900.3636363636365, 28019.4, 5107.75, 22764.636363636364, 45822.878787878784, 3496.5, 39294.0, 62294.5, 9662.25, 61635.2, 16524.46153846154, 78025.19047619047]}, {\"mode\": \"lines+markers\", \"name\": \"Grade 6\", \"type\": \"scatter\", \"x\": [\"A & N ISLANDS\", \"ANDHRA PRADESH\", \"ARUNACHAL PRADESH\", \"ASSAM\", \"BIHAR\", \"CHANDIGARH\", \"CHHATTISGARH\", \"DADRA & NAGAR HAVELI\", \"DAMAN & DIU\", \"DELHI\", \"GOA\", \"GUJARAT\", \"HARYANA\", \"HIMACHAL PRADESH\", \"JAMMU & KASHMIR\", \"JHARKHAND\", \"KARNATAKA\", \"KERALA\", \"LAKSHADWEEP\", \"MADHYA PRADESH\", \"MAHARASHTRA\", \"MANIPUR\", \"MEGHALAYA\", \"MIZORAM\", \"NAGALAND\", \"ODISHA\", \"PUDUCHERRY\", \"PUNJAB\", \"RAJASTHAN\", \"SIKKIM\", \"TAMIL NADU\", \"TELANGANA\", \"TRIPURA\", \"UTTAR PRADESH\", \"UTTARAKHAND\", \"WEST BENGAL\"], \"y\": [2098.0, 53767.92307692308, 1775.05, 22382.185185185186, 67107.65789473684, 21642.0, 21324.925925925927, 7737.0, 1693.0, 42174.11111111111, 12246.0, 36070.78787878788, 22026.380952380954, 10224.333333333332, 9561.590909090908, 29719.958333333332, 29245.764705882353, 35853.71428571429, 1059.0, 31290.137254901958, 55881.333333333336, 6066.111111111111, 7631.818181818182, 3024.75, 3638.636363636364, 26151.6, 5447.0, 23219.181818181816, 44641.93939393939, 3956.5, 37573.26666666666, 60518.8, 8678.375, 49557.25333333333, 15643.0, 75542.57142857143]}, {\"mode\": \"lines+markers\", \"name\": \"Grade 7\", \"type\": \"scatter\", \"x\": [\"A & N ISLANDS\", \"ANDHRA PRADESH\", \"ARUNACHAL PRADESH\", \"ASSAM\", \"BIHAR\", \"CHANDIGARH\", \"CHHATTISGARH\", \"DADRA & NAGAR HAVELI\", \"DAMAN & DIU\", \"DELHI\", \"GOA\", \"GUJARAT\", \"HARYANA\", \"HIMACHAL PRADESH\", \"JAMMU & KASHMIR\", \"JHARKHAND\", \"KARNATAKA\", \"KERALA\", \"LAKSHADWEEP\", \"MADHYA PRADESH\", \"MAHARASHTRA\", \"MANIPUR\", \"MEGHALAYA\", \"MIZORAM\", \"NAGALAND\", \"ODISHA\", \"PUDUCHERRY\", \"PUNJAB\", \"RAJASTHAN\", \"SIKKIM\", \"TAMIL NADU\", \"TELANGANA\", \"TRIPURA\", \"UTTAR PRADESH\", \"UTTARAKHAND\", \"WEST BENGAL\"], \"y\": [2091.0, 53937.769230769234, 1661.75, 21069.370370370372, 63354.10526315789, 21754.0, 20402.740740740737, 7451.0, 1638.5, 41022.66666666667, 11951.0, 35073.333333333336, 22357.142857142855, 10429.416666666668, 9119.590909090908, 28691.541666666664, 28765.76470588235, 36873.857142857145, 1021.0, 31057.666666666664, 56786.833333333336, 5774.666666666666, 6806.272727272728, 2905.375, 3377.272727272727, 24354.066666666666, 5358.75, 22231.136363636364, 40435.33333333333, 3586.0, 39417.86666666667, 59667.9, 8518.625, 49409.28, 15297.23076923077, 75672.33333333333]}, {\"mode\": \"lines+markers\", \"name\": \"Grade 8\", \"type\": \"scatter\", \"x\": [\"A & N ISLANDS\", \"ANDHRA PRADESH\", \"ARUNACHAL PRADESH\", \"ASSAM\", \"BIHAR\", \"CHANDIGARH\", \"CHHATTISGARH\", \"DADRA & NAGAR HAVELI\", \"DAMAN & DIU\", \"DELHI\", \"GOA\", \"GUJARAT\", \"HARYANA\", \"HIMACHAL PRADESH\", \"JAMMU & KASHMIR\", \"JHARKHAND\", \"KARNATAKA\", \"KERALA\", \"LAKSHADWEEP\", \"MADHYA PRADESH\", \"MAHARASHTRA\", \"MANIPUR\", \"MEGHALAYA\", \"MIZORAM\", \"NAGALAND\", \"ODISHA\", \"PUDUCHERRY\", \"PUNJAB\", \"RAJASTHAN\", \"SIKKIM\", \"TAMIL NADU\", \"TELANGANA\", \"TRIPURA\", \"UTTAR PRADESH\", \"UTTARAKHAND\", \"WEST BENGAL\"], \"y\": [2046.6666666666665, 51111.38461538462, 1624.6, 19923.7037037037, 60635.52631578947, 21295.0, 19914.925925925927, 7590.0, 1585.0, 41251.666666666664, 12063.5, 33179.18181818182, 22011.428571428572, 10150.666666666668, 8942.590909090908, 27777.708333333336, 28286.323529411766, 37542.92857142857, 1088.0, 29634.80392156863, 54478.305555555555, 5634.333333333334, 6278.545454545454, 2694.875, 3131.0, 23395.466666666667, 5551.75, 21543.136363636364, 38150.78787878788, 3580.0, 39203.3, 55634.2, 8133.5, 49770.6, 15018.615384615385, 76272.57142857142]}, {\"mode\": \"lines+markers\", \"name\": \"Grade 9\", \"type\": \"scatter\", \"x\": [\"A & N ISLANDS\", \"ANDHRA PRADESH\", \"ARUNACHAL PRADESH\", \"ASSAM\", \"BIHAR\", \"CHANDIGARH\", \"CHHATTISGARH\", \"DADRA & NAGAR HAVELI\", \"DAMAN & DIU\", \"DELHI\", \"GOA\", \"GUJARAT\", \"HARYANA\", \"HIMACHAL PRADESH\", \"JAMMU & KASHMIR\", \"JHARKHAND\", \"KARNATAKA\", \"KERALA\", \"LAKSHADWEEP\", \"MADHYA PRADESH\", \"MAHARASHTRA\", \"MANIPUR\", \"MEGHALAYA\", \"MIZORAM\", \"NAGALAND\", \"ODISHA\", \"PUDUCHERRY\", \"PUNJAB\", \"RAJASTHAN\", \"SIKKIM\", \"TAMIL NADU\", \"TELANGANA\", \"TRIPURA\", \"UTTAR PRADESH\", \"UTTARAKHAND\", \"WEST BENGAL\"], \"y\": [2296.666666666667, 49520.69230769231, 1457.5500000000002, 20127.296296296296, 47523.31578947368, 22579.0, 19632.814814814818, 6982.0, 1625.0, 47606.11111111111, 14783.0, 27680.878787878788, 21742.190476190477, 10545.833333333334, 8229.227272727272, 22468.0, 27106.70588235294, 38974.357142857145, 1406.0, 28765.764705882353, 54254.41666666667, 4858.444444444445, 5306.09090909091, 2763.75, 3300.5454545454545, 21619.1, 5872.75, 20695.59090909091, 36788.606060606064, 4028.75, 38718.2, 53480.4, 10566.625, 44109.96, 14776.538461538461, 72796.09523809524]}],\n",
       "                        {\"template\": {\"data\": {\"bar\": [{\"error_x\": {\"color\": \"#2a3f5f\"}, \"error_y\": {\"color\": \"#2a3f5f\"}, \"marker\": {\"line\": {\"color\": \"#E5ECF6\", \"width\": 0.5}}, \"type\": \"bar\"}], \"barpolar\": [{\"marker\": {\"line\": {\"color\": \"#E5ECF6\", \"width\": 0.5}}, \"type\": \"barpolar\"}], \"carpet\": [{\"aaxis\": {\"endlinecolor\": \"#2a3f5f\", \"gridcolor\": \"white\", \"linecolor\": \"white\", \"minorgridcolor\": \"white\", \"startlinecolor\": \"#2a3f5f\"}, \"baxis\": {\"endlinecolor\": \"#2a3f5f\", \"gridcolor\": \"white\", \"linecolor\": \"white\", \"minorgridcolor\": \"white\", \"startlinecolor\": \"#2a3f5f\"}, \"type\": \"carpet\"}], \"choropleth\": [{\"colorbar\": {\"outlinewidth\": 0, \"ticks\": \"\"}, \"type\": \"choropleth\"}], \"contour\": [{\"colorbar\": {\"outlinewidth\": 0, \"ticks\": \"\"}, \"colorscale\": [[0.0, \"#0d0887\"], [0.1111111111111111, \"#46039f\"], [0.2222222222222222, \"#7201a8\"], [0.3333333333333333, \"#9c179e\"], [0.4444444444444444, \"#bd3786\"], [0.5555555555555556, \"#d8576b\"], [0.6666666666666666, \"#ed7953\"], [0.7777777777777778, \"#fb9f3a\"], [0.8888888888888888, \"#fdca26\"], [1.0, \"#f0f921\"]], \"type\": \"contour\"}], \"contourcarpet\": [{\"colorbar\": {\"outlinewidth\": 0, \"ticks\": \"\"}, \"type\": \"contourcarpet\"}], \"heatmap\": [{\"colorbar\": {\"outlinewidth\": 0, \"ticks\": \"\"}, \"colorscale\": [[0.0, \"#0d0887\"], [0.1111111111111111, \"#46039f\"], [0.2222222222222222, \"#7201a8\"], [0.3333333333333333, \"#9c179e\"], [0.4444444444444444, \"#bd3786\"], [0.5555555555555556, \"#d8576b\"], [0.6666666666666666, \"#ed7953\"], [0.7777777777777778, \"#fb9f3a\"], [0.8888888888888888, \"#fdca26\"], [1.0, \"#f0f921\"]], \"type\": \"heatmap\"}], \"heatmapgl\": [{\"colorbar\": {\"outlinewidth\": 0, \"ticks\": \"\"}, \"colorscale\": [[0.0, \"#0d0887\"], [0.1111111111111111, \"#46039f\"], [0.2222222222222222, \"#7201a8\"], [0.3333333333333333, \"#9c179e\"], [0.4444444444444444, \"#bd3786\"], [0.5555555555555556, \"#d8576b\"], [0.6666666666666666, \"#ed7953\"], [0.7777777777777778, \"#fb9f3a\"], [0.8888888888888888, \"#fdca26\"], [1.0, \"#f0f921\"]], \"type\": \"heatmapgl\"}], \"histogram\": [{\"marker\": {\"colorbar\": {\"outlinewidth\": 0, \"ticks\": \"\"}}, \"type\": \"histogram\"}], \"histogram2d\": [{\"colorbar\": {\"outlinewidth\": 0, \"ticks\": \"\"}, \"colorscale\": [[0.0, \"#0d0887\"], [0.1111111111111111, \"#46039f\"], [0.2222222222222222, \"#7201a8\"], [0.3333333333333333, \"#9c179e\"], [0.4444444444444444, \"#bd3786\"], [0.5555555555555556, \"#d8576b\"], [0.6666666666666666, \"#ed7953\"], [0.7777777777777778, \"#fb9f3a\"], [0.8888888888888888, \"#fdca26\"], [1.0, \"#f0f921\"]], \"type\": \"histogram2d\"}], \"histogram2dcontour\": [{\"colorbar\": {\"outlinewidth\": 0, \"ticks\": \"\"}, \"colorscale\": [[0.0, \"#0d0887\"], [0.1111111111111111, \"#46039f\"], [0.2222222222222222, \"#7201a8\"], [0.3333333333333333, \"#9c179e\"], [0.4444444444444444, \"#bd3786\"], [0.5555555555555556, \"#d8576b\"], [0.6666666666666666, \"#ed7953\"], [0.7777777777777778, \"#fb9f3a\"], [0.8888888888888888, \"#fdca26\"], [1.0, \"#f0f921\"]], \"type\": \"histogram2dcontour\"}], \"mesh3d\": [{\"colorbar\": {\"outlinewidth\": 0, \"ticks\": \"\"}, \"type\": \"mesh3d\"}], \"parcoords\": [{\"line\": {\"colorbar\": {\"outlinewidth\": 0, \"ticks\": \"\"}}, \"type\": \"parcoords\"}], \"pie\": [{\"automargin\": true, \"type\": \"pie\"}], \"scatter\": [{\"marker\": {\"colorbar\": {\"outlinewidth\": 0, \"ticks\": \"\"}}, \"type\": \"scatter\"}], \"scatter3d\": [{\"line\": {\"colorbar\": {\"outlinewidth\": 0, \"ticks\": \"\"}}, \"marker\": {\"colorbar\": {\"outlinewidth\": 0, \"ticks\": \"\"}}, \"type\": \"scatter3d\"}], \"scattercarpet\": [{\"marker\": {\"colorbar\": {\"outlinewidth\": 0, \"ticks\": \"\"}}, \"type\": \"scattercarpet\"}], \"scattergeo\": [{\"marker\": {\"colorbar\": {\"outlinewidth\": 0, \"ticks\": \"\"}}, \"type\": \"scattergeo\"}], \"scattergl\": [{\"marker\": {\"colorbar\": {\"outlinewidth\": 0, \"ticks\": \"\"}}, \"type\": \"scattergl\"}], \"scattermapbox\": [{\"marker\": {\"colorbar\": {\"outlinewidth\": 0, \"ticks\": \"\"}}, \"type\": \"scattermapbox\"}], \"scatterpolar\": [{\"marker\": {\"colorbar\": {\"outlinewidth\": 0, \"ticks\": \"\"}}, \"type\": \"scatterpolar\"}], \"scatterpolargl\": [{\"marker\": {\"colorbar\": {\"outlinewidth\": 0, \"ticks\": \"\"}}, \"type\": \"scatterpolargl\"}], \"scatterternary\": [{\"marker\": {\"colorbar\": {\"outlinewidth\": 0, \"ticks\": \"\"}}, \"type\": \"scatterternary\"}], \"surface\": [{\"colorbar\": {\"outlinewidth\": 0, \"ticks\": \"\"}, \"colorscale\": [[0.0, \"#0d0887\"], [0.1111111111111111, \"#46039f\"], [0.2222222222222222, \"#7201a8\"], [0.3333333333333333, \"#9c179e\"], [0.4444444444444444, \"#bd3786\"], [0.5555555555555556, \"#d8576b\"], [0.6666666666666666, \"#ed7953\"], [0.7777777777777778, \"#fb9f3a\"], [0.8888888888888888, \"#fdca26\"], [1.0, \"#f0f921\"]], \"type\": \"surface\"}], \"table\": [{\"cells\": {\"fill\": {\"color\": \"#EBF0F8\"}, \"line\": {\"color\": \"white\"}}, \"header\": {\"fill\": {\"color\": \"#C8D4E3\"}, \"line\": {\"color\": \"white\"}}, \"type\": \"table\"}]}, \"layout\": {\"annotationdefaults\": {\"arrowcolor\": \"#2a3f5f\", \"arrowhead\": 0, \"arrowwidth\": 1}, \"coloraxis\": {\"colorbar\": {\"outlinewidth\": 0, \"ticks\": \"\"}}, \"colorscale\": {\"diverging\": [[0, \"#8e0152\"], [0.1, \"#c51b7d\"], [0.2, \"#de77ae\"], [0.3, \"#f1b6da\"], [0.4, \"#fde0ef\"], [0.5, \"#f7f7f7\"], [0.6, \"#e6f5d0\"], [0.7, \"#b8e186\"], [0.8, \"#7fbc41\"], [0.9, \"#4d9221\"], [1, \"#276419\"]], \"sequential\": [[0.0, \"#0d0887\"], [0.1111111111111111, \"#46039f\"], [0.2222222222222222, \"#7201a8\"], [0.3333333333333333, \"#9c179e\"], [0.4444444444444444, \"#bd3786\"], [0.5555555555555556, \"#d8576b\"], [0.6666666666666666, \"#ed7953\"], [0.7777777777777778, \"#fb9f3a\"], [0.8888888888888888, \"#fdca26\"], [1.0, \"#f0f921\"]], \"sequentialminus\": [[0.0, \"#0d0887\"], [0.1111111111111111, \"#46039f\"], [0.2222222222222222, \"#7201a8\"], [0.3333333333333333, \"#9c179e\"], [0.4444444444444444, \"#bd3786\"], [0.5555555555555556, \"#d8576b\"], [0.6666666666666666, \"#ed7953\"], [0.7777777777777778, \"#fb9f3a\"], [0.8888888888888888, \"#fdca26\"], [1.0, \"#f0f921\"]]}, \"colorway\": [\"#636efa\", \"#EF553B\", \"#00cc96\", \"#ab63fa\", \"#FFA15A\", \"#19d3f3\", \"#FF6692\", \"#B6E880\", \"#FF97FF\", \"#FECB52\"], \"font\": {\"color\": \"#2a3f5f\"}, \"geo\": {\"bgcolor\": \"white\", \"lakecolor\": \"white\", \"landcolor\": \"#E5ECF6\", \"showlakes\": true, \"showland\": true, \"subunitcolor\": \"white\"}, \"hoverlabel\": {\"align\": \"left\"}, \"hovermode\": \"closest\", \"mapbox\": {\"style\": \"light\"}, \"paper_bgcolor\": \"white\", \"plot_bgcolor\": \"#E5ECF6\", \"polar\": {\"angularaxis\": {\"gridcolor\": \"white\", \"linecolor\": \"white\", \"ticks\": \"\"}, \"bgcolor\": \"#E5ECF6\", \"radialaxis\": {\"gridcolor\": \"white\", \"linecolor\": \"white\", \"ticks\": \"\"}}, \"scene\": {\"xaxis\": {\"backgroundcolor\": \"#E5ECF6\", \"gridcolor\": \"white\", \"gridwidth\": 2, \"linecolor\": \"white\", \"showbackground\": true, \"ticks\": \"\", \"zerolinecolor\": \"white\"}, \"yaxis\": {\"backgroundcolor\": \"#E5ECF6\", \"gridcolor\": \"white\", \"gridwidth\": 2, \"linecolor\": \"white\", \"showbackground\": true, \"ticks\": \"\", \"zerolinecolor\": \"white\"}, \"zaxis\": {\"backgroundcolor\": \"#E5ECF6\", \"gridcolor\": \"white\", \"gridwidth\": 2, \"linecolor\": \"white\", \"showbackground\": true, \"ticks\": \"\", \"zerolinecolor\": \"white\"}}, \"shapedefaults\": {\"line\": {\"color\": \"#2a3f5f\"}}, \"ternary\": {\"aaxis\": {\"gridcolor\": \"white\", \"linecolor\": \"white\", \"ticks\": \"\"}, \"baxis\": {\"gridcolor\": \"white\", \"linecolor\": \"white\", \"ticks\": \"\"}, \"bgcolor\": \"#E5ECF6\", \"caxis\": {\"gridcolor\": \"white\", \"linecolor\": \"white\", \"ticks\": \"\"}}, \"title\": {\"x\": 0.05}, \"xaxis\": {\"automargin\": true, \"gridcolor\": \"white\", \"linecolor\": \"white\", \"ticks\": \"\", \"title\": {\"standoff\": 15}, \"zerolinecolor\": \"white\", \"zerolinewidth\": 2}, \"yaxis\": {\"automargin\": true, \"gridcolor\": \"white\", \"linecolor\": \"white\", \"ticks\": \"\", \"title\": {\"standoff\": 15}, \"zerolinecolor\": \"white\", \"zerolinewidth\": 2}}}},\n",
       "                        {\"responsive\": true}\n",
       "                    ).then(function(){\n",
       "                            \n",
       "var gd = document.getElementById('6f942205-bb3c-4dcb-b851-7f9b19727254');\n",
       "var x = new MutationObserver(function (mutations, observer) {{\n",
       "        var display = window.getComputedStyle(gd).display;\n",
       "        if (!display || display === 'none') {{\n",
       "            console.log([gd, 'removed!']);\n",
       "            Plotly.purge(gd);\n",
       "            observer.disconnect();\n",
       "        }}\n",
       "}});\n",
       "\n",
       "// Listen for the removal of the full notebook cells\n",
       "var notebookContainer = gd.closest('#notebook-container');\n",
       "if (notebookContainer) {{\n",
       "    x.observe(notebookContainer, {childList: true});\n",
       "}}\n",
       "\n",
       "// Listen for the clearing of the current output cell\n",
       "var outputEl = gd.closest('.output');\n",
       "if (outputEl) {{\n",
       "    x.observe(outputEl, {childList: true});\n",
       "}}\n",
       "\n",
       "                        })\n",
       "                };\n",
       "                });\n",
       "            </script>\n",
       "        </div>"
      ]
     },
     "metadata": {},
     "output_type": "display_data"
    },
    {
     "data": {
      "text/html": [
       "<div>\n",
       "<style scoped>\n",
       "    .dataframe tbody tr th:only-of-type {\n",
       "        vertical-align: middle;\n",
       "    }\n",
       "\n",
       "    .dataframe tbody tr th {\n",
       "        vertical-align: top;\n",
       "    }\n",
       "\n",
       "    .dataframe thead th {\n",
       "        text-align: right;\n",
       "    }\n",
       "</style>\n",
       "<table border=\"1\" class=\"dataframe\">\n",
       "  <thead>\n",
       "    <tr style=\"text-align: right;\">\n",
       "      <th></th>\n",
       "      <th>Grade 1</th>\n",
       "      <th>Grade 2</th>\n",
       "      <th>Grade 3</th>\n",
       "      <th>Grade 4</th>\n",
       "      <th>Grade 5</th>\n",
       "      <th>Grade 6</th>\n",
       "      <th>Grade 7</th>\n",
       "      <th>Grade 8</th>\n",
       "      <th>Grade 9</th>\n",
       "    </tr>\n",
       "    <tr>\n",
       "      <th>STATNAME</th>\n",
       "      <th></th>\n",
       "      <th></th>\n",
       "      <th></th>\n",
       "      <th></th>\n",
       "      <th></th>\n",
       "      <th></th>\n",
       "      <th></th>\n",
       "      <th></th>\n",
       "      <th></th>\n",
       "    </tr>\n",
       "  </thead>\n",
       "  <tbody>\n",
       "    <tr>\n",
       "      <th>A &amp; N ISLANDS</th>\n",
       "      <td>2086.333333</td>\n",
       "      <td>2098.333333</td>\n",
       "      <td>2096.000000</td>\n",
       "      <td>2076.333333</td>\n",
       "      <td>2111.666667</td>\n",
       "      <td>2098.000000</td>\n",
       "      <td>2091.000000</td>\n",
       "      <td>2046.666667</td>\n",
       "      <td>2296.666667</td>\n",
       "    </tr>\n",
       "    <tr>\n",
       "      <th>ANDHRA PRADESH</th>\n",
       "      <td>52872.692308</td>\n",
       "      <td>55591.923077</td>\n",
       "      <td>54998.538462</td>\n",
       "      <td>54867.615385</td>\n",
       "      <td>54491.384615</td>\n",
       "      <td>53767.923077</td>\n",
       "      <td>53937.769231</td>\n",
       "      <td>51111.384615</td>\n",
       "      <td>49520.692308</td>\n",
       "    </tr>\n",
       "    <tr>\n",
       "      <th>ARUNACHAL PRADESH</th>\n",
       "      <td>2861.200000</td>\n",
       "      <td>2346.000000</td>\n",
       "      <td>2091.950000</td>\n",
       "      <td>1925.150000</td>\n",
       "      <td>1837.200000</td>\n",
       "      <td>1775.050000</td>\n",
       "      <td>1661.750000</td>\n",
       "      <td>1624.600000</td>\n",
       "      <td>1457.550000</td>\n",
       "    </tr>\n",
       "    <tr>\n",
       "      <th>ASSAM</th>\n",
       "      <td>33277.333333</td>\n",
       "      <td>28126.333333</td>\n",
       "      <td>26591.037037</td>\n",
       "      <td>25288.518519</td>\n",
       "      <td>24528.666667</td>\n",
       "      <td>22382.185185</td>\n",
       "      <td>21069.370370</td>\n",
       "      <td>19923.703704</td>\n",
       "      <td>20127.296296</td>\n",
       "    </tr>\n",
       "    <tr>\n",
       "      <th>BIHAR</th>\n",
       "      <td>89273.210526</td>\n",
       "      <td>84066.736842</td>\n",
       "      <td>86984.105263</td>\n",
       "      <td>82625.631579</td>\n",
       "      <td>82578.947368</td>\n",
       "      <td>67107.657895</td>\n",
       "      <td>63354.105263</td>\n",
       "      <td>60635.526316</td>\n",
       "      <td>47523.315789</td>\n",
       "    </tr>\n",
       "  </tbody>\n",
       "</table>\n",
       "</div>"
      ],
      "text/plain": [
       "                        Grade 1       Grade 2       Grade 3       Grade 4  \\\n",
       "STATNAME                                                                    \n",
       "A & N ISLANDS       2086.333333   2098.333333   2096.000000   2076.333333   \n",
       "ANDHRA PRADESH     52872.692308  55591.923077  54998.538462  54867.615385   \n",
       "ARUNACHAL PRADESH   2861.200000   2346.000000   2091.950000   1925.150000   \n",
       "ASSAM              33277.333333  28126.333333  26591.037037  25288.518519   \n",
       "BIHAR              89273.210526  84066.736842  86984.105263  82625.631579   \n",
       "\n",
       "                        Grade 5       Grade 6       Grade 7       Grade 8  \\\n",
       "STATNAME                                                                    \n",
       "A & N ISLANDS       2111.666667   2098.000000   2091.000000   2046.666667   \n",
       "ANDHRA PRADESH     54491.384615  53767.923077  53937.769231  51111.384615   \n",
       "ARUNACHAL PRADESH   1837.200000   1775.050000   1661.750000   1624.600000   \n",
       "ASSAM              24528.666667  22382.185185  21069.370370  19923.703704   \n",
       "BIHAR              82578.947368  67107.657895  63354.105263  60635.526316   \n",
       "\n",
       "                        Grade 9  \n",
       "STATNAME                         \n",
       "A & N ISLANDS       2296.666667  \n",
       "ANDHRA PRADESH     49520.692308  \n",
       "ARUNACHAL PRADESH   1457.550000  \n",
       "ASSAM              20127.296296  \n",
       "BIHAR              47523.315789  "
      ]
     },
     "execution_count": 147,
     "metadata": {},
     "output_type": "execute_result"
    }
   ],
   "source": [
    "#Enrollment by grade\n",
    "df5=df.copy()[['STATNAME','C1_B','C2_B','C3_B','C4_B','C5_B','C6_B','C7_B','C8_B','C9_B','C1_G','C2_G','C3_G','C4_G','C5_G','C6_G','C7_G','C8_G','C9_G','TOTPOPULAT']]\n",
    "df5=df5.groupby(['STATNAME']).mean()\n",
    "df6=df.copy()[['STATNAME']]\n",
    "fig=go.Figure()\n",
    "df6['a']=df5[df5.columns[0]]+df5[df5.columns[0+9]]\n",
    "\n",
    "df6=df6.groupby(['STATNAME']).mean()\n",
    "\n",
    "for i in range(0,10):\n",
    "    df6['Grade '+str(i+1)]=(df5[df5.columns[i]]+df5[df5.columns[i+9]])\n",
    "    if i==8:\n",
    "        break\n",
    "df6.drop('a', axis=1, inplace=True)\n",
    "for i in df6.columns:\n",
    "    fig.add_trace(go.Scatter(x=df6.index, y=df6[i],\n",
    "                    mode='lines+markers',\n",
    "                    name=i))\n",
    "fig.show()\n",
    "df6.head()"
   ]
  },
  {
   "cell_type": "code",
   "execution_count": 146,
   "metadata": {},
   "outputs": [
    {
     "data": {
      "application/vnd.plotly.v1+json": {
       "config": {
        "plotlyServerURL": "https://plot.ly"
       },
       "data": [
        {
         "mode": "lines+markers",
         "name": "Grade 1",
         "type": "scatter",
         "x": [
          "A & N ISLANDS",
          "ANDHRA PRADESH",
          "ARUNACHAL PRADESH",
          "ASSAM",
          "BIHAR",
          "CHANDIGARH",
          "CHHATTISGARH",
          "DADRA & NAGAR HAVELI",
          "DAMAN & DIU",
          "DELHI",
          "GOA",
          "GUJARAT",
          "HARYANA",
          "HIMACHAL PRADESH",
          "JAMMU & KASHMIR",
          "JHARKHAND",
          "KARNATAKA",
          "KERALA",
          "LAKSHADWEEP",
          "MADHYA PRADESH",
          "MAHARASHTRA",
          "MANIPUR",
          "MEGHALAYA",
          "MIZORAM",
          "NAGALAND",
          "ODISHA",
          "PUDUCHERRY",
          "PUNJAB",
          "RAJASTHAN",
          "SIKKIM",
          "TAMIL NADU",
          "TELANGANA",
          "TRIPURA",
          "UTTAR PRADESH",
          "UTTARAKHAND",
          "WEST BENGAL"
         ],
         "y": [
          0.016473480302360344,
          0.013919846858901486,
          0.03311068695388652,
          0.028826082303109294,
          0.03268044759888713,
          0.014874569303091157,
          0.013348976646929583,
          0.026547820786167832,
          0.014717324452165607,
          0.020551135347889524,
          0.01740454119198229,
          0.014682683474561961,
          0.017621250845212856,
          0.017326455780922914,
          0.023948503640869343,
          0.029641932452225822,
          0.016406509412818723,
          0.014949377879748866,
          0.01438793090068137,
          0.021738102832145036,
          0.01764862402440805,
          0.02922010643128922,
          0.030997105055297222,
          0.03583455391039895,
          0.02566391430484267,
          0.018409624643991845,
          0.016689916301315263,
          0.016738300171201915,
          0.02963242512366329,
          0.018920893616461078,
          0.01595529175652038,
          0.02060399032985661,
          0.009075104766180191,
          0.025586259256580875,
          0.0239039169883773,
          0.017579143836356843
         ]
        },
        {
         "mode": "lines+markers",
         "name": "Grade 2",
         "type": "scatter",
         "x": [
          "A & N ISLANDS",
          "ANDHRA PRADESH",
          "ARUNACHAL PRADESH",
          "ASSAM",
          "BIHAR",
          "CHANDIGARH",
          "CHHATTISGARH",
          "DADRA & NAGAR HAVELI",
          "DAMAN & DIU",
          "DELHI",
          "GOA",
          "GUJARAT",
          "HARYANA",
          "HIMACHAL PRADESH",
          "JAMMU & KASHMIR",
          "JHARKHAND",
          "KARNATAKA",
          "KERALA",
          "LAKSHADWEEP",
          "MADHYA PRADESH",
          "MAHARASHTRA",
          "MANIPUR",
          "MEGHALAYA",
          "MIZORAM",
          "NAGALAND",
          "ODISHA",
          "PUDUCHERRY",
          "PUNJAB",
          "RAJASTHAN",
          "SIKKIM",
          "TAMIL NADU",
          "TELANGANA",
          "TRIPURA",
          "UTTAR PRADESH",
          "UTTARAKHAND",
          "WEST BENGAL"
         ],
         "y": [
          0.016568231107742193,
          0.014635741477269506,
          0.02714863399755969,
          0.02436409166053028,
          0.03077450191362839,
          0.016859994349029,
          0.01298651321713735,
          0.02205026644071949,
          0.015478920262976975,
          0.022139246539548928,
          0.01696344230008033,
          0.013489519397743394,
          0.018143988101485577,
          0.017028199044149143,
          0.019741689448164727,
          0.026863847794825726,
          0.01592869041428886,
          0.014689880940204377,
          0.012975523444411679,
          0.02203678135302013,
          0.017453059995798832,
          0.027519366173896557,
          0.024485128040888874,
          0.02691624488778329,
          0.024982303360291468,
          0.018946756997160173,
          0.01669232697771892,
          0.01638692627103208,
          0.02441648630888743,
          0.017826582061847528,
          0.016849346345740143,
          0.018241772685429834,
          0.009929769067662717,
          0.0240941959425089,
          0.022010226206988177,
          0.017118139650287155
         ]
        },
        {
         "mode": "lines+markers",
         "name": "Grade 3",
         "type": "scatter",
         "x": [
          "A & N ISLANDS",
          "ANDHRA PRADESH",
          "ARUNACHAL PRADESH",
          "ASSAM",
          "BIHAR",
          "CHANDIGARH",
          "CHHATTISGARH",
          "DADRA & NAGAR HAVELI",
          "DAMAN & DIU",
          "DELHI",
          "GOA",
          "GUJARAT",
          "HARYANA",
          "HIMACHAL PRADESH",
          "JAMMU & KASHMIR",
          "JHARKHAND",
          "KARNATAKA",
          "KERALA",
          "LAKSHADWEEP",
          "MADHYA PRADESH",
          "MAHARASHTRA",
          "MANIPUR",
          "MEGHALAYA",
          "MIZORAM",
          "NAGALAND",
          "ODISHA",
          "PUDUCHERRY",
          "PUNJAB",
          "RAJASTHAN",
          "SIKKIM",
          "TAMIL NADU",
          "TELANGANA",
          "TRIPURA",
          "UTTAR PRADESH",
          "UTTARAKHAND",
          "WEST BENGAL"
         ],
         "y": [
          0.016549807340029057,
          0.014479520513023652,
          0.024208689211933074,
          0.02303416005352964,
          0.03184246961915584,
          0.01808500349867164,
          0.012662299341737366,
          0.02221943515150808,
          0.0146555734404782,
          0.022557553809756742,
          0.016855740082306447,
          0.014643957344319766,
          0.0186023150401326,
          0.0166333917158134,
          0.019153113182753645,
          0.027058198148056805,
          0.015573963501895487,
          0.014618716959553673,
          0.008707259153486784,
          0.022035390391874847,
          0.0172393619110949,
          0.02478363233148012,
          0.022982463205445138,
          0.02495568342844363,
          0.024151747801930933,
          0.01902398005427573,
          0.016789557592666402,
          0.015940653853931806,
          0.022719178201568928,
          0.019019628493569068,
          0.016759467842061965,
          0.017924401497139565,
          0.010043361103907565,
          0.02459844707933492,
          0.021757971333091885,
          0.01277920109692537
         ]
        },
        {
         "mode": "lines+markers",
         "name": "Grade 4",
         "type": "scatter",
         "x": [
          "A & N ISLANDS",
          "ANDHRA PRADESH",
          "ARUNACHAL PRADESH",
          "ASSAM",
          "BIHAR",
          "CHANDIGARH",
          "CHHATTISGARH",
          "DADRA & NAGAR HAVELI",
          "DAMAN & DIU",
          "DELHI",
          "GOA",
          "GUJARAT",
          "HARYANA",
          "HIMACHAL PRADESH",
          "JAMMU & KASHMIR",
          "JHARKHAND",
          "KARNATAKA",
          "KERALA",
          "LAKSHADWEEP",
          "MADHYA PRADESH",
          "MAHARASHTRA",
          "MANIPUR",
          "MEGHALAYA",
          "MIZORAM",
          "NAGALAND",
          "ODISHA",
          "PUDUCHERRY",
          "PUNJAB",
          "RAJASTHAN",
          "SIKKIM",
          "TAMIL NADU",
          "TELANGANA",
          "TRIPURA",
          "UTTAR PRADESH",
          "UTTARAKHAND",
          "WEST BENGAL"
         ],
         "y": [
          0.016394521297875473,
          0.01444505226293985,
          0.022278428278091237,
          0.021905869344654567,
          0.03024695322618392,
          0.018946871391105978,
          0.013207219980466626,
          0.011710558169244545,
          0.015338951303152184,
          0.02301818126469306,
          0.01695178027649972,
          0.014849996536588802,
          0.01869883190922634,
          0.016408058386563777,
          0.018738735091752078,
          0.025750253941623547,
          0.015339095487635035,
          0.014862938802241318,
          0.015334709525213801,
          0.022384602666202697,
          0.017196959712182592,
          0.023118530830831274,
          0.020676187214255445,
          0.02323618212048608,
          0.023745810617175987,
          0.01939387687601288,
          0.017006518468995487,
          0.01616080397498517,
          0.02176519926578757,
          0.021280657179342032,
          0.016771555151323173,
          0.017592889026327923,
          0.010391628294169052,
          0.023658527589712142,
          0.021327793742497592,
          0.01984592746375855
         ]
        },
        {
         "mode": "lines+markers",
         "name": "Grade 5",
         "type": "scatter",
         "x": [
          "A & N ISLANDS",
          "ANDHRA PRADESH",
          "ARUNACHAL PRADESH",
          "ASSAM",
          "BIHAR",
          "CHANDIGARH",
          "CHHATTISGARH",
          "DADRA & NAGAR HAVELI",
          "DAMAN & DIU",
          "DELHI",
          "GOA",
          "GUJARAT",
          "HARYANA",
          "HIMACHAL PRADESH",
          "JAMMU & KASHMIR",
          "JHARKHAND",
          "KARNATAKA",
          "KERALA",
          "LAKSHADWEEP",
          "MADHYA PRADESH",
          "MAHARASHTRA",
          "MANIPUR",
          "MEGHALAYA",
          "MIZORAM",
          "NAGALAND",
          "ODISHA",
          "PUDUCHERRY",
          "PUNJAB",
          "RAJASTHAN",
          "SIKKIM",
          "TAMIL NADU",
          "TELANGANA",
          "TRIPURA",
          "UTTAR PRADESH",
          "UTTARAKHAND",
          "WEST BENGAL"
         ],
         "y": [
          0.016673509780388687,
          0.014346001610084463,
          0.021260643810876664,
          0.021247656987304672,
          0.03022986343086003,
          0.019629539028677728,
          0.013618278962419563,
          0.023044861792079988,
          0.014507371012428421,
          0.024367293839070485,
          0.0167432358548229,
          0.016028899272317505,
          0.019097954998053293,
          0.017357375305713154,
          0.01795261204026544,
          0.02577934430977535,
          0.014784820253145379,
          0.014817413023373863,
          0.01701097331946794,
          0.021337992183481688,
          0.017208726084457785,
          0.022232338240459473,
          0.018455145962267237,
          0.022251776787465604,
          0.02166210071483317,
          0.019475641103003823,
          0.01641750986770208,
          0.01643404738801414,
          0.022036326132876035,
          0.023015099853872383,
          0.017105356426527045,
          0.01765379006067347,
          0.01052810217944164,
          0.021926379470575817,
          0.021233890086462533,
          0.01698832151845514
         ]
        },
        {
         "mode": "lines+markers",
         "name": "Grade 6",
         "type": "scatter",
         "x": [
          "A & N ISLANDS",
          "ANDHRA PRADESH",
          "ARUNACHAL PRADESH",
          "ASSAM",
          "BIHAR",
          "CHANDIGARH",
          "CHHATTISGARH",
          "DADRA & NAGAR HAVELI",
          "DAMAN & DIU",
          "DELHI",
          "GOA",
          "GUJARAT",
          "HARYANA",
          "HIMACHAL PRADESH",
          "JAMMU & KASHMIR",
          "JHARKHAND",
          "KARNATAKA",
          "KERALA",
          "LAKSHADWEEP",
          "MADHYA PRADESH",
          "MAHARASHTRA",
          "MANIPUR",
          "MEGHALAYA",
          "MIZORAM",
          "NAGALAND",
          "ODISHA",
          "PUDUCHERRY",
          "PUNJAB",
          "RAJASTHAN",
          "SIKKIM",
          "TAMIL NADU",
          "TELANGANA",
          "TRIPURA",
          "UTTAR PRADESH",
          "UTTARAKHAND",
          "WEST BENGAL"
         ],
         "y": [
          0.01656559914092603,
          0.014155535163528557,
          0.020541424883788715,
          0.01938829370156608,
          0.024566253239727626,
          0.02051985140601089,
          0.01356935346955554,
          0.022566522678815704,
          0.013939261704904265,
          0.02265634070076615,
          0.016801545972725956,
          0.015531370272228173,
          0.01824448870730938,
          0.017894237431905942,
          0.016762789102429957,
          0.021636651412878835,
          0.014352410225415866,
          0.015034049838208273,
          0.01643669776032532,
          0.021550404104395206,
          0.017404956297379648,
          0.020058741488950517,
          0.01802381953643405,
          0.022179367084198737,
          0.020208502263453235,
          0.018177376241793712,
          0.017507939160956044,
          0.0167621888711761,
          0.021468409705178933,
          0.026042969418517397,
          0.016356291506140402,
          0.017150570113314747,
          0.00945606031219559,
          0.01762971714387436,
          0.020101214302772275,
          0.016447784156977462
         ]
        },
        {
         "mode": "lines+markers",
         "name": "Grade 7",
         "type": "scatter",
         "x": [
          "A & N ISLANDS",
          "ANDHRA PRADESH",
          "ARUNACHAL PRADESH",
          "ASSAM",
          "BIHAR",
          "CHANDIGARH",
          "CHHATTISGARH",
          "DADRA & NAGAR HAVELI",
          "DAMAN & DIU",
          "DELHI",
          "GOA",
          "GUJARAT",
          "HARYANA",
          "HIMACHAL PRADESH",
          "JAMMU & KASHMIR",
          "JHARKHAND",
          "KARNATAKA",
          "KERALA",
          "LAKSHADWEEP",
          "MADHYA PRADESH",
          "MAHARASHTRA",
          "MANIPUR",
          "MEGHALAYA",
          "MIZORAM",
          "NAGALAND",
          "ODISHA",
          "PUDUCHERRY",
          "PUNJAB",
          "RAJASTHAN",
          "SIKKIM",
          "TAMIL NADU",
          "TELANGANA",
          "TRIPURA",
          "UTTAR PRADESH",
          "UTTARAKHAND",
          "WEST BENGAL"
         ],
         "y": [
          0.01651032783778662,
          0.01420025073120484,
          0.019230282414938113,
          0.018251083952169303,
          0.02319218167488992,
          0.02062604414963316,
          0.012982553928697484,
          0.02173234593251335,
          0.013490537686642433,
          0.022037773600143497,
          0.016396805154340024,
          0.015101886005701191,
          0.018518459354111637,
          0.018253166443739813,
          0.015987902072257018,
          0.020887946025263785,
          0.014116849385154643,
          0.0154618124525405,
          0.015846901240124788,
          0.021390295023439605,
          0.01768698585872292,
          0.019095025417414344,
          0.016074155388603704,
          0.02130403459533975,
          0.018756923400057152,
          0.016927952125978023,
          0.017224282904125792,
          0.01604890772922694,
          0.019445443328641086,
          0.023604217953950055,
          0.017159277724503815,
          0.01690943149011965,
          0.009281994817806002,
          0.01757707645384346,
          0.019656901740795863,
          0.016476037044865187
         ]
        },
        {
         "mode": "lines+markers",
         "name": "Grade 8",
         "type": "scatter",
         "x": [
          "A & N ISLANDS",
          "ANDHRA PRADESH",
          "ARUNACHAL PRADESH",
          "ASSAM",
          "BIHAR",
          "CHANDIGARH",
          "CHHATTISGARH",
          "DADRA & NAGAR HAVELI",
          "DAMAN & DIU",
          "DELHI",
          "GOA",
          "GUJARAT",
          "HARYANA",
          "HIMACHAL PRADESH",
          "JAMMU & KASHMIR",
          "JHARKHAND",
          "KARNATAKA",
          "KERALA",
          "LAKSHADWEEP",
          "MADHYA PRADESH",
          "MAHARASHTRA",
          "MANIPUR",
          "MEGHALAYA",
          "MIZORAM",
          "NAGALAND",
          "ODISHA",
          "PUDUCHERRY",
          "PUNJAB",
          "RAJASTHAN",
          "SIKKIM",
          "TAMIL NADU",
          "TELANGANA",
          "TRIPURA",
          "UTTAR PRADESH",
          "UTTARAKHAND",
          "WEST BENGAL"
         ],
         "y": [
          0.016160276251237022,
          0.013456145612033803,
          0.0188003711817713,
          0.01725866423829212,
          0.022196985284963718,
          0.02019084353068117,
          0.012672150428450834,
          0.022137767498023934,
          0.013050047136605588,
          0.022160794616681495,
          0.016551155466436353,
          0.014286301698744026,
          0.018232103624802053,
          0.017765308847403252,
          0.01567759663257238,
          0.02022265931587341,
          0.013881562788518728,
          0.01574236506481119,
          0.016886805631004673,
          0.020410329135397743,
          0.0169679653435209,
          0.01863098676001817,
          0.014827838861992626,
          0.01976051636367636,
          0.017389157437991076,
          0.016261651292935938,
          0.017844630298666734,
          0.01555223278031299,
          0.018346800248297126,
          0.023564724003106857,
          0.017065873151017145,
          0.015766311423857964,
          0.00886235805081514,
          0.017705614033510734,
          0.019298881696417983,
          0.016606726091406402
         ]
        },
        {
         "mode": "lines+markers",
         "name": "Grade 9",
         "type": "scatter",
         "x": [
          "A & N ISLANDS",
          "ANDHRA PRADESH",
          "ARUNACHAL PRADESH",
          "ASSAM",
          "BIHAR",
          "CHANDIGARH",
          "CHHATTISGARH",
          "DADRA & NAGAR HAVELI",
          "DAMAN & DIU",
          "DELHI",
          "GOA",
          "GUJARAT",
          "HARYANA",
          "HIMACHAL PRADESH",
          "JAMMU & KASHMIR",
          "JHARKHAND",
          "KARNATAKA",
          "KERALA",
          "LAKSHADWEEP",
          "MADHYA PRADESH",
          "MAHARASHTRA",
          "MANIPUR",
          "MEGHALAYA",
          "MIZORAM",
          "NAGALAND",
          "ODISHA",
          "PUDUCHERRY",
          "PUNJAB",
          "RAJASTHAN",
          "SIKKIM",
          "TAMIL NADU",
          "TELANGANA",
          "TRIPURA",
          "UTTAR PRADESH",
          "UTTARAKHAND",
          "WEST BENGAL"
         ],
         "y": [
          0.018134251363358812,
          0.013037362449000358,
          0.01686721717099025,
          0.017435023827313,
          0.017396968499586392,
          0.021408267484350794,
          0.012492639118650612,
          0.020364412736653903,
          0.013379385865605099,
          0.025574463678209015,
          0.020282317010844996,
          0.011918840790501168,
          0.018009093253794285,
          0.018456914444362284,
          0.014426971678691863,
          0.016357098435071663,
          0.013302663363251767,
          0.016342586517774208,
          0.02182247124741964,
          0.0198117972041365,
          0.016898232284301724,
          0.016065363684327327,
          0.01253122423922628,
          0.020265551129499713,
          0.018330790335463663,
          0.015026939640747122,
          0.018876399799431724,
          0.014940380170809195,
          0.017691723928524986,
          0.02651854240992088,
          0.016854700748041924,
          0.015155940796713055,
          0.011513519903939819,
          0.015691872848500866,
          0.018987813480057632,
          0.015849797528789362
         ]
        }
       ],
       "layout": {
        "template": {
         "data": {
          "bar": [
           {
            "error_x": {
             "color": "#2a3f5f"
            },
            "error_y": {
             "color": "#2a3f5f"
            },
            "marker": {
             "line": {
              "color": "#E5ECF6",
              "width": 0.5
             }
            },
            "type": "bar"
           }
          ],
          "barpolar": [
           {
            "marker": {
             "line": {
              "color": "#E5ECF6",
              "width": 0.5
             }
            },
            "type": "barpolar"
           }
          ],
          "carpet": [
           {
            "aaxis": {
             "endlinecolor": "#2a3f5f",
             "gridcolor": "white",
             "linecolor": "white",
             "minorgridcolor": "white",
             "startlinecolor": "#2a3f5f"
            },
            "baxis": {
             "endlinecolor": "#2a3f5f",
             "gridcolor": "white",
             "linecolor": "white",
             "minorgridcolor": "white",
             "startlinecolor": "#2a3f5f"
            },
            "type": "carpet"
           }
          ],
          "choropleth": [
           {
            "colorbar": {
             "outlinewidth": 0,
             "ticks": ""
            },
            "type": "choropleth"
           }
          ],
          "contour": [
           {
            "colorbar": {
             "outlinewidth": 0,
             "ticks": ""
            },
            "colorscale": [
             [
              0,
              "#0d0887"
             ],
             [
              0.1111111111111111,
              "#46039f"
             ],
             [
              0.2222222222222222,
              "#7201a8"
             ],
             [
              0.3333333333333333,
              "#9c179e"
             ],
             [
              0.4444444444444444,
              "#bd3786"
             ],
             [
              0.5555555555555556,
              "#d8576b"
             ],
             [
              0.6666666666666666,
              "#ed7953"
             ],
             [
              0.7777777777777778,
              "#fb9f3a"
             ],
             [
              0.8888888888888888,
              "#fdca26"
             ],
             [
              1,
              "#f0f921"
             ]
            ],
            "type": "contour"
           }
          ],
          "contourcarpet": [
           {
            "colorbar": {
             "outlinewidth": 0,
             "ticks": ""
            },
            "type": "contourcarpet"
           }
          ],
          "heatmap": [
           {
            "colorbar": {
             "outlinewidth": 0,
             "ticks": ""
            },
            "colorscale": [
             [
              0,
              "#0d0887"
             ],
             [
              0.1111111111111111,
              "#46039f"
             ],
             [
              0.2222222222222222,
              "#7201a8"
             ],
             [
              0.3333333333333333,
              "#9c179e"
             ],
             [
              0.4444444444444444,
              "#bd3786"
             ],
             [
              0.5555555555555556,
              "#d8576b"
             ],
             [
              0.6666666666666666,
              "#ed7953"
             ],
             [
              0.7777777777777778,
              "#fb9f3a"
             ],
             [
              0.8888888888888888,
              "#fdca26"
             ],
             [
              1,
              "#f0f921"
             ]
            ],
            "type": "heatmap"
           }
          ],
          "heatmapgl": [
           {
            "colorbar": {
             "outlinewidth": 0,
             "ticks": ""
            },
            "colorscale": [
             [
              0,
              "#0d0887"
             ],
             [
              0.1111111111111111,
              "#46039f"
             ],
             [
              0.2222222222222222,
              "#7201a8"
             ],
             [
              0.3333333333333333,
              "#9c179e"
             ],
             [
              0.4444444444444444,
              "#bd3786"
             ],
             [
              0.5555555555555556,
              "#d8576b"
             ],
             [
              0.6666666666666666,
              "#ed7953"
             ],
             [
              0.7777777777777778,
              "#fb9f3a"
             ],
             [
              0.8888888888888888,
              "#fdca26"
             ],
             [
              1,
              "#f0f921"
             ]
            ],
            "type": "heatmapgl"
           }
          ],
          "histogram": [
           {
            "marker": {
             "colorbar": {
              "outlinewidth": 0,
              "ticks": ""
             }
            },
            "type": "histogram"
           }
          ],
          "histogram2d": [
           {
            "colorbar": {
             "outlinewidth": 0,
             "ticks": ""
            },
            "colorscale": [
             [
              0,
              "#0d0887"
             ],
             [
              0.1111111111111111,
              "#46039f"
             ],
             [
              0.2222222222222222,
              "#7201a8"
             ],
             [
              0.3333333333333333,
              "#9c179e"
             ],
             [
              0.4444444444444444,
              "#bd3786"
             ],
             [
              0.5555555555555556,
              "#d8576b"
             ],
             [
              0.6666666666666666,
              "#ed7953"
             ],
             [
              0.7777777777777778,
              "#fb9f3a"
             ],
             [
              0.8888888888888888,
              "#fdca26"
             ],
             [
              1,
              "#f0f921"
             ]
            ],
            "type": "histogram2d"
           }
          ],
          "histogram2dcontour": [
           {
            "colorbar": {
             "outlinewidth": 0,
             "ticks": ""
            },
            "colorscale": [
             [
              0,
              "#0d0887"
             ],
             [
              0.1111111111111111,
              "#46039f"
             ],
             [
              0.2222222222222222,
              "#7201a8"
             ],
             [
              0.3333333333333333,
              "#9c179e"
             ],
             [
              0.4444444444444444,
              "#bd3786"
             ],
             [
              0.5555555555555556,
              "#d8576b"
             ],
             [
              0.6666666666666666,
              "#ed7953"
             ],
             [
              0.7777777777777778,
              "#fb9f3a"
             ],
             [
              0.8888888888888888,
              "#fdca26"
             ],
             [
              1,
              "#f0f921"
             ]
            ],
            "type": "histogram2dcontour"
           }
          ],
          "mesh3d": [
           {
            "colorbar": {
             "outlinewidth": 0,
             "ticks": ""
            },
            "type": "mesh3d"
           }
          ],
          "parcoords": [
           {
            "line": {
             "colorbar": {
              "outlinewidth": 0,
              "ticks": ""
             }
            },
            "type": "parcoords"
           }
          ],
          "pie": [
           {
            "automargin": true,
            "type": "pie"
           }
          ],
          "scatter": [
           {
            "marker": {
             "colorbar": {
              "outlinewidth": 0,
              "ticks": ""
             }
            },
            "type": "scatter"
           }
          ],
          "scatter3d": [
           {
            "line": {
             "colorbar": {
              "outlinewidth": 0,
              "ticks": ""
             }
            },
            "marker": {
             "colorbar": {
              "outlinewidth": 0,
              "ticks": ""
             }
            },
            "type": "scatter3d"
           }
          ],
          "scattercarpet": [
           {
            "marker": {
             "colorbar": {
              "outlinewidth": 0,
              "ticks": ""
             }
            },
            "type": "scattercarpet"
           }
          ],
          "scattergeo": [
           {
            "marker": {
             "colorbar": {
              "outlinewidth": 0,
              "ticks": ""
             }
            },
            "type": "scattergeo"
           }
          ],
          "scattergl": [
           {
            "marker": {
             "colorbar": {
              "outlinewidth": 0,
              "ticks": ""
             }
            },
            "type": "scattergl"
           }
          ],
          "scattermapbox": [
           {
            "marker": {
             "colorbar": {
              "outlinewidth": 0,
              "ticks": ""
             }
            },
            "type": "scattermapbox"
           }
          ],
          "scatterpolar": [
           {
            "marker": {
             "colorbar": {
              "outlinewidth": 0,
              "ticks": ""
             }
            },
            "type": "scatterpolar"
           }
          ],
          "scatterpolargl": [
           {
            "marker": {
             "colorbar": {
              "outlinewidth": 0,
              "ticks": ""
             }
            },
            "type": "scatterpolargl"
           }
          ],
          "scatterternary": [
           {
            "marker": {
             "colorbar": {
              "outlinewidth": 0,
              "ticks": ""
             }
            },
            "type": "scatterternary"
           }
          ],
          "surface": [
           {
            "colorbar": {
             "outlinewidth": 0,
             "ticks": ""
            },
            "colorscale": [
             [
              0,
              "#0d0887"
             ],
             [
              0.1111111111111111,
              "#46039f"
             ],
             [
              0.2222222222222222,
              "#7201a8"
             ],
             [
              0.3333333333333333,
              "#9c179e"
             ],
             [
              0.4444444444444444,
              "#bd3786"
             ],
             [
              0.5555555555555556,
              "#d8576b"
             ],
             [
              0.6666666666666666,
              "#ed7953"
             ],
             [
              0.7777777777777778,
              "#fb9f3a"
             ],
             [
              0.8888888888888888,
              "#fdca26"
             ],
             [
              1,
              "#f0f921"
             ]
            ],
            "type": "surface"
           }
          ],
          "table": [
           {
            "cells": {
             "fill": {
              "color": "#EBF0F8"
             },
             "line": {
              "color": "white"
             }
            },
            "header": {
             "fill": {
              "color": "#C8D4E3"
             },
             "line": {
              "color": "white"
             }
            },
            "type": "table"
           }
          ]
         },
         "layout": {
          "annotationdefaults": {
           "arrowcolor": "#2a3f5f",
           "arrowhead": 0,
           "arrowwidth": 1
          },
          "coloraxis": {
           "colorbar": {
            "outlinewidth": 0,
            "ticks": ""
           }
          },
          "colorscale": {
           "diverging": [
            [
             0,
             "#8e0152"
            ],
            [
             0.1,
             "#c51b7d"
            ],
            [
             0.2,
             "#de77ae"
            ],
            [
             0.3,
             "#f1b6da"
            ],
            [
             0.4,
             "#fde0ef"
            ],
            [
             0.5,
             "#f7f7f7"
            ],
            [
             0.6,
             "#e6f5d0"
            ],
            [
             0.7,
             "#b8e186"
            ],
            [
             0.8,
             "#7fbc41"
            ],
            [
             0.9,
             "#4d9221"
            ],
            [
             1,
             "#276419"
            ]
           ],
           "sequential": [
            [
             0,
             "#0d0887"
            ],
            [
             0.1111111111111111,
             "#46039f"
            ],
            [
             0.2222222222222222,
             "#7201a8"
            ],
            [
             0.3333333333333333,
             "#9c179e"
            ],
            [
             0.4444444444444444,
             "#bd3786"
            ],
            [
             0.5555555555555556,
             "#d8576b"
            ],
            [
             0.6666666666666666,
             "#ed7953"
            ],
            [
             0.7777777777777778,
             "#fb9f3a"
            ],
            [
             0.8888888888888888,
             "#fdca26"
            ],
            [
             1,
             "#f0f921"
            ]
           ],
           "sequentialminus": [
            [
             0,
             "#0d0887"
            ],
            [
             0.1111111111111111,
             "#46039f"
            ],
            [
             0.2222222222222222,
             "#7201a8"
            ],
            [
             0.3333333333333333,
             "#9c179e"
            ],
            [
             0.4444444444444444,
             "#bd3786"
            ],
            [
             0.5555555555555556,
             "#d8576b"
            ],
            [
             0.6666666666666666,
             "#ed7953"
            ],
            [
             0.7777777777777778,
             "#fb9f3a"
            ],
            [
             0.8888888888888888,
             "#fdca26"
            ],
            [
             1,
             "#f0f921"
            ]
           ]
          },
          "colorway": [
           "#636efa",
           "#EF553B",
           "#00cc96",
           "#ab63fa",
           "#FFA15A",
           "#19d3f3",
           "#FF6692",
           "#B6E880",
           "#FF97FF",
           "#FECB52"
          ],
          "font": {
           "color": "#2a3f5f"
          },
          "geo": {
           "bgcolor": "white",
           "lakecolor": "white",
           "landcolor": "#E5ECF6",
           "showlakes": true,
           "showland": true,
           "subunitcolor": "white"
          },
          "hoverlabel": {
           "align": "left"
          },
          "hovermode": "closest",
          "mapbox": {
           "style": "light"
          },
          "paper_bgcolor": "white",
          "plot_bgcolor": "#E5ECF6",
          "polar": {
           "angularaxis": {
            "gridcolor": "white",
            "linecolor": "white",
            "ticks": ""
           },
           "bgcolor": "#E5ECF6",
           "radialaxis": {
            "gridcolor": "white",
            "linecolor": "white",
            "ticks": ""
           }
          },
          "scene": {
           "xaxis": {
            "backgroundcolor": "#E5ECF6",
            "gridcolor": "white",
            "gridwidth": 2,
            "linecolor": "white",
            "showbackground": true,
            "ticks": "",
            "zerolinecolor": "white"
           },
           "yaxis": {
            "backgroundcolor": "#E5ECF6",
            "gridcolor": "white",
            "gridwidth": 2,
            "linecolor": "white",
            "showbackground": true,
            "ticks": "",
            "zerolinecolor": "white"
           },
           "zaxis": {
            "backgroundcolor": "#E5ECF6",
            "gridcolor": "white",
            "gridwidth": 2,
            "linecolor": "white",
            "showbackground": true,
            "ticks": "",
            "zerolinecolor": "white"
           }
          },
          "shapedefaults": {
           "line": {
            "color": "#2a3f5f"
           }
          },
          "ternary": {
           "aaxis": {
            "gridcolor": "white",
            "linecolor": "white",
            "ticks": ""
           },
           "baxis": {
            "gridcolor": "white",
            "linecolor": "white",
            "ticks": ""
           },
           "bgcolor": "#E5ECF6",
           "caxis": {
            "gridcolor": "white",
            "linecolor": "white",
            "ticks": ""
           }
          },
          "title": {
           "x": 0.05
          },
          "xaxis": {
           "automargin": true,
           "gridcolor": "white",
           "linecolor": "white",
           "ticks": "",
           "title": {
            "standoff": 15
           },
           "zerolinecolor": "white",
           "zerolinewidth": 2
          },
          "yaxis": {
           "automargin": true,
           "gridcolor": "white",
           "linecolor": "white",
           "ticks": "",
           "title": {
            "standoff": 15
           },
           "zerolinecolor": "white",
           "zerolinewidth": 2
          }
         }
        }
       }
      },
      "text/html": [
       "<div>\n",
       "        \n",
       "        \n",
       "            <div id=\"159cd1bb-f9cc-4743-b3d7-86ef7dd41211\" class=\"plotly-graph-div\" style=\"height:525px; width:100%;\"></div>\n",
       "            <script type=\"text/javascript\">\n",
       "                require([\"plotly\"], function(Plotly) {\n",
       "                    window.PLOTLYENV=window.PLOTLYENV || {};\n",
       "                    \n",
       "                if (document.getElementById(\"159cd1bb-f9cc-4743-b3d7-86ef7dd41211\")) {\n",
       "                    Plotly.newPlot(\n",
       "                        '159cd1bb-f9cc-4743-b3d7-86ef7dd41211',\n",
       "                        [{\"mode\": \"lines+markers\", \"name\": \"Grade 1\", \"type\": \"scatter\", \"x\": [\"A & N ISLANDS\", \"ANDHRA PRADESH\", \"ARUNACHAL PRADESH\", \"ASSAM\", \"BIHAR\", \"CHANDIGARH\", \"CHHATTISGARH\", \"DADRA & NAGAR HAVELI\", \"DAMAN & DIU\", \"DELHI\", \"GOA\", \"GUJARAT\", \"HARYANA\", \"HIMACHAL PRADESH\", \"JAMMU & KASHMIR\", \"JHARKHAND\", \"KARNATAKA\", \"KERALA\", \"LAKSHADWEEP\", \"MADHYA PRADESH\", \"MAHARASHTRA\", \"MANIPUR\", \"MEGHALAYA\", \"MIZORAM\", \"NAGALAND\", \"ODISHA\", \"PUDUCHERRY\", \"PUNJAB\", \"RAJASTHAN\", \"SIKKIM\", \"TAMIL NADU\", \"TELANGANA\", \"TRIPURA\", \"UTTAR PRADESH\", \"UTTARAKHAND\", \"WEST BENGAL\"], \"y\": [0.016473480302360344, 0.013919846858901486, 0.03311068695388652, 0.028826082303109294, 0.03268044759888713, 0.014874569303091157, 0.013348976646929583, 0.026547820786167832, 0.014717324452165607, 0.020551135347889524, 0.01740454119198229, 0.014682683474561961, 0.017621250845212856, 0.017326455780922914, 0.023948503640869343, 0.029641932452225822, 0.016406509412818723, 0.014949377879748866, 0.01438793090068137, 0.021738102832145036, 0.01764862402440805, 0.02922010643128922, 0.030997105055297222, 0.03583455391039895, 0.02566391430484267, 0.018409624643991845, 0.016689916301315263, 0.016738300171201915, 0.02963242512366329, 0.018920893616461078, 0.01595529175652038, 0.02060399032985661, 0.009075104766180191, 0.025586259256580875, 0.0239039169883773, 0.017579143836356843]}, {\"mode\": \"lines+markers\", \"name\": \"Grade 2\", \"type\": \"scatter\", \"x\": [\"A & N ISLANDS\", \"ANDHRA PRADESH\", \"ARUNACHAL PRADESH\", \"ASSAM\", \"BIHAR\", \"CHANDIGARH\", \"CHHATTISGARH\", \"DADRA & NAGAR HAVELI\", \"DAMAN & DIU\", \"DELHI\", \"GOA\", \"GUJARAT\", \"HARYANA\", \"HIMACHAL PRADESH\", \"JAMMU & KASHMIR\", \"JHARKHAND\", \"KARNATAKA\", \"KERALA\", \"LAKSHADWEEP\", \"MADHYA PRADESH\", \"MAHARASHTRA\", \"MANIPUR\", \"MEGHALAYA\", \"MIZORAM\", \"NAGALAND\", \"ODISHA\", \"PUDUCHERRY\", \"PUNJAB\", \"RAJASTHAN\", \"SIKKIM\", \"TAMIL NADU\", \"TELANGANA\", \"TRIPURA\", \"UTTAR PRADESH\", \"UTTARAKHAND\", \"WEST BENGAL\"], \"y\": [0.016568231107742193, 0.014635741477269506, 0.02714863399755969, 0.02436409166053028, 0.03077450191362839, 0.016859994349029, 0.01298651321713735, 0.02205026644071949, 0.015478920262976975, 0.022139246539548928, 0.01696344230008033, 0.013489519397743394, 0.018143988101485577, 0.017028199044149143, 0.019741689448164727, 0.026863847794825726, 0.01592869041428886, 0.014689880940204377, 0.012975523444411679, 0.02203678135302013, 0.017453059995798832, 0.027519366173896557, 0.024485128040888874, 0.02691624488778329, 0.024982303360291468, 0.018946756997160173, 0.01669232697771892, 0.01638692627103208, 0.02441648630888743, 0.017826582061847528, 0.016849346345740143, 0.018241772685429834, 0.009929769067662717, 0.0240941959425089, 0.022010226206988177, 0.017118139650287155]}, {\"mode\": \"lines+markers\", \"name\": \"Grade 3\", \"type\": \"scatter\", \"x\": [\"A & N ISLANDS\", \"ANDHRA PRADESH\", \"ARUNACHAL PRADESH\", \"ASSAM\", \"BIHAR\", \"CHANDIGARH\", \"CHHATTISGARH\", \"DADRA & NAGAR HAVELI\", \"DAMAN & DIU\", \"DELHI\", \"GOA\", \"GUJARAT\", \"HARYANA\", \"HIMACHAL PRADESH\", \"JAMMU & KASHMIR\", \"JHARKHAND\", \"KARNATAKA\", \"KERALA\", \"LAKSHADWEEP\", \"MADHYA PRADESH\", \"MAHARASHTRA\", \"MANIPUR\", \"MEGHALAYA\", \"MIZORAM\", \"NAGALAND\", \"ODISHA\", \"PUDUCHERRY\", \"PUNJAB\", \"RAJASTHAN\", \"SIKKIM\", \"TAMIL NADU\", \"TELANGANA\", \"TRIPURA\", \"UTTAR PRADESH\", \"UTTARAKHAND\", \"WEST BENGAL\"], \"y\": [0.016549807340029057, 0.014479520513023652, 0.024208689211933074, 0.02303416005352964, 0.03184246961915584, 0.01808500349867164, 0.012662299341737366, 0.02221943515150808, 0.0146555734404782, 0.022557553809756742, 0.016855740082306447, 0.014643957344319766, 0.0186023150401326, 0.0166333917158134, 0.019153113182753645, 0.027058198148056805, 0.015573963501895487, 0.014618716959553673, 0.008707259153486784, 0.022035390391874847, 0.0172393619110949, 0.02478363233148012, 0.022982463205445138, 0.02495568342844363, 0.024151747801930933, 0.01902398005427573, 0.016789557592666402, 0.015940653853931806, 0.022719178201568928, 0.019019628493569068, 0.016759467842061965, 0.017924401497139565, 0.010043361103907565, 0.02459844707933492, 0.021757971333091885, 0.01277920109692537]}, {\"mode\": \"lines+markers\", \"name\": \"Grade 4\", \"type\": \"scatter\", \"x\": [\"A & N ISLANDS\", \"ANDHRA PRADESH\", \"ARUNACHAL PRADESH\", \"ASSAM\", \"BIHAR\", \"CHANDIGARH\", \"CHHATTISGARH\", \"DADRA & NAGAR HAVELI\", \"DAMAN & DIU\", \"DELHI\", \"GOA\", \"GUJARAT\", \"HARYANA\", \"HIMACHAL PRADESH\", \"JAMMU & KASHMIR\", \"JHARKHAND\", \"KARNATAKA\", \"KERALA\", \"LAKSHADWEEP\", \"MADHYA PRADESH\", \"MAHARASHTRA\", \"MANIPUR\", \"MEGHALAYA\", \"MIZORAM\", \"NAGALAND\", \"ODISHA\", \"PUDUCHERRY\", \"PUNJAB\", \"RAJASTHAN\", \"SIKKIM\", \"TAMIL NADU\", \"TELANGANA\", \"TRIPURA\", \"UTTAR PRADESH\", \"UTTARAKHAND\", \"WEST BENGAL\"], \"y\": [0.016394521297875473, 0.01444505226293985, 0.022278428278091237, 0.021905869344654567, 0.03024695322618392, 0.018946871391105978, 0.013207219980466626, 0.011710558169244545, 0.015338951303152184, 0.02301818126469306, 0.01695178027649972, 0.014849996536588802, 0.01869883190922634, 0.016408058386563777, 0.018738735091752078, 0.025750253941623547, 0.015339095487635035, 0.014862938802241318, 0.015334709525213801, 0.022384602666202697, 0.017196959712182592, 0.023118530830831274, 0.020676187214255445, 0.02323618212048608, 0.023745810617175987, 0.01939387687601288, 0.017006518468995487, 0.01616080397498517, 0.02176519926578757, 0.021280657179342032, 0.016771555151323173, 0.017592889026327923, 0.010391628294169052, 0.023658527589712142, 0.021327793742497592, 0.01984592746375855]}, {\"mode\": \"lines+markers\", \"name\": \"Grade 5\", \"type\": \"scatter\", \"x\": [\"A & N ISLANDS\", \"ANDHRA PRADESH\", \"ARUNACHAL PRADESH\", \"ASSAM\", \"BIHAR\", \"CHANDIGARH\", \"CHHATTISGARH\", \"DADRA & NAGAR HAVELI\", \"DAMAN & DIU\", \"DELHI\", \"GOA\", \"GUJARAT\", \"HARYANA\", \"HIMACHAL PRADESH\", \"JAMMU & KASHMIR\", \"JHARKHAND\", \"KARNATAKA\", \"KERALA\", \"LAKSHADWEEP\", \"MADHYA PRADESH\", \"MAHARASHTRA\", \"MANIPUR\", \"MEGHALAYA\", \"MIZORAM\", \"NAGALAND\", \"ODISHA\", \"PUDUCHERRY\", \"PUNJAB\", \"RAJASTHAN\", \"SIKKIM\", \"TAMIL NADU\", \"TELANGANA\", \"TRIPURA\", \"UTTAR PRADESH\", \"UTTARAKHAND\", \"WEST BENGAL\"], \"y\": [0.016673509780388687, 0.014346001610084463, 0.021260643810876664, 0.021247656987304672, 0.03022986343086003, 0.019629539028677728, 0.013618278962419563, 0.023044861792079988, 0.014507371012428421, 0.024367293839070485, 0.0167432358548229, 0.016028899272317505, 0.019097954998053293, 0.017357375305713154, 0.01795261204026544, 0.02577934430977535, 0.014784820253145379, 0.014817413023373863, 0.01701097331946794, 0.021337992183481688, 0.017208726084457785, 0.022232338240459473, 0.018455145962267237, 0.022251776787465604, 0.02166210071483317, 0.019475641103003823, 0.01641750986770208, 0.01643404738801414, 0.022036326132876035, 0.023015099853872383, 0.017105356426527045, 0.01765379006067347, 0.01052810217944164, 0.021926379470575817, 0.021233890086462533, 0.01698832151845514]}, {\"mode\": \"lines+markers\", \"name\": \"Grade 6\", \"type\": \"scatter\", \"x\": [\"A & N ISLANDS\", \"ANDHRA PRADESH\", \"ARUNACHAL PRADESH\", \"ASSAM\", \"BIHAR\", \"CHANDIGARH\", \"CHHATTISGARH\", \"DADRA & NAGAR HAVELI\", \"DAMAN & DIU\", \"DELHI\", \"GOA\", \"GUJARAT\", \"HARYANA\", \"HIMACHAL PRADESH\", \"JAMMU & KASHMIR\", \"JHARKHAND\", \"KARNATAKA\", \"KERALA\", \"LAKSHADWEEP\", \"MADHYA PRADESH\", \"MAHARASHTRA\", \"MANIPUR\", \"MEGHALAYA\", \"MIZORAM\", \"NAGALAND\", \"ODISHA\", \"PUDUCHERRY\", \"PUNJAB\", \"RAJASTHAN\", \"SIKKIM\", \"TAMIL NADU\", \"TELANGANA\", \"TRIPURA\", \"UTTAR PRADESH\", \"UTTARAKHAND\", \"WEST BENGAL\"], \"y\": [0.01656559914092603, 0.014155535163528557, 0.020541424883788715, 0.01938829370156608, 0.024566253239727626, 0.02051985140601089, 0.01356935346955554, 0.022566522678815704, 0.013939261704904265, 0.02265634070076615, 0.016801545972725956, 0.015531370272228173, 0.01824448870730938, 0.017894237431905942, 0.016762789102429957, 0.021636651412878835, 0.014352410225415866, 0.015034049838208273, 0.01643669776032532, 0.021550404104395206, 0.017404956297379648, 0.020058741488950517, 0.01802381953643405, 0.022179367084198737, 0.020208502263453235, 0.018177376241793712, 0.017507939160956044, 0.0167621888711761, 0.021468409705178933, 0.026042969418517397, 0.016356291506140402, 0.017150570113314747, 0.00945606031219559, 0.01762971714387436, 0.020101214302772275, 0.016447784156977462]}, {\"mode\": \"lines+markers\", \"name\": \"Grade 7\", \"type\": \"scatter\", \"x\": [\"A & N ISLANDS\", \"ANDHRA PRADESH\", \"ARUNACHAL PRADESH\", \"ASSAM\", \"BIHAR\", \"CHANDIGARH\", \"CHHATTISGARH\", \"DADRA & NAGAR HAVELI\", \"DAMAN & DIU\", \"DELHI\", \"GOA\", \"GUJARAT\", \"HARYANA\", \"HIMACHAL PRADESH\", \"JAMMU & KASHMIR\", \"JHARKHAND\", \"KARNATAKA\", \"KERALA\", \"LAKSHADWEEP\", \"MADHYA PRADESH\", \"MAHARASHTRA\", \"MANIPUR\", \"MEGHALAYA\", \"MIZORAM\", \"NAGALAND\", \"ODISHA\", \"PUDUCHERRY\", \"PUNJAB\", \"RAJASTHAN\", \"SIKKIM\", \"TAMIL NADU\", \"TELANGANA\", \"TRIPURA\", \"UTTAR PRADESH\", \"UTTARAKHAND\", \"WEST BENGAL\"], \"y\": [0.01651032783778662, 0.01420025073120484, 0.019230282414938113, 0.018251083952169303, 0.02319218167488992, 0.02062604414963316, 0.012982553928697484, 0.02173234593251335, 0.013490537686642433, 0.022037773600143497, 0.016396805154340024, 0.015101886005701191, 0.018518459354111637, 0.018253166443739813, 0.015987902072257018, 0.020887946025263785, 0.014116849385154643, 0.0154618124525405, 0.015846901240124788, 0.021390295023439605, 0.01768698585872292, 0.019095025417414344, 0.016074155388603704, 0.02130403459533975, 0.018756923400057152, 0.016927952125978023, 0.017224282904125792, 0.01604890772922694, 0.019445443328641086, 0.023604217953950055, 0.017159277724503815, 0.01690943149011965, 0.009281994817806002, 0.01757707645384346, 0.019656901740795863, 0.016476037044865187]}, {\"mode\": \"lines+markers\", \"name\": \"Grade 8\", \"type\": \"scatter\", \"x\": [\"A & N ISLANDS\", \"ANDHRA PRADESH\", \"ARUNACHAL PRADESH\", \"ASSAM\", \"BIHAR\", \"CHANDIGARH\", \"CHHATTISGARH\", \"DADRA & NAGAR HAVELI\", \"DAMAN & DIU\", \"DELHI\", \"GOA\", \"GUJARAT\", \"HARYANA\", \"HIMACHAL PRADESH\", \"JAMMU & KASHMIR\", \"JHARKHAND\", \"KARNATAKA\", \"KERALA\", \"LAKSHADWEEP\", \"MADHYA PRADESH\", \"MAHARASHTRA\", \"MANIPUR\", \"MEGHALAYA\", \"MIZORAM\", \"NAGALAND\", \"ODISHA\", \"PUDUCHERRY\", \"PUNJAB\", \"RAJASTHAN\", \"SIKKIM\", \"TAMIL NADU\", \"TELANGANA\", \"TRIPURA\", \"UTTAR PRADESH\", \"UTTARAKHAND\", \"WEST BENGAL\"], \"y\": [0.016160276251237022, 0.013456145612033803, 0.0188003711817713, 0.01725866423829212, 0.022196985284963718, 0.02019084353068117, 0.012672150428450834, 0.022137767498023934, 0.013050047136605588, 0.022160794616681495, 0.016551155466436353, 0.014286301698744026, 0.018232103624802053, 0.017765308847403252, 0.01567759663257238, 0.02022265931587341, 0.013881562788518728, 0.01574236506481119, 0.016886805631004673, 0.020410329135397743, 0.0169679653435209, 0.01863098676001817, 0.014827838861992626, 0.01976051636367636, 0.017389157437991076, 0.016261651292935938, 0.017844630298666734, 0.01555223278031299, 0.018346800248297126, 0.023564724003106857, 0.017065873151017145, 0.015766311423857964, 0.00886235805081514, 0.017705614033510734, 0.019298881696417983, 0.016606726091406402]}, {\"mode\": \"lines+markers\", \"name\": \"Grade 9\", \"type\": \"scatter\", \"x\": [\"A & N ISLANDS\", \"ANDHRA PRADESH\", \"ARUNACHAL PRADESH\", \"ASSAM\", \"BIHAR\", \"CHANDIGARH\", \"CHHATTISGARH\", \"DADRA & NAGAR HAVELI\", \"DAMAN & DIU\", \"DELHI\", \"GOA\", \"GUJARAT\", \"HARYANA\", \"HIMACHAL PRADESH\", \"JAMMU & KASHMIR\", \"JHARKHAND\", \"KARNATAKA\", \"KERALA\", \"LAKSHADWEEP\", \"MADHYA PRADESH\", \"MAHARASHTRA\", \"MANIPUR\", \"MEGHALAYA\", \"MIZORAM\", \"NAGALAND\", \"ODISHA\", \"PUDUCHERRY\", \"PUNJAB\", \"RAJASTHAN\", \"SIKKIM\", \"TAMIL NADU\", \"TELANGANA\", \"TRIPURA\", \"UTTAR PRADESH\", \"UTTARAKHAND\", \"WEST BENGAL\"], \"y\": [0.018134251363358812, 0.013037362449000358, 0.01686721717099025, 0.017435023827313, 0.017396968499586392, 0.021408267484350794, 0.012492639118650612, 0.020364412736653903, 0.013379385865605099, 0.025574463678209015, 0.020282317010844996, 0.011918840790501168, 0.018009093253794285, 0.018456914444362284, 0.014426971678691863, 0.016357098435071663, 0.013302663363251767, 0.016342586517774208, 0.02182247124741964, 0.0198117972041365, 0.016898232284301724, 0.016065363684327327, 0.01253122423922628, 0.020265551129499713, 0.018330790335463663, 0.015026939640747122, 0.018876399799431724, 0.014940380170809195, 0.017691723928524986, 0.02651854240992088, 0.016854700748041924, 0.015155940796713055, 0.011513519903939819, 0.015691872848500866, 0.018987813480057632, 0.015849797528789362]}],\n",
       "                        {\"template\": {\"data\": {\"bar\": [{\"error_x\": {\"color\": \"#2a3f5f\"}, \"error_y\": {\"color\": \"#2a3f5f\"}, \"marker\": {\"line\": {\"color\": \"#E5ECF6\", \"width\": 0.5}}, \"type\": \"bar\"}], \"barpolar\": [{\"marker\": {\"line\": {\"color\": \"#E5ECF6\", \"width\": 0.5}}, \"type\": \"barpolar\"}], \"carpet\": [{\"aaxis\": {\"endlinecolor\": \"#2a3f5f\", \"gridcolor\": \"white\", \"linecolor\": \"white\", \"minorgridcolor\": \"white\", \"startlinecolor\": \"#2a3f5f\"}, \"baxis\": {\"endlinecolor\": \"#2a3f5f\", \"gridcolor\": \"white\", \"linecolor\": \"white\", \"minorgridcolor\": \"white\", \"startlinecolor\": \"#2a3f5f\"}, \"type\": \"carpet\"}], \"choropleth\": [{\"colorbar\": {\"outlinewidth\": 0, \"ticks\": \"\"}, \"type\": \"choropleth\"}], \"contour\": [{\"colorbar\": {\"outlinewidth\": 0, \"ticks\": \"\"}, \"colorscale\": [[0.0, \"#0d0887\"], [0.1111111111111111, \"#46039f\"], [0.2222222222222222, \"#7201a8\"], [0.3333333333333333, \"#9c179e\"], [0.4444444444444444, \"#bd3786\"], [0.5555555555555556, \"#d8576b\"], [0.6666666666666666, \"#ed7953\"], [0.7777777777777778, \"#fb9f3a\"], [0.8888888888888888, \"#fdca26\"], [1.0, \"#f0f921\"]], \"type\": \"contour\"}], \"contourcarpet\": [{\"colorbar\": {\"outlinewidth\": 0, \"ticks\": \"\"}, \"type\": \"contourcarpet\"}], \"heatmap\": [{\"colorbar\": {\"outlinewidth\": 0, \"ticks\": \"\"}, \"colorscale\": [[0.0, \"#0d0887\"], [0.1111111111111111, \"#46039f\"], [0.2222222222222222, \"#7201a8\"], [0.3333333333333333, \"#9c179e\"], [0.4444444444444444, \"#bd3786\"], [0.5555555555555556, \"#d8576b\"], [0.6666666666666666, \"#ed7953\"], [0.7777777777777778, \"#fb9f3a\"], [0.8888888888888888, \"#fdca26\"], [1.0, \"#f0f921\"]], \"type\": \"heatmap\"}], \"heatmapgl\": [{\"colorbar\": {\"outlinewidth\": 0, \"ticks\": \"\"}, \"colorscale\": [[0.0, \"#0d0887\"], [0.1111111111111111, \"#46039f\"], [0.2222222222222222, \"#7201a8\"], [0.3333333333333333, \"#9c179e\"], [0.4444444444444444, \"#bd3786\"], [0.5555555555555556, \"#d8576b\"], [0.6666666666666666, \"#ed7953\"], [0.7777777777777778, \"#fb9f3a\"], [0.8888888888888888, \"#fdca26\"], [1.0, \"#f0f921\"]], \"type\": \"heatmapgl\"}], \"histogram\": [{\"marker\": {\"colorbar\": {\"outlinewidth\": 0, \"ticks\": \"\"}}, \"type\": \"histogram\"}], \"histogram2d\": [{\"colorbar\": {\"outlinewidth\": 0, \"ticks\": \"\"}, \"colorscale\": [[0.0, \"#0d0887\"], [0.1111111111111111, \"#46039f\"], [0.2222222222222222, \"#7201a8\"], [0.3333333333333333, \"#9c179e\"], [0.4444444444444444, \"#bd3786\"], [0.5555555555555556, \"#d8576b\"], [0.6666666666666666, \"#ed7953\"], [0.7777777777777778, \"#fb9f3a\"], [0.8888888888888888, \"#fdca26\"], [1.0, \"#f0f921\"]], \"type\": \"histogram2d\"}], \"histogram2dcontour\": [{\"colorbar\": {\"outlinewidth\": 0, \"ticks\": \"\"}, \"colorscale\": [[0.0, \"#0d0887\"], [0.1111111111111111, \"#46039f\"], [0.2222222222222222, \"#7201a8\"], [0.3333333333333333, \"#9c179e\"], [0.4444444444444444, \"#bd3786\"], [0.5555555555555556, \"#d8576b\"], [0.6666666666666666, \"#ed7953\"], [0.7777777777777778, \"#fb9f3a\"], [0.8888888888888888, \"#fdca26\"], [1.0, \"#f0f921\"]], \"type\": \"histogram2dcontour\"}], \"mesh3d\": [{\"colorbar\": {\"outlinewidth\": 0, \"ticks\": \"\"}, \"type\": \"mesh3d\"}], \"parcoords\": [{\"line\": {\"colorbar\": {\"outlinewidth\": 0, \"ticks\": \"\"}}, \"type\": \"parcoords\"}], \"pie\": [{\"automargin\": true, \"type\": \"pie\"}], \"scatter\": [{\"marker\": {\"colorbar\": {\"outlinewidth\": 0, \"ticks\": \"\"}}, \"type\": \"scatter\"}], \"scatter3d\": [{\"line\": {\"colorbar\": {\"outlinewidth\": 0, \"ticks\": \"\"}}, \"marker\": {\"colorbar\": {\"outlinewidth\": 0, \"ticks\": \"\"}}, \"type\": \"scatter3d\"}], \"scattercarpet\": [{\"marker\": {\"colorbar\": {\"outlinewidth\": 0, \"ticks\": \"\"}}, \"type\": \"scattercarpet\"}], \"scattergeo\": [{\"marker\": {\"colorbar\": {\"outlinewidth\": 0, \"ticks\": \"\"}}, \"type\": \"scattergeo\"}], \"scattergl\": [{\"marker\": {\"colorbar\": {\"outlinewidth\": 0, \"ticks\": \"\"}}, \"type\": \"scattergl\"}], \"scattermapbox\": [{\"marker\": {\"colorbar\": {\"outlinewidth\": 0, \"ticks\": \"\"}}, \"type\": \"scattermapbox\"}], \"scatterpolar\": [{\"marker\": {\"colorbar\": {\"outlinewidth\": 0, \"ticks\": \"\"}}, \"type\": \"scatterpolar\"}], \"scatterpolargl\": [{\"marker\": {\"colorbar\": {\"outlinewidth\": 0, \"ticks\": \"\"}}, \"type\": \"scatterpolargl\"}], \"scatterternary\": [{\"marker\": {\"colorbar\": {\"outlinewidth\": 0, \"ticks\": \"\"}}, \"type\": \"scatterternary\"}], \"surface\": [{\"colorbar\": {\"outlinewidth\": 0, \"ticks\": \"\"}, \"colorscale\": [[0.0, \"#0d0887\"], [0.1111111111111111, \"#46039f\"], [0.2222222222222222, \"#7201a8\"], [0.3333333333333333, \"#9c179e\"], [0.4444444444444444, \"#bd3786\"], [0.5555555555555556, \"#d8576b\"], [0.6666666666666666, \"#ed7953\"], [0.7777777777777778, \"#fb9f3a\"], [0.8888888888888888, \"#fdca26\"], [1.0, \"#f0f921\"]], \"type\": \"surface\"}], \"table\": [{\"cells\": {\"fill\": {\"color\": \"#EBF0F8\"}, \"line\": {\"color\": \"white\"}}, \"header\": {\"fill\": {\"color\": \"#C8D4E3\"}, \"line\": {\"color\": \"white\"}}, \"type\": \"table\"}]}, \"layout\": {\"annotationdefaults\": {\"arrowcolor\": \"#2a3f5f\", \"arrowhead\": 0, \"arrowwidth\": 1}, \"coloraxis\": {\"colorbar\": {\"outlinewidth\": 0, \"ticks\": \"\"}}, \"colorscale\": {\"diverging\": [[0, \"#8e0152\"], [0.1, \"#c51b7d\"], [0.2, \"#de77ae\"], [0.3, \"#f1b6da\"], [0.4, \"#fde0ef\"], [0.5, \"#f7f7f7\"], [0.6, \"#e6f5d0\"], [0.7, \"#b8e186\"], [0.8, \"#7fbc41\"], [0.9, \"#4d9221\"], [1, \"#276419\"]], \"sequential\": [[0.0, \"#0d0887\"], [0.1111111111111111, \"#46039f\"], [0.2222222222222222, \"#7201a8\"], [0.3333333333333333, \"#9c179e\"], [0.4444444444444444, \"#bd3786\"], [0.5555555555555556, \"#d8576b\"], [0.6666666666666666, \"#ed7953\"], [0.7777777777777778, \"#fb9f3a\"], [0.8888888888888888, \"#fdca26\"], [1.0, \"#f0f921\"]], \"sequentialminus\": [[0.0, \"#0d0887\"], [0.1111111111111111, \"#46039f\"], [0.2222222222222222, \"#7201a8\"], [0.3333333333333333, \"#9c179e\"], [0.4444444444444444, \"#bd3786\"], [0.5555555555555556, \"#d8576b\"], [0.6666666666666666, \"#ed7953\"], [0.7777777777777778, \"#fb9f3a\"], [0.8888888888888888, \"#fdca26\"], [1.0, \"#f0f921\"]]}, \"colorway\": [\"#636efa\", \"#EF553B\", \"#00cc96\", \"#ab63fa\", \"#FFA15A\", \"#19d3f3\", \"#FF6692\", \"#B6E880\", \"#FF97FF\", \"#FECB52\"], \"font\": {\"color\": \"#2a3f5f\"}, \"geo\": {\"bgcolor\": \"white\", \"lakecolor\": \"white\", \"landcolor\": \"#E5ECF6\", \"showlakes\": true, \"showland\": true, \"subunitcolor\": \"white\"}, \"hoverlabel\": {\"align\": \"left\"}, \"hovermode\": \"closest\", \"mapbox\": {\"style\": \"light\"}, \"paper_bgcolor\": \"white\", \"plot_bgcolor\": \"#E5ECF6\", \"polar\": {\"angularaxis\": {\"gridcolor\": \"white\", \"linecolor\": \"white\", \"ticks\": \"\"}, \"bgcolor\": \"#E5ECF6\", \"radialaxis\": {\"gridcolor\": \"white\", \"linecolor\": \"white\", \"ticks\": \"\"}}, \"scene\": {\"xaxis\": {\"backgroundcolor\": \"#E5ECF6\", \"gridcolor\": \"white\", \"gridwidth\": 2, \"linecolor\": \"white\", \"showbackground\": true, \"ticks\": \"\", \"zerolinecolor\": \"white\"}, \"yaxis\": {\"backgroundcolor\": \"#E5ECF6\", \"gridcolor\": \"white\", \"gridwidth\": 2, \"linecolor\": \"white\", \"showbackground\": true, \"ticks\": \"\", \"zerolinecolor\": \"white\"}, \"zaxis\": {\"backgroundcolor\": \"#E5ECF6\", \"gridcolor\": \"white\", \"gridwidth\": 2, \"linecolor\": \"white\", \"showbackground\": true, \"ticks\": \"\", \"zerolinecolor\": \"white\"}}, \"shapedefaults\": {\"line\": {\"color\": \"#2a3f5f\"}}, \"ternary\": {\"aaxis\": {\"gridcolor\": \"white\", \"linecolor\": \"white\", \"ticks\": \"\"}, \"baxis\": {\"gridcolor\": \"white\", \"linecolor\": \"white\", \"ticks\": \"\"}, \"bgcolor\": \"#E5ECF6\", \"caxis\": {\"gridcolor\": \"white\", \"linecolor\": \"white\", \"ticks\": \"\"}}, \"title\": {\"x\": 0.05}, \"xaxis\": {\"automargin\": true, \"gridcolor\": \"white\", \"linecolor\": \"white\", \"ticks\": \"\", \"title\": {\"standoff\": 15}, \"zerolinecolor\": \"white\", \"zerolinewidth\": 2}, \"yaxis\": {\"automargin\": true, \"gridcolor\": \"white\", \"linecolor\": \"white\", \"ticks\": \"\", \"title\": {\"standoff\": 15}, \"zerolinecolor\": \"white\", \"zerolinewidth\": 2}}}},\n",
       "                        {\"responsive\": true}\n",
       "                    ).then(function(){\n",
       "                            \n",
       "var gd = document.getElementById('159cd1bb-f9cc-4743-b3d7-86ef7dd41211');\n",
       "var x = new MutationObserver(function (mutations, observer) {{\n",
       "        var display = window.getComputedStyle(gd).display;\n",
       "        if (!display || display === 'none') {{\n",
       "            console.log([gd, 'removed!']);\n",
       "            Plotly.purge(gd);\n",
       "            observer.disconnect();\n",
       "        }}\n",
       "}});\n",
       "\n",
       "// Listen for the removal of the full notebook cells\n",
       "var notebookContainer = gd.closest('#notebook-container');\n",
       "if (notebookContainer) {{\n",
       "    x.observe(notebookContainer, {childList: true});\n",
       "}}\n",
       "\n",
       "// Listen for the clearing of the current output cell\n",
       "var outputEl = gd.closest('.output');\n",
       "if (outputEl) {{\n",
       "    x.observe(outputEl, {childList: true});\n",
       "}}\n",
       "\n",
       "                        })\n",
       "                };\n",
       "                });\n",
       "            </script>\n",
       "        </div>"
      ]
     },
     "metadata": {},
     "output_type": "display_data"
    },
    {
     "data": {
      "text/html": [
       "<div>\n",
       "<style scoped>\n",
       "    .dataframe tbody tr th:only-of-type {\n",
       "        vertical-align: middle;\n",
       "    }\n",
       "\n",
       "    .dataframe tbody tr th {\n",
       "        vertical-align: top;\n",
       "    }\n",
       "\n",
       "    .dataframe thead th {\n",
       "        text-align: right;\n",
       "    }\n",
       "</style>\n",
       "<table border=\"1\" class=\"dataframe\">\n",
       "  <thead>\n",
       "    <tr style=\"text-align: right;\">\n",
       "      <th></th>\n",
       "      <th>Grade 1</th>\n",
       "      <th>Grade 2</th>\n",
       "      <th>Grade 3</th>\n",
       "      <th>Grade 4</th>\n",
       "      <th>Grade 5</th>\n",
       "      <th>Grade 6</th>\n",
       "      <th>Grade 7</th>\n",
       "      <th>Grade 8</th>\n",
       "      <th>Grade 9</th>\n",
       "    </tr>\n",
       "    <tr>\n",
       "      <th>STATNAME</th>\n",
       "      <th></th>\n",
       "      <th></th>\n",
       "      <th></th>\n",
       "      <th></th>\n",
       "      <th></th>\n",
       "      <th></th>\n",
       "      <th></th>\n",
       "      <th></th>\n",
       "      <th></th>\n",
       "    </tr>\n",
       "  </thead>\n",
       "  <tbody>\n",
       "    <tr>\n",
       "      <th>A &amp; N ISLANDS</th>\n",
       "      <td>0.016473</td>\n",
       "      <td>0.016568</td>\n",
       "      <td>0.016550</td>\n",
       "      <td>0.016395</td>\n",
       "      <td>0.016674</td>\n",
       "      <td>0.016566</td>\n",
       "      <td>0.016510</td>\n",
       "      <td>0.016160</td>\n",
       "      <td>0.018134</td>\n",
       "    </tr>\n",
       "    <tr>\n",
       "      <th>ANDHRA PRADESH</th>\n",
       "      <td>0.013920</td>\n",
       "      <td>0.014636</td>\n",
       "      <td>0.014480</td>\n",
       "      <td>0.014445</td>\n",
       "      <td>0.014346</td>\n",
       "      <td>0.014156</td>\n",
       "      <td>0.014200</td>\n",
       "      <td>0.013456</td>\n",
       "      <td>0.013037</td>\n",
       "    </tr>\n",
       "    <tr>\n",
       "      <th>ARUNACHAL PRADESH</th>\n",
       "      <td>0.033111</td>\n",
       "      <td>0.027149</td>\n",
       "      <td>0.024209</td>\n",
       "      <td>0.022278</td>\n",
       "      <td>0.021261</td>\n",
       "      <td>0.020541</td>\n",
       "      <td>0.019230</td>\n",
       "      <td>0.018800</td>\n",
       "      <td>0.016867</td>\n",
       "    </tr>\n",
       "    <tr>\n",
       "      <th>ASSAM</th>\n",
       "      <td>0.028826</td>\n",
       "      <td>0.024364</td>\n",
       "      <td>0.023034</td>\n",
       "      <td>0.021906</td>\n",
       "      <td>0.021248</td>\n",
       "      <td>0.019388</td>\n",
       "      <td>0.018251</td>\n",
       "      <td>0.017259</td>\n",
       "      <td>0.017435</td>\n",
       "    </tr>\n",
       "    <tr>\n",
       "      <th>BIHAR</th>\n",
       "      <td>0.032680</td>\n",
       "      <td>0.030775</td>\n",
       "      <td>0.031842</td>\n",
       "      <td>0.030247</td>\n",
       "      <td>0.030230</td>\n",
       "      <td>0.024566</td>\n",
       "      <td>0.023192</td>\n",
       "      <td>0.022197</td>\n",
       "      <td>0.017397</td>\n",
       "    </tr>\n",
       "  </tbody>\n",
       "</table>\n",
       "</div>"
      ],
      "text/plain": [
       "                    Grade 1   Grade 2   Grade 3   Grade 4   Grade 5   Grade 6  \\\n",
       "STATNAME                                                                        \n",
       "A & N ISLANDS      0.016473  0.016568  0.016550  0.016395  0.016674  0.016566   \n",
       "ANDHRA PRADESH     0.013920  0.014636  0.014480  0.014445  0.014346  0.014156   \n",
       "ARUNACHAL PRADESH  0.033111  0.027149  0.024209  0.022278  0.021261  0.020541   \n",
       "ASSAM              0.028826  0.024364  0.023034  0.021906  0.021248  0.019388   \n",
       "BIHAR              0.032680  0.030775  0.031842  0.030247  0.030230  0.024566   \n",
       "\n",
       "                    Grade 7   Grade 8   Grade 9  \n",
       "STATNAME                                         \n",
       "A & N ISLANDS      0.016510  0.016160  0.018134  \n",
       "ANDHRA PRADESH     0.014200  0.013456  0.013037  \n",
       "ARUNACHAL PRADESH  0.019230  0.018800  0.016867  \n",
       "ASSAM              0.018251  0.017259  0.017435  \n",
       "BIHAR              0.023192  0.022197  0.017397  "
      ]
     },
     "execution_count": 146,
     "metadata": {},
     "output_type": "execute_result"
    }
   ],
   "source": [
    "#Enrollment by grade\n",
    "df5=df.copy()[['STATNAME','C1_B','C2_B','C3_B','C4_B','C5_B','C6_B','C7_B','C8_B','C9_B','C1_G','C2_G','C3_G','C4_G','C5_G','C6_G','C7_G','C8_G','C9_G','TOTPOPULAT']]\n",
    "df5=df5.groupby(['STATNAME']).mean()\n",
    "df6=df.copy()[['STATNAME']]\n",
    "fig=go.Figure()\n",
    "df6['a']=df5[df5.columns[0]]+df5[df5.columns[0+9]]\n",
    "\n",
    "df6=df6.groupby(['STATNAME']).mean()\n",
    "\n",
    "for i in range(0,10):\n",
    "    df6['Grade '+str(i+1)]=(df5[df5.columns[i]]+df5[df5.columns[i+9]])/df5['TOTPOPULAT']\n",
    "    if i==8:\n",
    "        break\n",
    "df6.drop('a', axis=1, inplace=True)\n",
    "for i in df6.columns:\n",
    "    fig.add_trace(go.Scatter(x=df6.index, y=df6[i],\n",
    "                    mode='lines+markers',\n",
    "                    name=i))\n",
    "fig.show()\n",
    "df6.head()"
   ]
  },
  {
   "cell_type": "code",
   "execution_count": 7,
   "metadata": {},
   "outputs": [
    {
     "data": {
      "text/html": [
       "<div>\n",
       "<style scoped>\n",
       "    .dataframe tbody tr th:only-of-type {\n",
       "        vertical-align: middle;\n",
       "    }\n",
       "\n",
       "    .dataframe tbody tr th {\n",
       "        vertical-align: top;\n",
       "    }\n",
       "\n",
       "    .dataframe thead th {\n",
       "        text-align: right;\n",
       "    }\n",
       "</style>\n",
       "<table border=\"1\" class=\"dataframe\">\n",
       "  <thead>\n",
       "    <tr style=\"text-align: right;\">\n",
       "      <th></th>\n",
       "      <th>AC_YEAR</th>\n",
       "      <th>STATCD</th>\n",
       "      <th>DISTCD</th>\n",
       "      <th>STATNAME</th>\n",
       "      <th>DISTNAME</th>\n",
       "      <th>DISTRICTS</th>\n",
       "      <th>BLOCKS</th>\n",
       "      <th>VILLAGES</th>\n",
       "      <th>CLUSTERS</th>\n",
       "      <th>TOTPOPULAT</th>\n",
       "      <th>...</th>\n",
       "      <th>UUNI_ALL</th>\n",
       "      <th>UUNI_SC</th>\n",
       "      <th>UUNI_ST</th>\n",
       "      <th>TOTCLS1G</th>\n",
       "      <th>TOTCLS2G</th>\n",
       "      <th>TOTCLS3G</th>\n",
       "      <th>TOTCLS4G</th>\n",
       "      <th>TOTCLS5G</th>\n",
       "      <th>TOTCLS6G</th>\n",
       "      <th>TOTCLS7G</th>\n",
       "    </tr>\n",
       "  </thead>\n",
       "  <tbody>\n",
       "    <tr>\n",
       "      <th>0</th>\n",
       "      <td>2015-16</td>\n",
       "      <td>1</td>\n",
       "      <td>101</td>\n",
       "      <td>JAMMU &amp; KASHMIR</td>\n",
       "      <td>KUPWARA</td>\n",
       "      <td>1</td>\n",
       "      <td>13</td>\n",
       "      <td>391</td>\n",
       "      <td>104</td>\n",
       "      <td>875564.0</td>\n",
       "      <td>...</td>\n",
       "      <td>21322</td>\n",
       "      <td>26</td>\n",
       "      <td>2594</td>\n",
       "      <td>3489</td>\n",
       "      <td>5315</td>\n",
       "      <td>27</td>\n",
       "      <td>62</td>\n",
       "      <td>23</td>\n",
       "      <td>852</td>\n",
       "      <td>239</td>\n",
       "    </tr>\n",
       "    <tr>\n",
       "      <th>1</th>\n",
       "      <td>2015-16</td>\n",
       "      <td>1</td>\n",
       "      <td>102</td>\n",
       "      <td>JAMMU &amp; KASHMIR</td>\n",
       "      <td>BARAMULA</td>\n",
       "      <td>1</td>\n",
       "      <td>18</td>\n",
       "      <td>678</td>\n",
       "      <td>144</td>\n",
       "      <td>1015503.0</td>\n",
       "      <td>...</td>\n",
       "      <td>17307</td>\n",
       "      <td>0</td>\n",
       "      <td>1571</td>\n",
       "      <td>4127</td>\n",
       "      <td>5800</td>\n",
       "      <td>210</td>\n",
       "      <td>53</td>\n",
       "      <td>30</td>\n",
       "      <td>1665</td>\n",
       "      <td>360</td>\n",
       "    </tr>\n",
       "    <tr>\n",
       "      <th>2</th>\n",
       "      <td>2015-16</td>\n",
       "      <td>1</td>\n",
       "      <td>103</td>\n",
       "      <td>JAMMU &amp; KASHMIR</td>\n",
       "      <td>SRINAGAR</td>\n",
       "      <td>1</td>\n",
       "      <td>8</td>\n",
       "      <td>94</td>\n",
       "      <td>65</td>\n",
       "      <td>1269751.0</td>\n",
       "      <td>...</td>\n",
       "      <td>5444</td>\n",
       "      <td>31</td>\n",
       "      <td>408</td>\n",
       "      <td>817</td>\n",
       "      <td>3284</td>\n",
       "      <td>886</td>\n",
       "      <td>11</td>\n",
       "      <td>0</td>\n",
       "      <td>2873</td>\n",
       "      <td>40</td>\n",
       "    </tr>\n",
       "    <tr>\n",
       "      <th>3</th>\n",
       "      <td>2015-16</td>\n",
       "      <td>1</td>\n",
       "      <td>104</td>\n",
       "      <td>JAMMU &amp; KASHMIR</td>\n",
       "      <td>BADGAM</td>\n",
       "      <td>1</td>\n",
       "      <td>13</td>\n",
       "      <td>523</td>\n",
       "      <td>104</td>\n",
       "      <td>735753.0</td>\n",
       "      <td>...</td>\n",
       "      <td>12469</td>\n",
       "      <td>18</td>\n",
       "      <td>857</td>\n",
       "      <td>2290</td>\n",
       "      <td>3837</td>\n",
       "      <td>119</td>\n",
       "      <td>45</td>\n",
       "      <td>8</td>\n",
       "      <td>1035</td>\n",
       "      <td>325</td>\n",
       "    </tr>\n",
       "    <tr>\n",
       "      <th>4</th>\n",
       "      <td>2015-16</td>\n",
       "      <td>1</td>\n",
       "      <td>105</td>\n",
       "      <td>JAMMU &amp; KASHMIR</td>\n",
       "      <td>PULWAMA</td>\n",
       "      <td>1</td>\n",
       "      <td>8</td>\n",
       "      <td>359</td>\n",
       "      <td>64</td>\n",
       "      <td>570060.0</td>\n",
       "      <td>...</td>\n",
       "      <td>7408</td>\n",
       "      <td>17</td>\n",
       "      <td>855</td>\n",
       "      <td>1688</td>\n",
       "      <td>2584</td>\n",
       "      <td>151</td>\n",
       "      <td>67</td>\n",
       "      <td>5</td>\n",
       "      <td>1101</td>\n",
       "      <td>209</td>\n",
       "    </tr>\n",
       "  </tbody>\n",
       "</table>\n",
       "<p>5 rows × 819 columns</p>\n",
       "</div>"
      ],
      "text/plain": [
       "   AC_YEAR  STATCD  DISTCD         STATNAME  DISTNAME  DISTRICTS  BLOCKS  \\\n",
       "0  2015-16       1     101  JAMMU & KASHMIR   KUPWARA          1      13   \n",
       "1  2015-16       1     102  JAMMU & KASHMIR  BARAMULA          1      18   \n",
       "2  2015-16       1     103  JAMMU & KASHMIR  SRINAGAR          1       8   \n",
       "3  2015-16       1     104  JAMMU & KASHMIR    BADGAM          1      13   \n",
       "4  2015-16       1     105  JAMMU & KASHMIR   PULWAMA          1       8   \n",
       "\n",
       "   VILLAGES  CLUSTERS  TOTPOPULAT  ...  UUNI_ALL  UUNI_SC  UUNI_ST  TOTCLS1G  \\\n",
       "0       391       104    875564.0  ...     21322       26     2594      3489   \n",
       "1       678       144   1015503.0  ...     17307        0     1571      4127   \n",
       "2        94        65   1269751.0  ...      5444       31      408       817   \n",
       "3       523       104    735753.0  ...     12469       18      857      2290   \n",
       "4       359        64    570060.0  ...      7408       17      855      1688   \n",
       "\n",
       "   TOTCLS2G  TOTCLS3G  TOTCLS4G  TOTCLS5G  TOTCLS6G  TOTCLS7G  \n",
       "0      5315        27        62        23       852       239  \n",
       "1      5800       210        53        30      1665       360  \n",
       "2      3284       886        11         0      2873        40  \n",
       "3      3837       119        45         8      1035       325  \n",
       "4      2584       151        67         5      1101       209  \n",
       "\n",
       "[5 rows x 819 columns]"
      ]
     },
     "execution_count": 7,
     "metadata": {},
     "output_type": "execute_result"
    }
   ],
   "source": [
    "#Reading Districtwise data detailing Education in India\n",
    "df=pd.read_csv(r'2015_16_Districtwise.csv')\n",
    "df.head()"
   ]
  },
  {
   "cell_type": "code",
   "execution_count": 8,
   "metadata": {},
   "outputs": [
    {
     "data": {
      "text/html": [
       "<div>\n",
       "<style scoped>\n",
       "    .dataframe tbody tr th:only-of-type {\n",
       "        vertical-align: middle;\n",
       "    }\n",
       "\n",
       "    .dataframe tbody tr th {\n",
       "        vertical-align: top;\n",
       "    }\n",
       "\n",
       "    .dataframe thead th {\n",
       "        text-align: right;\n",
       "    }\n",
       "</style>\n",
       "<table border=\"1\" class=\"dataframe\">\n",
       "  <thead>\n",
       "    <tr style=\"text-align: right;\">\n",
       "      <th></th>\n",
       "      <th>Field Name</th>\n",
       "      <th>Description</th>\n",
       "    </tr>\n",
       "  </thead>\n",
       "  <tbody>\n",
       "    <tr>\n",
       "      <th>811</th>\n",
       "      <td>UUNI_ALL</td>\n",
       "      <td>Incentives_Upper_Primary_Uniform: All_</td>\n",
       "    </tr>\n",
       "    <tr>\n",
       "      <th>812</th>\n",
       "      <td>UUNI_SC</td>\n",
       "      <td>Incentives_Upper_Primary_Uniform: SC</td>\n",
       "    </tr>\n",
       "    <tr>\n",
       "      <th>813</th>\n",
       "      <td>UUNI_ST</td>\n",
       "      <td>Incentives_Upper_Primary_Uniform: ST</td>\n",
       "    </tr>\n",
       "    <tr>\n",
       "      <th>814</th>\n",
       "      <td>TOTCLS1G</td>\n",
       "      <td>Total_Classrooms_Primary_Only: Primary_Only</td>\n",
       "    </tr>\n",
       "    <tr>\n",
       "      <th>815</th>\n",
       "      <td>TOTCLS2G</td>\n",
       "      <td>Total_Classrooms_Primary_with_Upper_Primary: P...</td>\n",
       "    </tr>\n",
       "    <tr>\n",
       "      <th>816</th>\n",
       "      <td>TOTCLS3G</td>\n",
       "      <td>Total_Classrooms_Primary_with_upper_Primary_Se...</td>\n",
       "    </tr>\n",
       "    <tr>\n",
       "      <th>817</th>\n",
       "      <td>TOTCLS4G</td>\n",
       "      <td>Total_Classrooms_Upper_Primary_Only: Upper_Pri...</td>\n",
       "    </tr>\n",
       "    <tr>\n",
       "      <th>818</th>\n",
       "      <td>TOTCLS5G</td>\n",
       "      <td>Total_Classrooms_Upper_Primary_with_Sec./H.Sec...</td>\n",
       "    </tr>\n",
       "    <tr>\n",
       "      <th>819</th>\n",
       "      <td>TOTCLS6G</td>\n",
       "      <td>Total_Classrooms_Primary_with_upper_Primary_Se...</td>\n",
       "    </tr>\n",
       "    <tr>\n",
       "      <th>820</th>\n",
       "      <td>TOTCLS7G</td>\n",
       "      <td>Total_Classrooms_Upper_Primary_with_Sec.: Uppe...</td>\n",
       "    </tr>\n",
       "  </tbody>\n",
       "</table>\n",
       "</div>"
      ],
      "text/plain": [
       "    Field Name                                        Description\n",
       "811   UUNI_ALL             Incentives_Upper_Primary_Uniform: All_\n",
       "812    UUNI_SC               Incentives_Upper_Primary_Uniform: SC\n",
       "813    UUNI_ST               Incentives_Upper_Primary_Uniform: ST\n",
       "814   TOTCLS1G        Total_Classrooms_Primary_Only: Primary_Only\n",
       "815   TOTCLS2G  Total_Classrooms_Primary_with_Upper_Primary: P...\n",
       "816   TOTCLS3G  Total_Classrooms_Primary_with_upper_Primary_Se...\n",
       "817   TOTCLS4G  Total_Classrooms_Upper_Primary_Only: Upper_Pri...\n",
       "818   TOTCLS5G  Total_Classrooms_Upper_Primary_with_Sec./H.Sec...\n",
       "819   TOTCLS6G  Total_Classrooms_Primary_with_upper_Primary_Se...\n",
       "820   TOTCLS7G  Total_Classrooms_Upper_Primary_with_Sec.: Uppe..."
      ]
     },
     "execution_count": 8,
     "metadata": {},
     "output_type": "execute_result"
    }
   ],
   "source": [
    "#Reading the Districtwise Metadata which allows us to see what each column head means\n",
    "ad=pd.read_csv(r'2015_16_Districtwise_metadata.csv')\n",
    "ad.tail(10)"
   ]
  },
  {
   "cell_type": "code",
   "execution_count": 9,
   "metadata": {},
   "outputs": [
    {
     "data": {
      "text/plain": [
       "814    Total_Classrooms_Primary_Only: Primary_Only\n",
       "Name: Description, dtype: object"
      ]
     },
     "execution_count": 9,
     "metadata": {},
     "output_type": "execute_result"
    }
   ],
   "source": [
    "ad[ad['Field Name']=='TOTCLS1G']['Description']"
   ]
  },
  {
   "cell_type": "code",
   "execution_count": 10,
   "metadata": {},
   "outputs": [
    {
     "data": {
      "text/html": [
       "<div>\n",
       "<style scoped>\n",
       "    .dataframe tbody tr th:only-of-type {\n",
       "        vertical-align: middle;\n",
       "    }\n",
       "\n",
       "    .dataframe tbody tr th {\n",
       "        vertical-align: top;\n",
       "    }\n",
       "\n",
       "    .dataframe thead th {\n",
       "        text-align: right;\n",
       "    }\n",
       "</style>\n",
       "<table border=\"1\" class=\"dataframe\">\n",
       "  <thead>\n",
       "    <tr style=\"text-align: right;\">\n",
       "      <th></th>\n",
       "      <th>STATCD</th>\n",
       "      <th>DISTCD</th>\n",
       "      <th>DISTRICTS</th>\n",
       "      <th>BLOCKS</th>\n",
       "      <th>VILLAGES</th>\n",
       "      <th>CLUSTERS</th>\n",
       "      <th>TOTPOPULAT</th>\n",
       "      <th>P_URB_POP</th>\n",
       "      <th>POPULATION_0_6</th>\n",
       "      <th>GROWTHRATE</th>\n",
       "      <th>...</th>\n",
       "      <th>UUNI_ALL</th>\n",
       "      <th>UUNI_SC</th>\n",
       "      <th>UUNI_ST</th>\n",
       "      <th>TOTCLS1G</th>\n",
       "      <th>TOTCLS2G</th>\n",
       "      <th>TOTCLS3G</th>\n",
       "      <th>TOTCLS4G</th>\n",
       "      <th>TOTCLS5G</th>\n",
       "      <th>TOTCLS6G</th>\n",
       "      <th>TOTCLS7G</th>\n",
       "    </tr>\n",
       "  </thead>\n",
       "  <tbody>\n",
       "    <tr>\n",
       "      <th>count</th>\n",
       "      <td>680.000000</td>\n",
       "      <td>680.000000</td>\n",
       "      <td>680.0</td>\n",
       "      <td>680.000000</td>\n",
       "      <td>680.000000</td>\n",
       "      <td>680.000000</td>\n",
       "      <td>6.340000e+02</td>\n",
       "      <td>631.000000</td>\n",
       "      <td>6.330000e+02</td>\n",
       "      <td>634.000000</td>\n",
       "      <td>...</td>\n",
       "      <td>680.000000</td>\n",
       "      <td>680.000000</td>\n",
       "      <td>680.000000</td>\n",
       "      <td>680.000000</td>\n",
       "      <td>680.000000</td>\n",
       "      <td>680.000000</td>\n",
       "      <td>680.000000</td>\n",
       "      <td>680.000000</td>\n",
       "      <td>680.000000</td>\n",
       "      <td>680.000000</td>\n",
       "    </tr>\n",
       "    <tr>\n",
       "      <th>mean</th>\n",
       "      <td>17.292647</td>\n",
       "      <td>1745.976471</td>\n",
       "      <td>1.0</td>\n",
       "      <td>10.760294</td>\n",
       "      <td>874.614706</td>\n",
       "      <td>121.226471</td>\n",
       "      <td>1.899024e+06</td>\n",
       "      <td>24.819255</td>\n",
       "      <td>2.494264e+05</td>\n",
       "      <td>17.627886</td>\n",
       "      <td>...</td>\n",
       "      <td>46465.307353</td>\n",
       "      <td>11444.252941</td>\n",
       "      <td>5485.394118</td>\n",
       "      <td>4530.914706</td>\n",
       "      <td>3180.994118</td>\n",
       "      <td>764.154412</td>\n",
       "      <td>898.879412</td>\n",
       "      <td>391.352941</td>\n",
       "      <td>717.679412</td>\n",
       "      <td>385.957353</td>\n",
       "    </tr>\n",
       "    <tr>\n",
       "      <th>std</th>\n",
       "      <td>9.451743</td>\n",
       "      <td>944.257509</td>\n",
       "      <td>0.0</td>\n",
       "      <td>9.585360</td>\n",
       "      <td>622.711657</td>\n",
       "      <td>94.040172</td>\n",
       "      <td>1.547475e+06</td>\n",
       "      <td>19.093744</td>\n",
       "      <td>1.985112e+05</td>\n",
       "      <td>11.346020</td>\n",
       "      <td>...</td>\n",
       "      <td>57485.560854</td>\n",
       "      <td>16548.586787</td>\n",
       "      <td>9455.045146</td>\n",
       "      <td>3881.154776</td>\n",
       "      <td>3332.333288</td>\n",
       "      <td>1330.305834</td>\n",
       "      <td>1425.313485</td>\n",
       "      <td>820.868908</td>\n",
       "      <td>1194.616699</td>\n",
       "      <td>935.196354</td>\n",
       "    </tr>\n",
       "    <tr>\n",
       "      <th>min</th>\n",
       "      <td>1.000000</td>\n",
       "      <td>101.000000</td>\n",
       "      <td>1.0</td>\n",
       "      <td>1.000000</td>\n",
       "      <td>6.000000</td>\n",
       "      <td>1.000000</td>\n",
       "      <td>7.948000e+03</td>\n",
       "      <td>-25.350000</td>\n",
       "      <td>1.103980e+03</td>\n",
       "      <td>-58.390000</td>\n",
       "      <td>...</td>\n",
       "      <td>0.000000</td>\n",
       "      <td>0.000000</td>\n",
       "      <td>0.000000</td>\n",
       "      <td>24.000000</td>\n",
       "      <td>0.000000</td>\n",
       "      <td>0.000000</td>\n",
       "      <td>0.000000</td>\n",
       "      <td>0.000000</td>\n",
       "      <td>0.000000</td>\n",
       "      <td>0.000000</td>\n",
       "    </tr>\n",
       "    <tr>\n",
       "      <th>25%</th>\n",
       "      <td>9.000000</td>\n",
       "      <td>937.750000</td>\n",
       "      <td>1.0</td>\n",
       "      <td>5.000000</td>\n",
       "      <td>390.750000</td>\n",
       "      <td>56.750000</td>\n",
       "      <td>8.226940e+05</td>\n",
       "      <td>11.375000</td>\n",
       "      <td>1.087804e+05</td>\n",
       "      <td>12.052500</td>\n",
       "      <td>...</td>\n",
       "      <td>7534.000000</td>\n",
       "      <td>736.750000</td>\n",
       "      <td>165.250000</td>\n",
       "      <td>1903.750000</td>\n",
       "      <td>674.750000</td>\n",
       "      <td>68.000000</td>\n",
       "      <td>17.000000</td>\n",
       "      <td>17.000000</td>\n",
       "      <td>137.000000</td>\n",
       "      <td>20.750000</td>\n",
       "    </tr>\n",
       "    <tr>\n",
       "      <th>50%</th>\n",
       "      <td>18.000000</td>\n",
       "      <td>1823.500000</td>\n",
       "      <td>1.0</td>\n",
       "      <td>8.000000</td>\n",
       "      <td>785.500000</td>\n",
       "      <td>101.000000</td>\n",
       "      <td>1.564392e+06</td>\n",
       "      <td>19.500000</td>\n",
       "      <td>2.040779e+05</td>\n",
       "      <td>17.055000</td>\n",
       "      <td>...</td>\n",
       "      <td>32185.500000</td>\n",
       "      <td>6816.500000</td>\n",
       "      <td>1321.000000</td>\n",
       "      <td>3555.000000</td>\n",
       "      <td>1922.500000</td>\n",
       "      <td>249.500000</td>\n",
       "      <td>129.500000</td>\n",
       "      <td>70.500000</td>\n",
       "      <td>407.000000</td>\n",
       "      <td>115.500000</td>\n",
       "    </tr>\n",
       "    <tr>\n",
       "      <th>75%</th>\n",
       "      <td>24.000000</td>\n",
       "      <td>2413.250000</td>\n",
       "      <td>1.0</td>\n",
       "      <td>13.000000</td>\n",
       "      <td>1204.250000</td>\n",
       "      <td>162.500000</td>\n",
       "      <td>2.587520e+06</td>\n",
       "      <td>32.420000</td>\n",
       "      <td>3.378675e+05</td>\n",
       "      <td>22.740000</td>\n",
       "      <td>...</td>\n",
       "      <td>60492.750000</td>\n",
       "      <td>15300.500000</td>\n",
       "      <td>6183.500000</td>\n",
       "      <td>5944.250000</td>\n",
       "      <td>4870.500000</td>\n",
       "      <td>887.750000</td>\n",
       "      <td>1383.000000</td>\n",
       "      <td>462.000000</td>\n",
       "      <td>824.500000</td>\n",
       "      <td>319.500000</td>\n",
       "    </tr>\n",
       "    <tr>\n",
       "      <th>max</th>\n",
       "      <td>36.000000</td>\n",
       "      <td>3610.000000</td>\n",
       "      <td>1.0</td>\n",
       "      <td>66.000000</td>\n",
       "      <td>3963.000000</td>\n",
       "      <td>592.000000</td>\n",
       "      <td>1.105413e+07</td>\n",
       "      <td>100.000000</td>\n",
       "      <td>1.256855e+06</td>\n",
       "      <td>111.010000</td>\n",
       "      <td>...</td>\n",
       "      <td>511213.000000</td>\n",
       "      <td>153047.000000</td>\n",
       "      <td>68723.000000</td>\n",
       "      <td>24728.000000</td>\n",
       "      <td>25677.000000</td>\n",
       "      <td>16053.000000</td>\n",
       "      <td>8590.000000</td>\n",
       "      <td>8074.000000</td>\n",
       "      <td>15458.000000</td>\n",
       "      <td>11904.000000</td>\n",
       "    </tr>\n",
       "  </tbody>\n",
       "</table>\n",
       "<p>8 rows × 816 columns</p>\n",
       "</div>"
      ],
      "text/plain": [
       "           STATCD       DISTCD  DISTRICTS      BLOCKS     VILLAGES  \\\n",
       "count  680.000000   680.000000      680.0  680.000000   680.000000   \n",
       "mean    17.292647  1745.976471        1.0   10.760294   874.614706   \n",
       "std      9.451743   944.257509        0.0    9.585360   622.711657   \n",
       "min      1.000000   101.000000        1.0    1.000000     6.000000   \n",
       "25%      9.000000   937.750000        1.0    5.000000   390.750000   \n",
       "50%     18.000000  1823.500000        1.0    8.000000   785.500000   \n",
       "75%     24.000000  2413.250000        1.0   13.000000  1204.250000   \n",
       "max     36.000000  3610.000000        1.0   66.000000  3963.000000   \n",
       "\n",
       "         CLUSTERS    TOTPOPULAT   P_URB_POP  POPULATION_0_6  GROWTHRATE  ...  \\\n",
       "count  680.000000  6.340000e+02  631.000000    6.330000e+02  634.000000  ...   \n",
       "mean   121.226471  1.899024e+06   24.819255    2.494264e+05   17.627886  ...   \n",
       "std     94.040172  1.547475e+06   19.093744    1.985112e+05   11.346020  ...   \n",
       "min      1.000000  7.948000e+03  -25.350000    1.103980e+03  -58.390000  ...   \n",
       "25%     56.750000  8.226940e+05   11.375000    1.087804e+05   12.052500  ...   \n",
       "50%    101.000000  1.564392e+06   19.500000    2.040779e+05   17.055000  ...   \n",
       "75%    162.500000  2.587520e+06   32.420000    3.378675e+05   22.740000  ...   \n",
       "max    592.000000  1.105413e+07  100.000000    1.256855e+06  111.010000  ...   \n",
       "\n",
       "            UUNI_ALL        UUNI_SC       UUNI_ST      TOTCLS1G      TOTCLS2G  \\\n",
       "count     680.000000     680.000000    680.000000    680.000000    680.000000   \n",
       "mean    46465.307353   11444.252941   5485.394118   4530.914706   3180.994118   \n",
       "std     57485.560854   16548.586787   9455.045146   3881.154776   3332.333288   \n",
       "min         0.000000       0.000000      0.000000     24.000000      0.000000   \n",
       "25%      7534.000000     736.750000    165.250000   1903.750000    674.750000   \n",
       "50%     32185.500000    6816.500000   1321.000000   3555.000000   1922.500000   \n",
       "75%     60492.750000   15300.500000   6183.500000   5944.250000   4870.500000   \n",
       "max    511213.000000  153047.000000  68723.000000  24728.000000  25677.000000   \n",
       "\n",
       "           TOTCLS3G     TOTCLS4G     TOTCLS5G      TOTCLS6G      TOTCLS7G  \n",
       "count    680.000000   680.000000   680.000000    680.000000    680.000000  \n",
       "mean     764.154412   898.879412   391.352941    717.679412    385.957353  \n",
       "std     1330.305834  1425.313485   820.868908   1194.616699    935.196354  \n",
       "min        0.000000     0.000000     0.000000      0.000000      0.000000  \n",
       "25%       68.000000    17.000000    17.000000    137.000000     20.750000  \n",
       "50%      249.500000   129.500000    70.500000    407.000000    115.500000  \n",
       "75%      887.750000  1383.000000   462.000000    824.500000    319.500000  \n",
       "max    16053.000000  8590.000000  8074.000000  15458.000000  11904.000000  \n",
       "\n",
       "[8 rows x 816 columns]"
      ]
     },
     "execution_count": 10,
     "metadata": {},
     "output_type": "execute_result"
    }
   ],
   "source": [
    "df.describe()"
   ]
  },
  {
   "cell_type": "code",
   "execution_count": 11,
   "metadata": {},
   "outputs": [
    {
     "data": {
      "text/html": [
       "<div>\n",
       "<style scoped>\n",
       "    .dataframe tbody tr th:only-of-type {\n",
       "        vertical-align: middle;\n",
       "    }\n",
       "\n",
       "    .dataframe tbody tr th {\n",
       "        vertical-align: top;\n",
       "    }\n",
       "\n",
       "    .dataframe thead th {\n",
       "        text-align: right;\n",
       "    }\n",
       "</style>\n",
       "<table border=\"1\" class=\"dataframe\">\n",
       "  <thead>\n",
       "    <tr style=\"text-align: right;\">\n",
       "      <th></th>\n",
       "      <th>OVERALL_LI</th>\n",
       "    </tr>\n",
       "    <tr>\n",
       "      <th>DISTNAME</th>\n",
       "      <th></th>\n",
       "    </tr>\n",
       "  </thead>\n",
       "  <tbody>\n",
       "    <tr>\n",
       "      <th>KUPWARA</th>\n",
       "      <td>66.92</td>\n",
       "    </tr>\n",
       "    <tr>\n",
       "      <th>BARAMULA</th>\n",
       "      <td>66.93</td>\n",
       "    </tr>\n",
       "    <tr>\n",
       "      <th>SRINAGAR</th>\n",
       "      <td>71.21</td>\n",
       "    </tr>\n",
       "    <tr>\n",
       "      <th>BADGAM</th>\n",
       "      <td>57.98</td>\n",
       "    </tr>\n",
       "    <tr>\n",
       "      <th>PULWAMA</th>\n",
       "      <td>65.00</td>\n",
       "    </tr>\n",
       "    <tr>\n",
       "      <th>...</th>\n",
       "      <td>...</td>\n",
       "    </tr>\n",
       "    <tr>\n",
       "      <th>RANGA REDDY</th>\n",
       "      <td>78.05</td>\n",
       "    </tr>\n",
       "    <tr>\n",
       "      <th>MAHBUBNAGAR</th>\n",
       "      <td>56.06</td>\n",
       "    </tr>\n",
       "    <tr>\n",
       "      <th>NALGONDA</th>\n",
       "      <td>65.05</td>\n",
       "    </tr>\n",
       "    <tr>\n",
       "      <th>WARANGAL</th>\n",
       "      <td>66.16</td>\n",
       "    </tr>\n",
       "    <tr>\n",
       "      <th>KHAMMAM</th>\n",
       "      <td>65.46</td>\n",
       "    </tr>\n",
       "  </tbody>\n",
       "</table>\n",
       "<p>680 rows × 1 columns</p>\n",
       "</div>"
      ],
      "text/plain": [
       "             OVERALL_LI\n",
       "DISTNAME               \n",
       "KUPWARA           66.92\n",
       "BARAMULA          66.93\n",
       "SRINAGAR          71.21\n",
       "BADGAM            57.98\n",
       "PULWAMA           65.00\n",
       "...                 ...\n",
       "RANGA REDDY       78.05\n",
       "MAHBUBNAGAR       56.06\n",
       "NALGONDA          65.05\n",
       "WARANGAL          66.16\n",
       "KHAMMAM           65.46\n",
       "\n",
       "[680 rows x 1 columns]"
      ]
     },
     "execution_count": 11,
     "metadata": {},
     "output_type": "execute_result"
    }
   ],
   "source": [
    "df1=df.copy().set_index('DISTNAME')[['OVERALL_LI']]\n",
    "df1"
   ]
  },
  {
   "cell_type": "code",
   "execution_count": 12,
   "metadata": {},
   "outputs": [
    {
     "data": {
      "text/html": [
       "<div>\n",
       "<style scoped>\n",
       "    .dataframe tbody tr th:only-of-type {\n",
       "        vertical-align: middle;\n",
       "    }\n",
       "\n",
       "    .dataframe tbody tr th {\n",
       "        vertical-align: top;\n",
       "    }\n",
       "\n",
       "    .dataframe thead th {\n",
       "        text-align: right;\n",
       "    }\n",
       "</style>\n",
       "<table border=\"1\" class=\"dataframe\">\n",
       "  <thead>\n",
       "    <tr style=\"text-align: right;\">\n",
       "      <th></th>\n",
       "      <th>OVERALL_LI</th>\n",
       "    </tr>\n",
       "  </thead>\n",
       "  <tbody>\n",
       "    <tr>\n",
       "      <th>count</th>\n",
       "      <td>634.000000</td>\n",
       "    </tr>\n",
       "    <tr>\n",
       "      <th>mean</th>\n",
       "      <td>73.395189</td>\n",
       "    </tr>\n",
       "    <tr>\n",
       "      <th>std</th>\n",
       "      <td>10.098460</td>\n",
       "    </tr>\n",
       "    <tr>\n",
       "      <th>min</th>\n",
       "      <td>37.220000</td>\n",
       "    </tr>\n",
       "    <tr>\n",
       "      <th>25%</th>\n",
       "      <td>66.437500</td>\n",
       "    </tr>\n",
       "    <tr>\n",
       "      <th>50%</th>\n",
       "      <td>73.490000</td>\n",
       "    </tr>\n",
       "    <tr>\n",
       "      <th>75%</th>\n",
       "      <td>80.815000</td>\n",
       "    </tr>\n",
       "    <tr>\n",
       "      <th>max</th>\n",
       "      <td>98.760000</td>\n",
       "    </tr>\n",
       "  </tbody>\n",
       "</table>\n",
       "</div>"
      ],
      "text/plain": [
       "       OVERALL_LI\n",
       "count  634.000000\n",
       "mean    73.395189\n",
       "std     10.098460\n",
       "min     37.220000\n",
       "25%     66.437500\n",
       "50%     73.490000\n",
       "75%     80.815000\n",
       "max     98.760000"
      ]
     },
     "execution_count": 12,
     "metadata": {},
     "output_type": "execute_result"
    }
   ],
   "source": [
    "df1.describe()"
   ]
  },
  {
   "cell_type": "code",
   "execution_count": 13,
   "metadata": {},
   "outputs": [
    {
     "data": {
      "text/plain": [
       "OVERALL_LI    SERCHHIP\n",
       "dtype: object"
      ]
     },
     "execution_count": 13,
     "metadata": {},
     "output_type": "execute_result"
    }
   ],
   "source": [
    "#Finding out the district with highest literacy rate\n",
    "df1.idxmax()"
   ]
  },
  {
   "cell_type": "code",
   "execution_count": 14,
   "metadata": {},
   "outputs": [
    {
     "data": {
      "application/vnd.plotly.v1+json": {
       "config": {
        "plotlyServerURL": "https://plot.ly"
       },
       "data": [
        {
         "type": "bar",
         "x": [
          "SERCHHIP",
          "AIZAWL",
          "MAHE",
          "PATHANAMTHITTA",
          "KOTTAYAM",
          "ALAPPUZHA",
          "ERNAKULAM",
          "KANNUR",
          "THRISSUR",
          "KOZHIKODE",
          "KOLASIB",
          "KOLLAM",
          "MALAPPURAM",
          "CHAMPHAI",
          "MOKOKCHUNG",
          "THIRUVANANTHAPURAM",
          "LAKSHADWEEP",
          "IDUKKI",
          "KANNIYAKUMARI",
          "MUMBAI (SUBURBAN)",
          "CHENNAI",
          "KASARAGOD",
          "NAGPUR",
          "LUNGLEI",
          "NEW DELHI",
          "WAYANAD",
          "HAMIRPUR (H.P.)",
          "WEST TRIPURA",
          "NORTH GOA",
          "SOUTH WEST DELHI",
          "EAST DELHI",
          "KAMRUP-METRO",
          "DAKSHINA KANNADA",
          "PALAKKAD",
          "ANDAMANS",
          "BANGALORE U NORTH",
          "MUMBAI II",
          "SAIHA",
          "NORTH TRIPURA",
          "AMRAVATI",
          "DAMAN",
          "KARAIKAL",
          "PURBA MEDINIPUR",
          "WOKHA",
          "AKOLA",
          "KHORDHA",
          "UNA",
          "WARDHA",
          "PUNE",
          "KOLKATA",
          "JAGATSINGHPUR",
          "WEST DELHI",
          "SOUTH DELHI",
          "DHALAI",
          "NORTH DELHI",
          "IMPHAL WEST",
          "SURAT",
          "AHMEDABAD",
          "SINDHUDURG",
          "THOOTHUKKUDI",
          "KANGRA",
          "CHANDIGARH",
          "UDUPI",
          "ZUNHEBOTO",
          "THANE",
          "PONDICHERRY",
          "MAMIT",
          "KENDRAPARA",
          "ANAND",
          "GANDHINAGAR",
          "BILASPUR (H.P.)",
          "THE NILGIRIS",
          "KOHIMA",
          "SOUTH GOA",
          "SILIGURI",
          "DIMAPUR",
          "HOSHIARPUR",
          "GONDIYA",
          "SOUTH TRIPURA",
          "PURI",
          "KANCHEEPURAM",
          "CENTRAL DELHI",
          "DEHRADUN",
          "BHANDARA",
          "SOLAN",
          "GHAZIABAD",
          "NORTH TWENTY FOUR PARGANAS",
          "MOHALI",
          "NAINITAL",
          "NAVSARI",
          "EAST KHASI HILLS",
          "EAST SIKKIM",
          "NORTH WEST DELHI",
          "SHIMLA",
          "GURGAON",
          "COIMBATORE",
          "KHEDA",
          "CHURACHANDPUR",
          "MAHESANA",
          "MIDDLE AND NORTH ANDAMANS",
          "CUTTACK",
          "SATARA",
          "NAGAPATTINAM",
          "UTTARA KANNADA",
          "JAMMU",
          "RAIGARH (MAHARASHTRA)",
          "HAORA",
          "THIRUVALLUR",
          "TIRUCHIRAPPALLI",
          "CHAMOLI",
          "PANCHKULA",
          "JORHAT",
          "DIU",
          "RUPNAGAR",
          "THIRUVARUR",
          "BOUDH",
          "FARIDABAD",
          "BHARUCH",
          "PITHORAGARH",
          "TIRUNELVELI",
          "KOLHAPUR",
          "AMBALA",
          "IMPHAL EAST",
          "MANDI",
          "NORTH EAST DELHI",
          "THANJAVUR",
          "SANGLI",
          "GARHWAL",
          "HUGLI",
          "LUDHIANA",
          "KODAGU",
          "SAMBA",
          "JABALPUR",
          "RATNAGIRI",
          "JALANDHAR",
          "INDORE",
          "BHOPAL",
          "REWARI",
          "GAUTAM BUDDHA NAGAR",
          "RAJKOT",
          "PAPUM PARE",
          "RUDRAPRAYAG",
          "BULDANA",
          "SOUTH SIKKIM",
          "UKHRUL",
          "WASHIM",
          "MADURAI",
          "RAMANATHAPURAM",
          "SIBSAGAR",
          "CHANDRAPUR",
          "KANPUR NAGAR",
          "VADODARA",
          "ALMORA",
          "GURDASPUR",
          "HYDERABAD",
          "NASHIK",
          "VALSAD",
          "JHAJJAR",
          "SONIPAT",
          "KINNAUR",
          "VIRUDHUNAGAR",
          "CHAMPAWAT",
          "YAVATMAL",
          "BAGESHWAR",
          "BALASORE",
          "SHIMOGA",
          "LEH (LADAKH)",
          "SIVAGANGA",
          "JAJPUR",
          "AURANGABAD (MAHARASHTRA)",
          "ROHTAK",
          "CACHAR",
          "FATEHGARH SAHIB",
          "NAWANSHAHR",
          "DHARWAD",
          "YANAM",
          "AURAIYA",
          "AHMADNAGAR",
          "KAPURTHALA",
          "KULLU",
          "ETAWAH",
          "SIRMAUR",
          "DARJILING",
          "NALBARI",
          "JALGAON",
          "KARIMGANJ",
          "DURG",
          "VELLORE",
          "DHENKANAL",
          "LUCKNOW",
          "WEST KHASI HILLS",
          "CHIKKAMANGALORE",
          "NAYAGARH",
          "PHEK",
          "PASCHIM MEDINIPUR",
          "CUDDALORE",
          "LATUR",
          "PEREN",
          "DIMA HASAO",
          "ANGUL",
          "DHAMTARI",
          "YAMUNANAGAR",
          "MAHENDRAGARH",
          "WEST SIKKIM",
          "SOUTH  TWENTY FOUR PARGANAS",
          "LAKHIMPUR",
          "GOLAGHAT",
          "BANGALORE RURAL",
          "BALAGHAT",
          "MAINPURI",
          "RANGA REDDY",
          "GWALIOR",
          "PUDUKKOTTAI",
          "SOLAPUR",
          "DADRA AND NAGAR HAVELI(UT)",
          "THENI",
          "HAVERI",
          "SAGAR",
          "KANPUR DEHAT",
          "NICOBARS",
          "KOTA",
          "PANIPAT",
          "NORTH SIKKIM",
          "LAHUL & SPITI",
          "RI BHOI",
          "AMRITSAR",
          "BARDDHAMAN",
          "RANCHI",
          "VARANASI",
          "RAJNANDGAON",
          "NANDED",
          "JUNAGADH",
          "DINDIGUL",
          "BHAVNAGAR",
          "THE DANGS",
          "NARSIMHAPUR",
          "BHIWANI",
          "KURUKSHETRA",
          "THOUBAL",
          "PORBANDAR",
          "SABAR KANTHA",
          "BHIND",
          "HOSHANGABAD",
          "JAIPUR",
          "KARNAL",
          "RAIPUR",
          "JHANSI",
          "BISHNUPUR",
          "LOWER SUBANSIRI",
          "OSMANABAD",
          "DAVANAGERE",
          "PATIALA",
          "DIBRUGARH",
          "PURBI SINGHBHUM",
          "HINGOLI",
          "UTTARKASHI",
          "HASSAN",
          "KARUR",
          "DHANBAD",
          "ROHTAS",
          "NADIA",
          "EAST GARO HILLS",
          "KOCH BIHAR",
          "HAILAKANDI",
          "PARBHANI",
          "GADAG",
          "MAU",
          "JALAUN",
          "TEHRI GARHWAL",
          "SENAPATI",
          "NAMAKKAL",
          "MEERUT",
          "JHUNJHUNUN",
          "TIRUVANNAMALAI",
          "PERAMBALUR",
          "HARDWAR",
          "DHULE",
          "FIROZABAD",
          "AMRELI",
          "KARGIL",
          "UDHAM SINGH NAGAR",
          "SONEPUR",
          "ALLAHABAD",
          "JAMNAGAR",
          "AMBEDKAR NAGAR",
          "KRISHNA",
          "KOLAR",
          "WEST GODAVARI",
          "TUMKUR",
          "GHAZIPUR",
          "RAISEN",
          "SUNDERGARH",
          "HARDA",
          "KANNAUJ",
          "BELGAUM",
          "RAMGARH",
          "CHANDAULI",
          "DAKSHIN DINAJPUR",
          "CHITRADURGA",
          "BALLIA",
          "JALPAIGURI",
          "SATNA",
          "NAGAON",
          "RAIGARH (CHHATTISGARH)",
          "JANJGIR - CHAMPA",
          "TUENSANG",
          "JAUNPUR",
          "KATNI",
          "JALNA",
          "UJJAIN",
          "BAGHPAT",
          "EAST SIANG",
          "DEORIA",
          "BID",
          "KARBI ANGLONG",
          "DATIA",
          "KATHUA",
          "BOKARO",
          "PATAN",
          "REWA",
          "MUNGER",
          "NARMADA",
          "ETAH",
          "GORAKHPUR",
          "HISAR",
          "SALEM",
          "KORBA",
          "CHAMBA",
          "SURENDRANAGAR",
          "HATHRAS",
          "KIPHIRE",
          "PRATAPGARH",
          "DEOGARH",
          "SEONI",
          "SIKAR",
          "ERODE",
          "KAMRUP-RURAL",
          "BHOJPUR",
          "AURANGABAD (BIHAR)",
          "MANDSAUR",
          "JIND",
          "AZAMGARH",
          "MATHURA",
          "MYSORE",
          "BHADRAK",
          "PATNA",
          "KRISHANAGIRI",
          "SOUTH GARO HILLS",
          "CHITTOOR",
          "PANCH MAHALS",
          "CHHINDWARA",
          "VIDISHA",
          "VILUPPURAM",
          "MORENA",
          "SAHARANPUR",
          "GANJAM",
          "NEEMUCH",
          "BUXAR",
          "ALWAR",
          "MOGA",
          "BILASPUR (CHHATTISGARH)",
          "SIWAN",
          "KACHCHH",
          "MAHASAMUND",
          "KORIYA",
          "EAST GODAVARI",
          "SRINAGAR",
          "BHARATPUR",
          "Sultanpur",
          "SEHORE",
          "BHADOI",
          "LONGLENG",
          "KAIMUR (BHABUA)",
          "BIDAR",
          "KANKER",
          "BANKURA",
          "DAMOH",
          "TINSUKIA",
          "BIRBHUM",
          "CHANDEL",
          "FARIDKOT",
          "FAIZABAD",
          "FARRUKHABAD",
          "KAITHAL",
          "GADCHIROLI",
          "DEWAS",
          "BAKSA",
          "HAZARIBAG",
          "AJMER",
          "BONGAIGAON",
          "BIJNOR",
          "TAMENGLONG",
          "LOWER DIBANG VALLEY",
          "MIRZAPUR",
          "SIRSA",
          "PALWAL",
          "GANGANAGAR",
          "BULANDSHAHR",
          "SHAJAPUR",
          "HAMIRPUR (U.P.)",
          "MANDYA",
          "BETUL",
          "DHAULPUR",
          "MUZAFFARNAGAR",
          "CHIKKABALLAPURA",
          "SONITPUR",
          "UDHAMPUR",
          "LOHIT",
          "FIROZPUR",
          "BASTI",
          "ALIGARH",
          "BATHINDA",
          "ARWAL",
          "AGRA",
          "TARAN TARAN",
          "WEST KAMENG",
          "BAGALKOT",
          "MORIGAON",
          "TAPI",
          "RAMANAGARA",
          "Dausa",
          "NELLORE",
          "FATEHABAD",
          "ANUPPUR",
          "DHEMAJI",
          "RAE BARELI",
          "SANT KABIR NAGAR",
          "KEONJHAR",
          "BARNALA",
          "HARDOI",
          "SANGRUR",
          "SARAIKELA-KHARSAWAN",
          "FATEHPUR",
          "PUNCH",
          "GOALPARA",
          "JASHPUR",
          "SARAN",
          "VAISHALI",
          "RAJAURI",
          "WEST GARO HILLS",
          "HANUMANGARH",
          "SHAHDOL",
          "KODARMA",
          "UNNAO",
          "LOHARDAGA",
          "MANDLA",
          "JEHANABAD",
          "BANDA",
          "RATLAM",
          "GUNTUR",
          "ASHOKNAGAR",
          "Kadapa",
          "BELLARY",
          "VISAKHAPATNAM",
          "KUSHINAGAR",
          "WEST SIANG",
          "SIMDEGA",
          "MURSHIDABAD",
          "KHANDWA",
          "CHURU",
          "BARAN",
          "KARAULI",
          "UMARIA",
          "KOPPAL",
          "BIJAPUR (KARNATAKA)",
          "JODHPUR",
          "GOPALGANJ",
          "MAHOBA",
          "BARAMULA",
          "GUMLA",
          "KUPWARA",
          "MUKTSAR",
          "KOKRAJHAR",
          "UDALGURI",
          "CHITRAKOOT",
          "LAWNGTLAI",
          "NALANDA",
          "BANAS KANTHA",
          "GAYA",
          "DEOGHAR",
          "BEGUSARAI",
          "SAWAI MADHOPUR",
          "SONBHADRA",
          "WARANGAL",
          "SIDHI",
          "PANNA",
          "DODA",
          "SHEIKHPURA",
          "BIKANER",
          "JYOTIBA PHULE NAGAR",
          "MUZAFFARPUR",
          "GULBARGA",
          "BOLANGIR",
          "PALAMU",
          "DINDORI",
          "KHAMMAM",
          "PURULIYA",
          "BURHANPUR",
          "KANDHAMAL",
          "GIRIDIH",
          "GUNA",
          "NALGONDA",
          "BARPETA",
          "PULWAMA",
          "BHAGALPUR",
          "LAKHISARAI",
          "LALITPUR",
          "CHHATARPUR",
          "KARIMNAGAR",
          "DIBANG VALLEY",
          "CHIRANG",
          "DHARMAPURI",
          "DARRANG",
          "KHUNTI",
          "ANANTNAG",
          "MAHARAJGANJ",
          "ANANTAPUR",
          "NAGAUR",
          "KHARGONE",
          "MAYURBHANJ",
          "UPPER SUBANSIRI",
          "RAJSAMAND",
          "SAMASTIPUR",
          "BARABANKI",
          "SHIVPURI",
          "JAMTARA",
          "KAUSHAMBI",
          "PILIBHIT",
          "PRAKASAM",
          "SITAPUR",
          "JAINTIA HILLS",
          "PALI",
          "NANDURBAR",
          "MANSA",
          "UDAIPUR",
          "BHILWARA",
          "MALDAH",
          "KHERI",
          "RAJGARH",
          "TIKAMGARH",
          "DUMKA",
          "MEDAK",
          "CHITTAURGARH",
          "SHOPIAN",
          "EAST KAMENG",
          "TONK",
          "SINGRAULI",
          "BUNDI",
          "SRIKAKULAM",
          "KANSHIRAM NAGAR",
          "NIZAMABAD",
          "GARHWA",
          "JAMUI",
          "CHATRA",
          "JHALAWAR",
          "KAWARDHA",
          "CHANGLANG",
          "SIDDHARTHNAGAR",
          "NAWADA",
          "SHAHJAHANPUR",
          "ADILABAD",
          "LATEHAR",
          "SURGUJA",
          "GONDA",
          "KURNOOL",
          "CHAMARAJANAGARA",
          "MADHUBANI",
          "KHAGARIA",
          "DUNGARPUR",
          "TAWANG",
          "DOHAD",
          "DHAR",
          "BAREILLY",
          "RAICHUR",
          "KULGAM",
          "KALAHANDI",
          "UTTAR DINAJPUR",
          "BANKA",
          "GANDERBAL",
          "UPPER SIANG",
          "SUPAUL",
          "PASHCHIMI SINGHBHUM",
          "VIZIANAGARAM",
          "REASI",
          "Anjaw",
          "DHUBRI",
          "MORADABAD",
          "KISHTWAR",
          "PURBA CHAMPARAN",
          "DARBHANGA",
          "NUAPADA",
          "PASHCHIM CHAMPARAN",
          "JAISALMER",
          "SHEOPUR",
          "BADGAM",
          "BANDIPORA",
          "GODDA",
          "BARMER",
          "BANSWARA",
          "KISHANGANJ",
          "RAMBAN",
          "MON",
          "PRATAPGARH (RAJ.)",
          "MEWAT",
          "MAHBUBNAGAR",
          "SIROHI",
          "SHEOHAR",
          "JALOR",
          "ARARIA",
          "RAMPUR",
          "BASTER",
          "SAHARSA",
          "GAJAPATI",
          "MADHEPURA",
          "SAHIBGANJ",
          "KATIHAR",
          "SITAMARHI",
          "BUDAUN",
          "PURNIA",
          "YADAGIRI",
          "TIRAP",
          "BALRAMPUR (U.P)",
          "BAHRAICH",
          "RAYAGADA",
          "KURUNG KUMEY",
          "BARWANI",
          "PAKAUR",
          "KORAPUT",
          "MALKANGIRI",
          "SHRAWASTI",
          "NABARANGPUR",
          "JHABUA",
          "DANTEWADA",
          "ALIRAJPUR",
          "AGAR MALWA",
          "ALIPURDUAR",
          "AMETHI - CSM NAGAR",
          "ARAVALLI",
          "BALOD",
          "BALODABAZAR",
          "BALRAMPUR",
          "BANGALORE U SOUTH",
          "BARGARH",
          "BELGAUM CHIKKODI",
          "BEMETARA",
          "BIJAPUR",
          "BOTAD",
          "CHHOTAUDEPUR",
          "DEVBHOOMI DWARKA",
          "EAST JAINTIA HILLS",
          "Fazilka",
          "GARIABAND",
          "GIR SOMNATH",
          "GOMATI",
          "HAPUR (PANCHSHEEL NAGAR)",
          "JHARSUGUDA",
          "KHOWAI",
          "KONDAGAON",
          "KRA DADI",
          "LONGDING",
          "MAHISAGAR",
          "MORBI",
          "MUNGELI",
          "NAMSAI",
          "NARAYANPUR",
          "NORTH GARO HILLS",
          "PALGHAR",
          "PATHANKOT",
          "SAMBALPUR",
          "SAMBHAL (BHIM NAGAR)",
          "SEPAHIJALA",
          "SHAMLI (PRABUDH NAGAR)",
          "SIANG",
          "SOUTH WEST GARO HILLS",
          "SOUTH WEST KHASI HILLS",
          "SUKMA",
          "SURAJPUR",
          "TUMKUR MADHUGIRI",
          "UNAKOTI",
          "UTTARA KANNADA SIRSI"
         ],
         "y": [
          98.76,
          98.5,
          98.35,
          96.93,
          96.4,
          96.26,
          95.68,
          95.41,
          95.32,
          95.24,
          94.54,
          93.77,
          93.55,
          93.51,
          92.68,
          92.66,
          92.28,
          92.2,
          92.14,
          90.9,
          90.33,
          89.85,
          89.52,
          89.4,
          89.38,
          89.32,
          89.01,
          88.91,
          88.85,
          88.81,
          88.75,
          88.66,
          88.62,
          88.49,
          88.49,
          88.48,
          88.48,
          88.41,
          88.29,
          88.23,
          88.06,
          87.83,
          87.66,
          87.6,
          87.55,
          87.51,
          87.23,
          87.22,
          87.19,
          87.14,
          87.13,
          87.12,
          87.03,
          86.82,
          86.81,
          86.7,
          86.65,
          86.65,
          86.54,
          86.52,
          86.49,
          86.43,
          86.29,
          86.26,
          86.18,
          86.13,
          85.96,
          85.93,
          85.79,
          85.78,
          85.67,
          85.65,
          85.58,
          85.53,
          85.46,
          85.44,
          85.43,
          85.41,
          85.41,
          85.37,
          85.29,
          85.25,
          85.24,
          85.14,
          85.02,
          85,
          84.95,
          84.87,
          84.85,
          84.78,
          84.7,
          84.67,
          84.66,
          84.55,
          84.44,
          84.31,
          84.31,
          84.29,
          84.26,
          84.25,
          84.2,
          84.2,
          84.09,
          84.03,
          83.98,
          83.89,
          83.85,
          83.82,
          83.56,
          83.48,
          83.44,
          83.42,
          83.36,
          83.28,
          83.26,
          83.25,
          83.04,
          83.03,
          82.93,
          82.92,
          82.9,
          82.89,
          82.81,
          82.81,
          82.8,
          82.72,
          82.62,
          82.59,
          82.55,
          82.54,
          82.52,
          82.48,
          82.47,
          82.43,
          82.4,
          82.32,
          82.26,
          82.23,
          82.2,
          82.2,
          82.14,
          82.09,
          82.09,
          82.06,
          81.87,
          81.7,
          81.66,
          81.48,
          81.36,
          81.35,
          81.31,
          81.21,
          81.06,
          81.06,
          80.96,
          80.96,
          80.94,
          80.83,
          80.83,
          80.77,
          80.75,
          80.73,
          80.7,
          80.69,
          80.66,
          80.5,
          80.48,
          80.46,
          80.44,
          80.4,
          80.37,
          80.36,
          80.33,
          80.33,
          80.3,
          80.26,
          80.25,
          80.22,
          80.18,
          80.14,
          79.99,
          79.98,
          79.92,
          79.89,
          79.73,
          79.72,
          79.69,
          79.65,
          79.41,
          79.33,
          79.3,
          79.24,
          79.17,
          79.13,
          79.04,
          79.04,
          79.03,
          79,
          78.99,
          78.96,
          78.95,
          78.93,
          78.87,
          78.69,
          78.57,
          78.39,
          78.31,
          78.29,
          78.29,
          78.26,
          78.05,
          77.93,
          77.76,
          77.72,
          77.65,
          77.62,
          77.6,
          77.52,
          77.52,
          77.5,
          77.48,
          77.46,
          77.39,
          77.24,
          77.22,
          77.2,
          77.15,
          77.13,
          77.05,
          76.97,
          76.94,
          76.88,
          76.85,
          76.84,
          76.8,
          76.79,
          76.74,
          76.7,
          76.66,
          76.63,
          76.6,
          76.59,
          76.52,
          76.44,
          76.44,
          76.43,
          76.37,
          76.35,
          76.33,
          76.33,
          76.3,
          76.26,
          76.22,
          76.13,
          76.04,
          75.98,
          75.89,
          75.86,
          75.71,
          75.59,
          75.58,
          75.51,
          75.49,
          75.26,
          75.22,
          75.18,
          75.16,
          75.16,
          75.1,
          75,
          74.92,
          74.8,
          74.72,
          74.72,
          74.68,
          74.62,
          74.61,
          74.6,
          74.49,
          74.49,
          74.44,
          74.42,
          74.41,
          74.4,
          74.37,
          74.37,
          74.33,
          74.32,
          74.32,
          74.27,
          74.26,
          74.13,
          74.04,
          74.01,
          73.94,
          73.92,
          73.86,
          73.86,
          73.82,
          73.82,
          73.79,
          73.79,
          73.78,
          73.7,
          73.7,
          73.7,
          73.66,
          73.62,
          73.61,
          73.55,
          73.54,
          73.54,
          73.53,
          73.53,
          73.52,
          73.5,
          73.5,
          73.48,
          73.47,
          73.42,
          73.3,
          73.29,
          73.27,
          73.25,
          73.24,
          73.23,
          73.22,
          73.19,
          73.19,
          73.1,
          73.1,
          73.1,
          73.07,
          73.01,
          72.98,
          72.96,
          72.81,
          72.79,
          72.77,
          72.75,
          72.73,
          72.69,
          72.65,
          72.56,
          72.51,
          72.47,
          72.41,
          72.39,
          72.36,
          72.32,
          72.21,
          72.08,
          72.08,
          72.07,
          72.03,
          71.88,
          71.81,
          71.77,
          71.68,
          71.59,
          71.59,
          71.59,
          71.58,
          71.54,
          71.41,
          71.35,
          71.21,
          71.16,
          71.14,
          71.11,
          71.1,
          71.1,
          71.01,
          71.01,
          70.97,
          70.95,
          70.92,
          70.92,
          70.9,
          70.85,
          70.65,
          70.63,
          70.57,
          70.56,
          70.55,
          70.53,
          70.53,
          70.48,
          70.46,
          70.44,
          70.43,
          70.4,
          70.38,
          70.38,
          70.35,
          70.32,
          70.25,
          70.23,
          70.17,
          70.16,
          70.14,
          70.14,
          70.14,
          70.11,
          70.08,
          69.96,
          69.9,
          69.88,
          69.85,
          69.69,
          69.61,
          69.57,
          69.54,
          69.44,
          69.43,
          69.4,
          69.39,
          69.37,
          69.23,
          69.2,
          69.17,
          69.15,
          69.13,
          69.08,
          69.07,
          69.04,
          69.01,
          69,
          68.9,
          68.89,
          68.88,
          68.85,
          68.78,
          68.69,
          68.67,
          68.6,
          68.57,
          68.56,
          68.54,
          68.38,
          68.37,
          68.36,
          68.35,
          68.29,
          68.29,
          68.28,
          68.27,
          68.11,
          68.03,
          67.99,
          67.9,
          67.88,
          67.85,
          67.7,
          67.66,
          67.62,
          67.59,
          67.53,
          67.53,
          67.46,
          67.38,
          67.34,
          67.34,
          67.28,
          67.2,
          67.09,
          67.04,
          66.94,
          66.93,
          66.92,
          66.92,
          66.79,
          66.63,
          66.6,
          66.52,
          66.41,
          66.41,
          66.39,
          66.35,
          66.34,
          66.23,
          66.19,
          66.18,
          66.16,
          66.09,
          66.08,
          65.97,
          65.96,
          65.92,
          65.7,
          65.68,
          65.65,
          65.5,
          65.5,
          65.47,
          65.46,
          65.38,
          65.28,
          65.12,
          65.12,
          65.1,
          65.05,
          65.03,
          65,
          64.96,
          64.95,
          64.95,
          64.9,
          64.87,
          64.8,
          64.71,
          64.71,
          64.55,
          64.51,
          64.32,
          64.3,
          64.28,
          64.08,
          63.98,
          63.98,
          63.96,
          63.93,
          63.81,
          63.76,
          63.73,
          63.73,
          63.69,
          63.58,
          63.53,
          63.38,
          63.26,
          63.23,
          63.04,
          62.78,
          62.74,
          62.71,
          62.71,
          62.71,
          62.68,
          62.57,
          62.54,
          62.53,
          62.51,
          62.49,
          62.48,
          62.46,
          62.36,
          62.31,
          62.3,
          62.3,
          62.25,
          62.18,
          62.16,
          62.14,
          62.13,
          61.95,
          61.9,
          61.81,
          61.63,
          61.61,
          61.55,
          61.23,
          61.16,
          61.16,
          61.13,
          61.12,
          60.9,
          60.87,
          60.78,
          60.61,
          60.6,
          60.57,
          60.52,
          60.46,
          60.35,
          60.22,
          60.13,
          60.12,
          59.99,
          59.94,
          59.65,
          59.54,
          59.49,
          59.42,
          59.4,
          59.36,
          58.67,
          58.54,
          58.26,
          58.26,
          58.2,
          58.06,
          58.04,
          58.02,
          57.98,
          57.82,
          57.68,
          57.49,
          57.2,
          57.04,
          56.9,
          56.6,
          56.3,
          56.14,
          56.06,
          56.02,
          56,
          55.58,
          55.1,
          55.08,
          54.94,
          54.57,
          54.29,
          53.78,
          53.73,
          53.56,
          53.53,
          52.91,
          52.49,
          52.36,
          52.23,
          51.76,
          51.1,
          50.88,
          50.67,
          50.23,
          50.17,
          49.87,
          49.49,
          49.13,
          48.2,
          44.45,
          42.67,
          37.22,
          null,
          null,
          null,
          null,
          null,
          null,
          null,
          null,
          null,
          null,
          null,
          null,
          null,
          null,
          null,
          null,
          null,
          null,
          null,
          null,
          null,
          null,
          null,
          null,
          null,
          null,
          null,
          null,
          null,
          null,
          null,
          null,
          null,
          null,
          null,
          null,
          null,
          null,
          null,
          null,
          null,
          null,
          null,
          null,
          null,
          null
         ]
        }
       ],
       "layout": {
        "template": {
         "data": {
          "bar": [
           {
            "error_x": {
             "color": "#2a3f5f"
            },
            "error_y": {
             "color": "#2a3f5f"
            },
            "marker": {
             "line": {
              "color": "#E5ECF6",
              "width": 0.5
             }
            },
            "type": "bar"
           }
          ],
          "barpolar": [
           {
            "marker": {
             "line": {
              "color": "#E5ECF6",
              "width": 0.5
             }
            },
            "type": "barpolar"
           }
          ],
          "carpet": [
           {
            "aaxis": {
             "endlinecolor": "#2a3f5f",
             "gridcolor": "white",
             "linecolor": "white",
             "minorgridcolor": "white",
             "startlinecolor": "#2a3f5f"
            },
            "baxis": {
             "endlinecolor": "#2a3f5f",
             "gridcolor": "white",
             "linecolor": "white",
             "minorgridcolor": "white",
             "startlinecolor": "#2a3f5f"
            },
            "type": "carpet"
           }
          ],
          "choropleth": [
           {
            "colorbar": {
             "outlinewidth": 0,
             "ticks": ""
            },
            "type": "choropleth"
           }
          ],
          "contour": [
           {
            "colorbar": {
             "outlinewidth": 0,
             "ticks": ""
            },
            "colorscale": [
             [
              0,
              "#0d0887"
             ],
             [
              0.1111111111111111,
              "#46039f"
             ],
             [
              0.2222222222222222,
              "#7201a8"
             ],
             [
              0.3333333333333333,
              "#9c179e"
             ],
             [
              0.4444444444444444,
              "#bd3786"
             ],
             [
              0.5555555555555556,
              "#d8576b"
             ],
             [
              0.6666666666666666,
              "#ed7953"
             ],
             [
              0.7777777777777778,
              "#fb9f3a"
             ],
             [
              0.8888888888888888,
              "#fdca26"
             ],
             [
              1,
              "#f0f921"
             ]
            ],
            "type": "contour"
           }
          ],
          "contourcarpet": [
           {
            "colorbar": {
             "outlinewidth": 0,
             "ticks": ""
            },
            "type": "contourcarpet"
           }
          ],
          "heatmap": [
           {
            "colorbar": {
             "outlinewidth": 0,
             "ticks": ""
            },
            "colorscale": [
             [
              0,
              "#0d0887"
             ],
             [
              0.1111111111111111,
              "#46039f"
             ],
             [
              0.2222222222222222,
              "#7201a8"
             ],
             [
              0.3333333333333333,
              "#9c179e"
             ],
             [
              0.4444444444444444,
              "#bd3786"
             ],
             [
              0.5555555555555556,
              "#d8576b"
             ],
             [
              0.6666666666666666,
              "#ed7953"
             ],
             [
              0.7777777777777778,
              "#fb9f3a"
             ],
             [
              0.8888888888888888,
              "#fdca26"
             ],
             [
              1,
              "#f0f921"
             ]
            ],
            "type": "heatmap"
           }
          ],
          "heatmapgl": [
           {
            "colorbar": {
             "outlinewidth": 0,
             "ticks": ""
            },
            "colorscale": [
             [
              0,
              "#0d0887"
             ],
             [
              0.1111111111111111,
              "#46039f"
             ],
             [
              0.2222222222222222,
              "#7201a8"
             ],
             [
              0.3333333333333333,
              "#9c179e"
             ],
             [
              0.4444444444444444,
              "#bd3786"
             ],
             [
              0.5555555555555556,
              "#d8576b"
             ],
             [
              0.6666666666666666,
              "#ed7953"
             ],
             [
              0.7777777777777778,
              "#fb9f3a"
             ],
             [
              0.8888888888888888,
              "#fdca26"
             ],
             [
              1,
              "#f0f921"
             ]
            ],
            "type": "heatmapgl"
           }
          ],
          "histogram": [
           {
            "marker": {
             "colorbar": {
              "outlinewidth": 0,
              "ticks": ""
             }
            },
            "type": "histogram"
           }
          ],
          "histogram2d": [
           {
            "colorbar": {
             "outlinewidth": 0,
             "ticks": ""
            },
            "colorscale": [
             [
              0,
              "#0d0887"
             ],
             [
              0.1111111111111111,
              "#46039f"
             ],
             [
              0.2222222222222222,
              "#7201a8"
             ],
             [
              0.3333333333333333,
              "#9c179e"
             ],
             [
              0.4444444444444444,
              "#bd3786"
             ],
             [
              0.5555555555555556,
              "#d8576b"
             ],
             [
              0.6666666666666666,
              "#ed7953"
             ],
             [
              0.7777777777777778,
              "#fb9f3a"
             ],
             [
              0.8888888888888888,
              "#fdca26"
             ],
             [
              1,
              "#f0f921"
             ]
            ],
            "type": "histogram2d"
           }
          ],
          "histogram2dcontour": [
           {
            "colorbar": {
             "outlinewidth": 0,
             "ticks": ""
            },
            "colorscale": [
             [
              0,
              "#0d0887"
             ],
             [
              0.1111111111111111,
              "#46039f"
             ],
             [
              0.2222222222222222,
              "#7201a8"
             ],
             [
              0.3333333333333333,
              "#9c179e"
             ],
             [
              0.4444444444444444,
              "#bd3786"
             ],
             [
              0.5555555555555556,
              "#d8576b"
             ],
             [
              0.6666666666666666,
              "#ed7953"
             ],
             [
              0.7777777777777778,
              "#fb9f3a"
             ],
             [
              0.8888888888888888,
              "#fdca26"
             ],
             [
              1,
              "#f0f921"
             ]
            ],
            "type": "histogram2dcontour"
           }
          ],
          "mesh3d": [
           {
            "colorbar": {
             "outlinewidth": 0,
             "ticks": ""
            },
            "type": "mesh3d"
           }
          ],
          "parcoords": [
           {
            "line": {
             "colorbar": {
              "outlinewidth": 0,
              "ticks": ""
             }
            },
            "type": "parcoords"
           }
          ],
          "pie": [
           {
            "automargin": true,
            "type": "pie"
           }
          ],
          "scatter": [
           {
            "marker": {
             "colorbar": {
              "outlinewidth": 0,
              "ticks": ""
             }
            },
            "type": "scatter"
           }
          ],
          "scatter3d": [
           {
            "line": {
             "colorbar": {
              "outlinewidth": 0,
              "ticks": ""
             }
            },
            "marker": {
             "colorbar": {
              "outlinewidth": 0,
              "ticks": ""
             }
            },
            "type": "scatter3d"
           }
          ],
          "scattercarpet": [
           {
            "marker": {
             "colorbar": {
              "outlinewidth": 0,
              "ticks": ""
             }
            },
            "type": "scattercarpet"
           }
          ],
          "scattergeo": [
           {
            "marker": {
             "colorbar": {
              "outlinewidth": 0,
              "ticks": ""
             }
            },
            "type": "scattergeo"
           }
          ],
          "scattergl": [
           {
            "marker": {
             "colorbar": {
              "outlinewidth": 0,
              "ticks": ""
             }
            },
            "type": "scattergl"
           }
          ],
          "scattermapbox": [
           {
            "marker": {
             "colorbar": {
              "outlinewidth": 0,
              "ticks": ""
             }
            },
            "type": "scattermapbox"
           }
          ],
          "scatterpolar": [
           {
            "marker": {
             "colorbar": {
              "outlinewidth": 0,
              "ticks": ""
             }
            },
            "type": "scatterpolar"
           }
          ],
          "scatterpolargl": [
           {
            "marker": {
             "colorbar": {
              "outlinewidth": 0,
              "ticks": ""
             }
            },
            "type": "scatterpolargl"
           }
          ],
          "scatterternary": [
           {
            "marker": {
             "colorbar": {
              "outlinewidth": 0,
              "ticks": ""
             }
            },
            "type": "scatterternary"
           }
          ],
          "surface": [
           {
            "colorbar": {
             "outlinewidth": 0,
             "ticks": ""
            },
            "colorscale": [
             [
              0,
              "#0d0887"
             ],
             [
              0.1111111111111111,
              "#46039f"
             ],
             [
              0.2222222222222222,
              "#7201a8"
             ],
             [
              0.3333333333333333,
              "#9c179e"
             ],
             [
              0.4444444444444444,
              "#bd3786"
             ],
             [
              0.5555555555555556,
              "#d8576b"
             ],
             [
              0.6666666666666666,
              "#ed7953"
             ],
             [
              0.7777777777777778,
              "#fb9f3a"
             ],
             [
              0.8888888888888888,
              "#fdca26"
             ],
             [
              1,
              "#f0f921"
             ]
            ],
            "type": "surface"
           }
          ],
          "table": [
           {
            "cells": {
             "fill": {
              "color": "#EBF0F8"
             },
             "line": {
              "color": "white"
             }
            },
            "header": {
             "fill": {
              "color": "#C8D4E3"
             },
             "line": {
              "color": "white"
             }
            },
            "type": "table"
           }
          ]
         },
         "layout": {
          "annotationdefaults": {
           "arrowcolor": "#2a3f5f",
           "arrowhead": 0,
           "arrowwidth": 1
          },
          "coloraxis": {
           "colorbar": {
            "outlinewidth": 0,
            "ticks": ""
           }
          },
          "colorscale": {
           "diverging": [
            [
             0,
             "#8e0152"
            ],
            [
             0.1,
             "#c51b7d"
            ],
            [
             0.2,
             "#de77ae"
            ],
            [
             0.3,
             "#f1b6da"
            ],
            [
             0.4,
             "#fde0ef"
            ],
            [
             0.5,
             "#f7f7f7"
            ],
            [
             0.6,
             "#e6f5d0"
            ],
            [
             0.7,
             "#b8e186"
            ],
            [
             0.8,
             "#7fbc41"
            ],
            [
             0.9,
             "#4d9221"
            ],
            [
             1,
             "#276419"
            ]
           ],
           "sequential": [
            [
             0,
             "#0d0887"
            ],
            [
             0.1111111111111111,
             "#46039f"
            ],
            [
             0.2222222222222222,
             "#7201a8"
            ],
            [
             0.3333333333333333,
             "#9c179e"
            ],
            [
             0.4444444444444444,
             "#bd3786"
            ],
            [
             0.5555555555555556,
             "#d8576b"
            ],
            [
             0.6666666666666666,
             "#ed7953"
            ],
            [
             0.7777777777777778,
             "#fb9f3a"
            ],
            [
             0.8888888888888888,
             "#fdca26"
            ],
            [
             1,
             "#f0f921"
            ]
           ],
           "sequentialminus": [
            [
             0,
             "#0d0887"
            ],
            [
             0.1111111111111111,
             "#46039f"
            ],
            [
             0.2222222222222222,
             "#7201a8"
            ],
            [
             0.3333333333333333,
             "#9c179e"
            ],
            [
             0.4444444444444444,
             "#bd3786"
            ],
            [
             0.5555555555555556,
             "#d8576b"
            ],
            [
             0.6666666666666666,
             "#ed7953"
            ],
            [
             0.7777777777777778,
             "#fb9f3a"
            ],
            [
             0.8888888888888888,
             "#fdca26"
            ],
            [
             1,
             "#f0f921"
            ]
           ]
          },
          "colorway": [
           "#636efa",
           "#EF553B",
           "#00cc96",
           "#ab63fa",
           "#FFA15A",
           "#19d3f3",
           "#FF6692",
           "#B6E880",
           "#FF97FF",
           "#FECB52"
          ],
          "font": {
           "color": "#2a3f5f"
          },
          "geo": {
           "bgcolor": "white",
           "lakecolor": "white",
           "landcolor": "#E5ECF6",
           "showlakes": true,
           "showland": true,
           "subunitcolor": "white"
          },
          "hoverlabel": {
           "align": "left"
          },
          "hovermode": "closest",
          "mapbox": {
           "style": "light"
          },
          "paper_bgcolor": "white",
          "plot_bgcolor": "#E5ECF6",
          "polar": {
           "angularaxis": {
            "gridcolor": "white",
            "linecolor": "white",
            "ticks": ""
           },
           "bgcolor": "#E5ECF6",
           "radialaxis": {
            "gridcolor": "white",
            "linecolor": "white",
            "ticks": ""
           }
          },
          "scene": {
           "xaxis": {
            "backgroundcolor": "#E5ECF6",
            "gridcolor": "white",
            "gridwidth": 2,
            "linecolor": "white",
            "showbackground": true,
            "ticks": "",
            "zerolinecolor": "white"
           },
           "yaxis": {
            "backgroundcolor": "#E5ECF6",
            "gridcolor": "white",
            "gridwidth": 2,
            "linecolor": "white",
            "showbackground": true,
            "ticks": "",
            "zerolinecolor": "white"
           },
           "zaxis": {
            "backgroundcolor": "#E5ECF6",
            "gridcolor": "white",
            "gridwidth": 2,
            "linecolor": "white",
            "showbackground": true,
            "ticks": "",
            "zerolinecolor": "white"
           }
          },
          "shapedefaults": {
           "line": {
            "color": "#2a3f5f"
           }
          },
          "ternary": {
           "aaxis": {
            "gridcolor": "white",
            "linecolor": "white",
            "ticks": ""
           },
           "baxis": {
            "gridcolor": "white",
            "linecolor": "white",
            "ticks": ""
           },
           "bgcolor": "#E5ECF6",
           "caxis": {
            "gridcolor": "white",
            "linecolor": "white",
            "ticks": ""
           }
          },
          "title": {
           "x": 0.05
          },
          "xaxis": {
           "automargin": true,
           "gridcolor": "white",
           "linecolor": "white",
           "ticks": "",
           "title": {
            "standoff": 15
           },
           "zerolinecolor": "white",
           "zerolinewidth": 2
          },
          "yaxis": {
           "automargin": true,
           "gridcolor": "white",
           "linecolor": "white",
           "ticks": "",
           "title": {
            "standoff": 15
           },
           "zerolinecolor": "white",
           "zerolinewidth": 2
          }
         }
        }
       }
      },
      "text/html": [
       "<div>\n",
       "        \n",
       "        \n",
       "            <div id=\"b3e3d230-fc5a-41da-9d89-5eaa40fb91e3\" class=\"plotly-graph-div\" style=\"height:525px; width:100%;\"></div>\n",
       "            <script type=\"text/javascript\">\n",
       "                require([\"plotly\"], function(Plotly) {\n",
       "                    window.PLOTLYENV=window.PLOTLYENV || {};\n",
       "                    \n",
       "                if (document.getElementById(\"b3e3d230-fc5a-41da-9d89-5eaa40fb91e3\")) {\n",
       "                    Plotly.newPlot(\n",
       "                        'b3e3d230-fc5a-41da-9d89-5eaa40fb91e3',\n",
       "                        [{\"type\": \"bar\", \"x\": [\"SERCHHIP\", \"AIZAWL\", \"MAHE\", \"PATHANAMTHITTA\", \"KOTTAYAM\", \"ALAPPUZHA\", \"ERNAKULAM\", \"KANNUR\", \"THRISSUR\", \"KOZHIKODE\", \"KOLASIB\", \"KOLLAM\", \"MALAPPURAM\", \"CHAMPHAI\", \"MOKOKCHUNG\", \"THIRUVANANTHAPURAM\", \"LAKSHADWEEP\", \"IDUKKI\", \"KANNIYAKUMARI\", \"MUMBAI (SUBURBAN)\", \"CHENNAI\", \"KASARAGOD\", \"NAGPUR\", \"LUNGLEI\", \"NEW DELHI\", \"WAYANAD\", \"HAMIRPUR (H.P.)\", \"WEST TRIPURA\", \"NORTH GOA\", \"SOUTH WEST DELHI\", \"EAST DELHI\", \"KAMRUP-METRO\", \"DAKSHINA KANNADA\", \"PALAKKAD\", \"ANDAMANS\", \"BANGALORE U NORTH\", \"MUMBAI II\", \"SAIHA\", \"NORTH TRIPURA\", \"AMRAVATI\", \"DAMAN\", \"KARAIKAL\", \"PURBA MEDINIPUR\", \"WOKHA\", \"AKOLA\", \"KHORDHA\", \"UNA\", \"WARDHA\", \"PUNE\", \"KOLKATA\", \"JAGATSINGHPUR\", \"WEST DELHI\", \"SOUTH DELHI\", \"DHALAI\", \"NORTH DELHI\", \"IMPHAL WEST\", \"SURAT\", \"AHMEDABAD\", \"SINDHUDURG\", \"THOOTHUKKUDI\", \"KANGRA\", \"CHANDIGARH\", \"UDUPI\", \"ZUNHEBOTO\", \"THANE\", \"PONDICHERRY\", \"MAMIT\", \"KENDRAPARA\", \"ANAND\", \"GANDHINAGAR\", \"BILASPUR (H.P.)\", \"THE NILGIRIS\", \"KOHIMA\", \"SOUTH GOA\", \"SILIGURI\", \"DIMAPUR\", \"HOSHIARPUR\", \"GONDIYA\", \"SOUTH TRIPURA\", \"PURI\", \"KANCHEEPURAM\", \"CENTRAL DELHI\", \"DEHRADUN\", \"BHANDARA\", \"SOLAN\", \"GHAZIABAD\", \"NORTH TWENTY FOUR PARGANAS\", \"MOHALI\", \"NAINITAL\", \"NAVSARI\", \"EAST KHASI HILLS\", \"EAST SIKKIM\", \"NORTH WEST DELHI\", \"SHIMLA\", \"GURGAON\", \"COIMBATORE\", \"KHEDA\", \"CHURACHANDPUR\", \"MAHESANA\", \"MIDDLE AND NORTH ANDAMANS\", \"CUTTACK\", \"SATARA\", \"NAGAPATTINAM\", \"UTTARA KANNADA\", \"JAMMU\", \"RAIGARH (MAHARASHTRA)\", \"HAORA\", \"THIRUVALLUR\", \"TIRUCHIRAPPALLI\", \"CHAMOLI\", \"PANCHKULA\", \"JORHAT\", \"DIU\", \"RUPNAGAR\", \"THIRUVARUR\", \"BOUDH\", \"FARIDABAD\", \"BHARUCH\", \"PITHORAGARH\", \"TIRUNELVELI\", \"KOLHAPUR\", \"AMBALA\", \"IMPHAL EAST\", \"MANDI\", \"NORTH EAST DELHI\", \"THANJAVUR\", \"SANGLI\", \"GARHWAL\", \"HUGLI\", \"LUDHIANA\", \"KODAGU\", \"SAMBA\", \"JABALPUR\", \"RATNAGIRI\", \"JALANDHAR\", \"INDORE\", \"BHOPAL\", \"REWARI\", \"GAUTAM BUDDHA NAGAR\", \"RAJKOT\", \"PAPUM PARE\", \"RUDRAPRAYAG\", \"BULDANA\", \"SOUTH SIKKIM\", \"UKHRUL\", \"WASHIM\", \"MADURAI\", \"RAMANATHAPURAM\", \"SIBSAGAR\", \"CHANDRAPUR\", \"KANPUR NAGAR\", \"VADODARA\", \"ALMORA\", \"GURDASPUR\", \"HYDERABAD\", \"NASHIK\", \"VALSAD\", \"JHAJJAR\", \"SONIPAT\", \"KINNAUR\", \"VIRUDHUNAGAR\", \"CHAMPAWAT\", \"YAVATMAL\", \"BAGESHWAR\", \"BALASORE\", \"SHIMOGA\", \"LEH (LADAKH)\", \"SIVAGANGA\", \"JAJPUR\", \"AURANGABAD (MAHARASHTRA)\", \"ROHTAK\", \"CACHAR\", \"FATEHGARH SAHIB\", \"NAWANSHAHR\", \"DHARWAD\", \"YANAM\", \"AURAIYA\", \"AHMADNAGAR\", \"KAPURTHALA\", \"KULLU\", \"ETAWAH\", \"SIRMAUR\", \"DARJILING\", \"NALBARI\", \"JALGAON\", \"KARIMGANJ\", \"DURG\", \"VELLORE\", \"DHENKANAL\", \"LUCKNOW\", \"WEST KHASI HILLS\", \"CHIKKAMANGALORE\", \"NAYAGARH\", \"PHEK\", \"PASCHIM MEDINIPUR\", \"CUDDALORE\", \"LATUR\", \"PEREN\", \"DIMA HASAO\", \"ANGUL\", \"DHAMTARI\", \"YAMUNANAGAR\", \"MAHENDRAGARH\", \"WEST SIKKIM\", \"SOUTH  TWENTY FOUR PARGANAS\", \"LAKHIMPUR\", \"GOLAGHAT\", \"BANGALORE RURAL\", \"BALAGHAT\", \"MAINPURI\", \"RANGA REDDY\", \"GWALIOR\", \"PUDUKKOTTAI\", \"SOLAPUR\", \"DADRA AND NAGAR HAVELI(UT)\", \"THENI\", \"HAVERI\", \"SAGAR\", \"KANPUR DEHAT\", \"NICOBARS\", \"KOTA\", \"PANIPAT\", \"NORTH SIKKIM\", \"LAHUL & SPITI\", \"RI BHOI\", \"AMRITSAR\", \"BARDDHAMAN\", \"RANCHI\", \"VARANASI\", \"RAJNANDGAON\", \"NANDED\", \"JUNAGADH\", \"DINDIGUL\", \"BHAVNAGAR\", \"THE DANGS\", \"NARSIMHAPUR\", \"BHIWANI\", \"KURUKSHETRA\", \"THOUBAL\", \"PORBANDAR\", \"SABAR KANTHA\", \"BHIND\", \"HOSHANGABAD\", \"JAIPUR\", \"KARNAL\", \"RAIPUR\", \"JHANSI\", \"BISHNUPUR\", \"LOWER SUBANSIRI\", \"OSMANABAD\", \"DAVANAGERE\", \"PATIALA\", \"DIBRUGARH\", \"PURBI SINGHBHUM\", \"HINGOLI\", \"UTTARKASHI\", \"HASSAN\", \"KARUR\", \"DHANBAD\", \"ROHTAS\", \"NADIA\", \"EAST GARO HILLS\", \"KOCH BIHAR\", \"HAILAKANDI\", \"PARBHANI\", \"GADAG\", \"MAU\", \"JALAUN\", \"TEHRI GARHWAL\", \"SENAPATI\", \"NAMAKKAL\", \"MEERUT\", \"JHUNJHUNUN\", \"TIRUVANNAMALAI\", \"PERAMBALUR\", \"HARDWAR\", \"DHULE\", \"FIROZABAD\", \"AMRELI\", \"KARGIL\", \"UDHAM SINGH NAGAR\", \"SONEPUR\", \"ALLAHABAD\", \"JAMNAGAR\", \"AMBEDKAR NAGAR\", \"KRISHNA\", \"KOLAR\", \"WEST GODAVARI\", \"TUMKUR\", \"GHAZIPUR\", \"RAISEN\", \"SUNDERGARH\", \"HARDA\", \"KANNAUJ\", \"BELGAUM\", \"RAMGARH\", \"CHANDAULI\", \"DAKSHIN DINAJPUR\", \"CHITRADURGA\", \"BALLIA\", \"JALPAIGURI\", \"SATNA\", \"NAGAON\", \"RAIGARH (CHHATTISGARH)\", \"JANJGIR - CHAMPA\", \"TUENSANG\", \"JAUNPUR\", \"KATNI\", \"JALNA\", \"UJJAIN\", \"BAGHPAT\", \"EAST SIANG\", \"DEORIA\", \"BID\", \"KARBI ANGLONG\", \"DATIA\", \"KATHUA\", \"BOKARO\", \"PATAN\", \"REWA\", \"MUNGER\", \"NARMADA\", \"ETAH\", \"GORAKHPUR\", \"HISAR\", \"SALEM\", \"KORBA\", \"CHAMBA\", \"SURENDRANAGAR\", \"HATHRAS\", \"KIPHIRE\", \"PRATAPGARH\", \"DEOGARH\", \"SEONI\", \"SIKAR\", \"ERODE\", \"KAMRUP-RURAL\", \"BHOJPUR\", \"AURANGABAD (BIHAR)\", \"MANDSAUR\", \"JIND\", \"AZAMGARH\", \"MATHURA\", \"MYSORE\", \"BHADRAK\", \"PATNA\", \"KRISHANAGIRI\", \"SOUTH GARO HILLS\", \"CHITTOOR\", \"PANCH MAHALS\", \"CHHINDWARA\", \"VIDISHA\", \"VILUPPURAM\", \"MORENA\", \"SAHARANPUR\", \"GANJAM\", \"NEEMUCH\", \"BUXAR\", \"ALWAR\", \"MOGA\", \"BILASPUR (CHHATTISGARH)\", \"SIWAN\", \"KACHCHH\", \"MAHASAMUND\", \"KORIYA\", \"EAST GODAVARI\", \"SRINAGAR\", \"BHARATPUR\", \"Sultanpur\", \"SEHORE\", \"BHADOI\", \"LONGLENG\", \"KAIMUR (BHABUA)\", \"BIDAR\", \"KANKER\", \"BANKURA\", \"DAMOH\", \"TINSUKIA\", \"BIRBHUM\", \"CHANDEL\", \"FARIDKOT\", \"FAIZABAD\", \"FARRUKHABAD\", \"KAITHAL\", \"GADCHIROLI\", \"DEWAS\", \"BAKSA\", \"HAZARIBAG\", \"AJMER\", \"BONGAIGAON\", \"BIJNOR\", \"TAMENGLONG\", \"LOWER DIBANG VALLEY\", \"MIRZAPUR\", \"SIRSA\", \"PALWAL\", \"GANGANAGAR\", \"BULANDSHAHR\", \"SHAJAPUR\", \"HAMIRPUR (U.P.)\", \"MANDYA\", \"BETUL\", \"DHAULPUR\", \"MUZAFFARNAGAR\", \"CHIKKABALLAPURA\", \"SONITPUR\", \"UDHAMPUR\", \"LOHIT\", \"FIROZPUR\", \"BASTI\", \"ALIGARH\", \"BATHINDA\", \"ARWAL\", \"AGRA\", \"TARAN TARAN\", \"WEST KAMENG\", \"BAGALKOT\", \"MORIGAON\", \"TAPI\", \"RAMANAGARA\", \"Dausa\", \"NELLORE\", \"FATEHABAD\", \"ANUPPUR\", \"DHEMAJI\", \"RAE BARELI\", \"SANT KABIR NAGAR\", \"KEONJHAR\", \"BARNALA\", \"HARDOI\", \"SANGRUR\", \"SARAIKELA-KHARSAWAN\", \"FATEHPUR\", \"PUNCH\", \"GOALPARA\", \"JASHPUR\", \"SARAN\", \"VAISHALI\", \"RAJAURI\", \"WEST GARO HILLS\", \"HANUMANGARH\", \"SHAHDOL\", \"KODARMA\", \"UNNAO\", \"LOHARDAGA\", \"MANDLA\", \"JEHANABAD\", \"BANDA\", \"RATLAM\", \"GUNTUR\", \"ASHOKNAGAR\", \"Kadapa\", \"BELLARY\", \"VISAKHAPATNAM\", \"KUSHINAGAR\", \"WEST SIANG\", \"SIMDEGA\", \"MURSHIDABAD\", \"KHANDWA\", \"CHURU\", \"BARAN\", \"KARAULI\", \"UMARIA\", \"KOPPAL\", \"BIJAPUR (KARNATAKA)\", \"JODHPUR\", \"GOPALGANJ\", \"MAHOBA\", \"BARAMULA\", \"GUMLA\", \"KUPWARA\", \"MUKTSAR\", \"KOKRAJHAR\", \"UDALGURI\", \"CHITRAKOOT\", \"LAWNGTLAI\", \"NALANDA\", \"BANAS KANTHA\", \"GAYA\", \"DEOGHAR\", \"BEGUSARAI\", \"SAWAI MADHOPUR\", \"SONBHADRA\", \"WARANGAL\", \"SIDHI\", \"PANNA\", \"DODA\", \"SHEIKHPURA\", \"BIKANER\", \"JYOTIBA PHULE NAGAR\", \"MUZAFFARPUR\", \"GULBARGA\", \"BOLANGIR\", \"PALAMU\", \"DINDORI\", \"KHAMMAM\", \"PURULIYA\", \"BURHANPUR\", \"KANDHAMAL\", \"GIRIDIH\", \"GUNA\", \"NALGONDA\", \"BARPETA\", \"PULWAMA\", \"BHAGALPUR\", \"LAKHISARAI\", \"LALITPUR\", \"CHHATARPUR\", \"KARIMNAGAR\", \"DIBANG VALLEY\", \"CHIRANG\", \"DHARMAPURI\", \"DARRANG\", \"KHUNTI\", \"ANANTNAG\", \"MAHARAJGANJ\", \"ANANTAPUR\", \"NAGAUR\", \"KHARGONE\", \"MAYURBHANJ\", \"UPPER SUBANSIRI\", \"RAJSAMAND\", \"SAMASTIPUR\", \"BARABANKI\", \"SHIVPURI\", \"JAMTARA\", \"KAUSHAMBI\", \"PILIBHIT\", \"PRAKASAM\", \"SITAPUR\", \"JAINTIA HILLS\", \"PALI\", \"NANDURBAR\", \"MANSA\", \"UDAIPUR\", \"BHILWARA\", \"MALDAH\", \"KHERI\", \"RAJGARH\", \"TIKAMGARH\", \"DUMKA\", \"MEDAK\", \"CHITTAURGARH\", \"SHOPIAN\", \"EAST KAMENG\", \"TONK\", \"SINGRAULI\", \"BUNDI\", \"SRIKAKULAM\", \"KANSHIRAM NAGAR\", \"NIZAMABAD\", \"GARHWA\", \"JAMUI\", \"CHATRA\", \"JHALAWAR\", \"KAWARDHA\", \"CHANGLANG\", \"SIDDHARTHNAGAR\", \"NAWADA\", \"SHAHJAHANPUR\", \"ADILABAD\", \"LATEHAR\", \"SURGUJA\", \"GONDA\", \"KURNOOL\", \"CHAMARAJANAGARA\", \"MADHUBANI\", \"KHAGARIA\", \"DUNGARPUR\", \"TAWANG\", \"DOHAD\", \"DHAR\", \"BAREILLY\", \"RAICHUR\", \"KULGAM\", \"KALAHANDI\", \"UTTAR DINAJPUR\", \"BANKA\", \"GANDERBAL\", \"UPPER SIANG\", \"SUPAUL\", \"PASHCHIMI SINGHBHUM\", \"VIZIANAGARAM\", \"REASI\", \"Anjaw\", \"DHUBRI\", \"MORADABAD\", \"KISHTWAR\", \"PURBA CHAMPARAN\", \"DARBHANGA\", \"NUAPADA\", \"PASHCHIM CHAMPARAN\", \"JAISALMER\", \"SHEOPUR\", \"BADGAM\", \"BANDIPORA\", \"GODDA\", \"BARMER\", \"BANSWARA\", \"KISHANGANJ\", \"RAMBAN\", \"MON\", \"PRATAPGARH (RAJ.)\", \"MEWAT\", \"MAHBUBNAGAR\", \"SIROHI\", \"SHEOHAR\", \"JALOR\", \"ARARIA\", \"RAMPUR\", \"BASTER\", \"SAHARSA\", \"GAJAPATI\", \"MADHEPURA\", \"SAHIBGANJ\", \"KATIHAR\", \"SITAMARHI\", \"BUDAUN\", \"PURNIA\", \"YADAGIRI\", \"TIRAP\", \"BALRAMPUR (U.P)\", \"BAHRAICH\", \"RAYAGADA\", \"KURUNG KUMEY\", \"BARWANI\", \"PAKAUR\", \"KORAPUT\", \"MALKANGIRI\", \"SHRAWASTI\", \"NABARANGPUR\", \"JHABUA\", \"DANTEWADA\", \"ALIRAJPUR\", \"AGAR MALWA\", \"ALIPURDUAR\", \"AMETHI - CSM NAGAR\", \"ARAVALLI\", \"BALOD\", \"BALODABAZAR\", \"BALRAMPUR\", \"BANGALORE U SOUTH\", \"BARGARH\", \"BELGAUM CHIKKODI\", \"BEMETARA\", \"BIJAPUR\", \"BOTAD\", \"CHHOTAUDEPUR\", \"DEVBHOOMI DWARKA\", \"EAST JAINTIA HILLS\", \"Fazilka\", \"GARIABAND\", \"GIR SOMNATH\", \"GOMATI\", \"HAPUR (PANCHSHEEL NAGAR)\", \"JHARSUGUDA\", \"KHOWAI\", \"KONDAGAON\", \"KRA DADI\", \"LONGDING\", \"MAHISAGAR\", \"MORBI\", \"MUNGELI\", \"NAMSAI\", \"NARAYANPUR\", \"NORTH GARO HILLS\", \"PALGHAR\", \"PATHANKOT\", \"SAMBALPUR\", \"SAMBHAL (BHIM NAGAR)\", \"SEPAHIJALA\", \"SHAMLI (PRABUDH NAGAR)\", \"SIANG\", \"SOUTH WEST GARO HILLS\", \"SOUTH WEST KHASI HILLS\", \"SUKMA\", \"SURAJPUR\", \"TUMKUR MADHUGIRI\", \"UNAKOTI\", \"UTTARA KANNADA SIRSI\"], \"y\": [98.76, 98.5, 98.35, 96.93, 96.4, 96.26, 95.68, 95.41, 95.32, 95.24, 94.54, 93.77, 93.55, 93.51, 92.68, 92.66, 92.28, 92.2, 92.14, 90.9, 90.33, 89.85, 89.52, 89.4, 89.38, 89.32, 89.01, 88.91, 88.85, 88.81, 88.75, 88.66, 88.62, 88.49, 88.49, 88.48, 88.48, 88.41, 88.29, 88.23, 88.06, 87.83, 87.66, 87.6, 87.55, 87.51, 87.23, 87.22, 87.19, 87.14, 87.13, 87.12, 87.03, 86.82, 86.81, 86.7, 86.65, 86.65, 86.54, 86.52, 86.49, 86.43, 86.29, 86.26, 86.18, 86.13, 85.96, 85.93, 85.79, 85.78, 85.67, 85.65, 85.58, 85.53, 85.46, 85.44, 85.43, 85.41, 85.41, 85.37, 85.29, 85.25, 85.24, 85.14, 85.02, 85.0, 84.95, 84.87, 84.85, 84.78, 84.7, 84.67, 84.66, 84.55, 84.44, 84.31, 84.31, 84.29, 84.26, 84.25, 84.2, 84.2, 84.09, 84.03, 83.98, 83.89, 83.85, 83.82, 83.56, 83.48, 83.44, 83.42, 83.36, 83.28, 83.26, 83.25, 83.04, 83.03, 82.93, 82.92, 82.9, 82.89, 82.81, 82.81, 82.8, 82.72, 82.62, 82.59, 82.55, 82.54, 82.52, 82.48, 82.47, 82.43, 82.4, 82.32, 82.26, 82.23, 82.2, 82.2, 82.14, 82.09, 82.09, 82.06, 81.87, 81.7, 81.66, 81.48, 81.36, 81.35, 81.31, 81.21, 81.06, 81.06, 80.96, 80.96, 80.94, 80.83, 80.83, 80.77, 80.75, 80.73, 80.7, 80.69, 80.66, 80.5, 80.48, 80.46, 80.44, 80.4, 80.37, 80.36, 80.33, 80.33, 80.3, 80.26, 80.25, 80.22, 80.18, 80.14, 79.99, 79.98, 79.92, 79.89, 79.73, 79.72, 79.69, 79.65, 79.41, 79.33, 79.3, 79.24, 79.17, 79.13, 79.04, 79.04, 79.03, 79.0, 78.99, 78.96, 78.95, 78.93, 78.87, 78.69, 78.57, 78.39, 78.31, 78.29, 78.29, 78.26, 78.05, 77.93, 77.76, 77.72, 77.65, 77.62, 77.6, 77.52, 77.52, 77.5, 77.48, 77.46, 77.39, 77.24, 77.22, 77.2, 77.15, 77.13, 77.05, 76.97, 76.94, 76.88, 76.85, 76.84, 76.8, 76.79, 76.74, 76.7, 76.66, 76.63, 76.6, 76.59, 76.52, 76.44, 76.44, 76.43, 76.37, 76.35, 76.33, 76.33, 76.3, 76.26, 76.22, 76.13, 76.04, 75.98, 75.89, 75.86, 75.71, 75.59, 75.58, 75.51, 75.49, 75.26, 75.22, 75.18, 75.16, 75.16, 75.1, 75.0, 74.92, 74.8, 74.72, 74.72, 74.68, 74.62, 74.61, 74.6, 74.49, 74.49, 74.44, 74.42, 74.41, 74.4, 74.37, 74.37, 74.33, 74.32, 74.32, 74.27, 74.26, 74.13, 74.04, 74.01, 73.94, 73.92, 73.86, 73.86, 73.82, 73.82, 73.79, 73.79, 73.78, 73.7, 73.7, 73.7, 73.66, 73.62, 73.61, 73.55, 73.54, 73.54, 73.53, 73.53, 73.52, 73.5, 73.5, 73.48, 73.47, 73.42, 73.3, 73.29, 73.27, 73.25, 73.24, 73.23, 73.22, 73.19, 73.19, 73.1, 73.1, 73.1, 73.07, 73.01, 72.98, 72.96, 72.81, 72.79, 72.77, 72.75, 72.73, 72.69, 72.65, 72.56, 72.51, 72.47, 72.41, 72.39, 72.36, 72.32, 72.21, 72.08, 72.08, 72.07, 72.03, 71.88, 71.81, 71.77, 71.68, 71.59, 71.59, 71.59, 71.58, 71.54, 71.41, 71.35, 71.21, 71.16, 71.14, 71.11, 71.1, 71.1, 71.01, 71.01, 70.97, 70.95, 70.92, 70.92, 70.9, 70.85, 70.65, 70.63, 70.57, 70.56, 70.55, 70.53, 70.53, 70.48, 70.46, 70.44, 70.43, 70.4, 70.38, 70.38, 70.35, 70.32, 70.25, 70.23, 70.17, 70.16, 70.14, 70.14, 70.14, 70.11, 70.08, 69.96, 69.9, 69.88, 69.85, 69.69, 69.61, 69.57, 69.54, 69.44, 69.43, 69.4, 69.39, 69.37, 69.23, 69.2, 69.17, 69.15, 69.13, 69.08, 69.07, 69.04, 69.01, 69.0, 68.9, 68.89, 68.88, 68.85, 68.78, 68.69, 68.67, 68.6, 68.57, 68.56, 68.54, 68.38, 68.37, 68.36, 68.35, 68.29, 68.29, 68.28, 68.27, 68.11, 68.03, 67.99, 67.9, 67.88, 67.85, 67.7, 67.66, 67.62, 67.59, 67.53, 67.53, 67.46, 67.38, 67.34, 67.34, 67.28, 67.2, 67.09, 67.04, 66.94, 66.93, 66.92, 66.92, 66.79, 66.63, 66.6, 66.52, 66.41, 66.41, 66.39, 66.35, 66.34, 66.23, 66.19, 66.18, 66.16, 66.09, 66.08, 65.97, 65.96, 65.92, 65.7, 65.68, 65.65, 65.5, 65.5, 65.47, 65.46, 65.38, 65.28, 65.12, 65.12, 65.1, 65.05, 65.03, 65.0, 64.96, 64.95, 64.95, 64.9, 64.87, 64.8, 64.71, 64.71, 64.55, 64.51, 64.32, 64.3, 64.28, 64.08, 63.98, 63.98, 63.96, 63.93, 63.81, 63.76, 63.73, 63.73, 63.69, 63.58, 63.53, 63.38, 63.26, 63.23, 63.04, 62.78, 62.74, 62.71, 62.71, 62.71, 62.68, 62.57, 62.54, 62.53, 62.51, 62.49, 62.48, 62.46, 62.36, 62.31, 62.3, 62.3, 62.25, 62.18, 62.16, 62.14, 62.13, 61.95, 61.9, 61.81, 61.63, 61.61, 61.55, 61.23, 61.16, 61.16, 61.13, 61.12, 60.9, 60.87, 60.78, 60.61, 60.6, 60.57, 60.52, 60.46, 60.35, 60.22, 60.13, 60.12, 59.99, 59.94, 59.65, 59.54, 59.49, 59.42, 59.4, 59.36, 58.67, 58.54, 58.26, 58.26, 58.2, 58.06, 58.04, 58.02, 57.98, 57.82, 57.68, 57.49, 57.2, 57.04, 56.9, 56.6, 56.3, 56.14, 56.06, 56.02, 56.0, 55.58, 55.1, 55.08, 54.94, 54.57, 54.29, 53.78, 53.73, 53.56, 53.53, 52.91, 52.49, 52.36, 52.23, 51.76, 51.1, 50.88, 50.67, 50.23, 50.17, 49.87, 49.49, 49.13, 48.2, 44.45, 42.67, 37.22, null, null, null, null, null, null, null, null, null, null, null, null, null, null, null, null, null, null, null, null, null, null, null, null, null, null, null, null, null, null, null, null, null, null, null, null, null, null, null, null, null, null, null, null, null, null]}],\n",
       "                        {\"template\": {\"data\": {\"bar\": [{\"error_x\": {\"color\": \"#2a3f5f\"}, \"error_y\": {\"color\": \"#2a3f5f\"}, \"marker\": {\"line\": {\"color\": \"#E5ECF6\", \"width\": 0.5}}, \"type\": \"bar\"}], \"barpolar\": [{\"marker\": {\"line\": {\"color\": \"#E5ECF6\", \"width\": 0.5}}, \"type\": \"barpolar\"}], \"carpet\": [{\"aaxis\": {\"endlinecolor\": \"#2a3f5f\", \"gridcolor\": \"white\", \"linecolor\": \"white\", \"minorgridcolor\": \"white\", \"startlinecolor\": \"#2a3f5f\"}, \"baxis\": {\"endlinecolor\": \"#2a3f5f\", \"gridcolor\": \"white\", \"linecolor\": \"white\", \"minorgridcolor\": \"white\", \"startlinecolor\": \"#2a3f5f\"}, \"type\": \"carpet\"}], \"choropleth\": [{\"colorbar\": {\"outlinewidth\": 0, \"ticks\": \"\"}, \"type\": \"choropleth\"}], \"contour\": [{\"colorbar\": {\"outlinewidth\": 0, \"ticks\": \"\"}, \"colorscale\": [[0.0, \"#0d0887\"], [0.1111111111111111, \"#46039f\"], [0.2222222222222222, \"#7201a8\"], [0.3333333333333333, \"#9c179e\"], [0.4444444444444444, \"#bd3786\"], [0.5555555555555556, \"#d8576b\"], [0.6666666666666666, \"#ed7953\"], [0.7777777777777778, \"#fb9f3a\"], [0.8888888888888888, \"#fdca26\"], [1.0, \"#f0f921\"]], \"type\": \"contour\"}], \"contourcarpet\": [{\"colorbar\": {\"outlinewidth\": 0, \"ticks\": \"\"}, \"type\": \"contourcarpet\"}], \"heatmap\": [{\"colorbar\": {\"outlinewidth\": 0, \"ticks\": \"\"}, \"colorscale\": [[0.0, \"#0d0887\"], [0.1111111111111111, \"#46039f\"], [0.2222222222222222, \"#7201a8\"], [0.3333333333333333, \"#9c179e\"], [0.4444444444444444, \"#bd3786\"], [0.5555555555555556, \"#d8576b\"], [0.6666666666666666, \"#ed7953\"], [0.7777777777777778, \"#fb9f3a\"], [0.8888888888888888, \"#fdca26\"], [1.0, \"#f0f921\"]], \"type\": \"heatmap\"}], \"heatmapgl\": [{\"colorbar\": {\"outlinewidth\": 0, \"ticks\": \"\"}, \"colorscale\": [[0.0, \"#0d0887\"], [0.1111111111111111, \"#46039f\"], [0.2222222222222222, \"#7201a8\"], [0.3333333333333333, \"#9c179e\"], [0.4444444444444444, \"#bd3786\"], [0.5555555555555556, \"#d8576b\"], [0.6666666666666666, \"#ed7953\"], [0.7777777777777778, \"#fb9f3a\"], [0.8888888888888888, \"#fdca26\"], [1.0, \"#f0f921\"]], \"type\": \"heatmapgl\"}], \"histogram\": [{\"marker\": {\"colorbar\": {\"outlinewidth\": 0, \"ticks\": \"\"}}, \"type\": \"histogram\"}], \"histogram2d\": [{\"colorbar\": {\"outlinewidth\": 0, \"ticks\": \"\"}, \"colorscale\": [[0.0, \"#0d0887\"], [0.1111111111111111, \"#46039f\"], [0.2222222222222222, \"#7201a8\"], [0.3333333333333333, \"#9c179e\"], [0.4444444444444444, \"#bd3786\"], [0.5555555555555556, \"#d8576b\"], [0.6666666666666666, \"#ed7953\"], [0.7777777777777778, \"#fb9f3a\"], [0.8888888888888888, \"#fdca26\"], [1.0, \"#f0f921\"]], \"type\": \"histogram2d\"}], \"histogram2dcontour\": [{\"colorbar\": {\"outlinewidth\": 0, \"ticks\": \"\"}, \"colorscale\": [[0.0, \"#0d0887\"], [0.1111111111111111, \"#46039f\"], [0.2222222222222222, \"#7201a8\"], [0.3333333333333333, \"#9c179e\"], [0.4444444444444444, \"#bd3786\"], [0.5555555555555556, \"#d8576b\"], [0.6666666666666666, \"#ed7953\"], [0.7777777777777778, \"#fb9f3a\"], [0.8888888888888888, \"#fdca26\"], [1.0, \"#f0f921\"]], \"type\": \"histogram2dcontour\"}], \"mesh3d\": [{\"colorbar\": {\"outlinewidth\": 0, \"ticks\": \"\"}, \"type\": \"mesh3d\"}], \"parcoords\": [{\"line\": {\"colorbar\": {\"outlinewidth\": 0, \"ticks\": \"\"}}, \"type\": \"parcoords\"}], \"pie\": [{\"automargin\": true, \"type\": \"pie\"}], \"scatter\": [{\"marker\": {\"colorbar\": {\"outlinewidth\": 0, \"ticks\": \"\"}}, \"type\": \"scatter\"}], \"scatter3d\": [{\"line\": {\"colorbar\": {\"outlinewidth\": 0, \"ticks\": \"\"}}, \"marker\": {\"colorbar\": {\"outlinewidth\": 0, \"ticks\": \"\"}}, \"type\": \"scatter3d\"}], \"scattercarpet\": [{\"marker\": {\"colorbar\": {\"outlinewidth\": 0, \"ticks\": \"\"}}, \"type\": \"scattercarpet\"}], \"scattergeo\": [{\"marker\": {\"colorbar\": {\"outlinewidth\": 0, \"ticks\": \"\"}}, \"type\": \"scattergeo\"}], \"scattergl\": [{\"marker\": {\"colorbar\": {\"outlinewidth\": 0, \"ticks\": \"\"}}, \"type\": \"scattergl\"}], \"scattermapbox\": [{\"marker\": {\"colorbar\": {\"outlinewidth\": 0, \"ticks\": \"\"}}, \"type\": \"scattermapbox\"}], \"scatterpolar\": [{\"marker\": {\"colorbar\": {\"outlinewidth\": 0, \"ticks\": \"\"}}, \"type\": \"scatterpolar\"}], \"scatterpolargl\": [{\"marker\": {\"colorbar\": {\"outlinewidth\": 0, \"ticks\": \"\"}}, \"type\": \"scatterpolargl\"}], \"scatterternary\": [{\"marker\": {\"colorbar\": {\"outlinewidth\": 0, \"ticks\": \"\"}}, \"type\": \"scatterternary\"}], \"surface\": [{\"colorbar\": {\"outlinewidth\": 0, \"ticks\": \"\"}, \"colorscale\": [[0.0, \"#0d0887\"], [0.1111111111111111, \"#46039f\"], [0.2222222222222222, \"#7201a8\"], [0.3333333333333333, \"#9c179e\"], [0.4444444444444444, \"#bd3786\"], [0.5555555555555556, \"#d8576b\"], [0.6666666666666666, \"#ed7953\"], [0.7777777777777778, \"#fb9f3a\"], [0.8888888888888888, \"#fdca26\"], [1.0, \"#f0f921\"]], \"type\": \"surface\"}], \"table\": [{\"cells\": {\"fill\": {\"color\": \"#EBF0F8\"}, \"line\": {\"color\": \"white\"}}, \"header\": {\"fill\": {\"color\": \"#C8D4E3\"}, \"line\": {\"color\": \"white\"}}, \"type\": \"table\"}]}, \"layout\": {\"annotationdefaults\": {\"arrowcolor\": \"#2a3f5f\", \"arrowhead\": 0, \"arrowwidth\": 1}, \"coloraxis\": {\"colorbar\": {\"outlinewidth\": 0, \"ticks\": \"\"}}, \"colorscale\": {\"diverging\": [[0, \"#8e0152\"], [0.1, \"#c51b7d\"], [0.2, \"#de77ae\"], [0.3, \"#f1b6da\"], [0.4, \"#fde0ef\"], [0.5, \"#f7f7f7\"], [0.6, \"#e6f5d0\"], [0.7, \"#b8e186\"], [0.8, \"#7fbc41\"], [0.9, \"#4d9221\"], [1, \"#276419\"]], \"sequential\": [[0.0, \"#0d0887\"], [0.1111111111111111, \"#46039f\"], [0.2222222222222222, \"#7201a8\"], [0.3333333333333333, \"#9c179e\"], [0.4444444444444444, \"#bd3786\"], [0.5555555555555556, \"#d8576b\"], [0.6666666666666666, \"#ed7953\"], [0.7777777777777778, \"#fb9f3a\"], [0.8888888888888888, \"#fdca26\"], [1.0, \"#f0f921\"]], \"sequentialminus\": [[0.0, \"#0d0887\"], [0.1111111111111111, \"#46039f\"], [0.2222222222222222, \"#7201a8\"], [0.3333333333333333, \"#9c179e\"], [0.4444444444444444, \"#bd3786\"], [0.5555555555555556, \"#d8576b\"], [0.6666666666666666, \"#ed7953\"], [0.7777777777777778, \"#fb9f3a\"], [0.8888888888888888, \"#fdca26\"], [1.0, \"#f0f921\"]]}, \"colorway\": [\"#636efa\", \"#EF553B\", \"#00cc96\", \"#ab63fa\", \"#FFA15A\", \"#19d3f3\", \"#FF6692\", \"#B6E880\", \"#FF97FF\", \"#FECB52\"], \"font\": {\"color\": \"#2a3f5f\"}, \"geo\": {\"bgcolor\": \"white\", \"lakecolor\": \"white\", \"landcolor\": \"#E5ECF6\", \"showlakes\": true, \"showland\": true, \"subunitcolor\": \"white\"}, \"hoverlabel\": {\"align\": \"left\"}, \"hovermode\": \"closest\", \"mapbox\": {\"style\": \"light\"}, \"paper_bgcolor\": \"white\", \"plot_bgcolor\": \"#E5ECF6\", \"polar\": {\"angularaxis\": {\"gridcolor\": \"white\", \"linecolor\": \"white\", \"ticks\": \"\"}, \"bgcolor\": \"#E5ECF6\", \"radialaxis\": {\"gridcolor\": \"white\", \"linecolor\": \"white\", \"ticks\": \"\"}}, \"scene\": {\"xaxis\": {\"backgroundcolor\": \"#E5ECF6\", \"gridcolor\": \"white\", \"gridwidth\": 2, \"linecolor\": \"white\", \"showbackground\": true, \"ticks\": \"\", \"zerolinecolor\": \"white\"}, \"yaxis\": {\"backgroundcolor\": \"#E5ECF6\", \"gridcolor\": \"white\", \"gridwidth\": 2, \"linecolor\": \"white\", \"showbackground\": true, \"ticks\": \"\", \"zerolinecolor\": \"white\"}, \"zaxis\": {\"backgroundcolor\": \"#E5ECF6\", \"gridcolor\": \"white\", \"gridwidth\": 2, \"linecolor\": \"white\", \"showbackground\": true, \"ticks\": \"\", \"zerolinecolor\": \"white\"}}, \"shapedefaults\": {\"line\": {\"color\": \"#2a3f5f\"}}, \"ternary\": {\"aaxis\": {\"gridcolor\": \"white\", \"linecolor\": \"white\", \"ticks\": \"\"}, \"baxis\": {\"gridcolor\": \"white\", \"linecolor\": \"white\", \"ticks\": \"\"}, \"bgcolor\": \"#E5ECF6\", \"caxis\": {\"gridcolor\": \"white\", \"linecolor\": \"white\", \"ticks\": \"\"}}, \"title\": {\"x\": 0.05}, \"xaxis\": {\"automargin\": true, \"gridcolor\": \"white\", \"linecolor\": \"white\", \"ticks\": \"\", \"title\": {\"standoff\": 15}, \"zerolinecolor\": \"white\", \"zerolinewidth\": 2}, \"yaxis\": {\"automargin\": true, \"gridcolor\": \"white\", \"linecolor\": \"white\", \"ticks\": \"\", \"title\": {\"standoff\": 15}, \"zerolinecolor\": \"white\", \"zerolinewidth\": 2}}}},\n",
       "                        {\"responsive\": true}\n",
       "                    ).then(function(){\n",
       "                            \n",
       "var gd = document.getElementById('b3e3d230-fc5a-41da-9d89-5eaa40fb91e3');\n",
       "var x = new MutationObserver(function (mutations, observer) {{\n",
       "        var display = window.getComputedStyle(gd).display;\n",
       "        if (!display || display === 'none') {{\n",
       "            console.log([gd, 'removed!']);\n",
       "            Plotly.purge(gd);\n",
       "            observer.disconnect();\n",
       "        }}\n",
       "}});\n",
       "\n",
       "// Listen for the removal of the full notebook cells\n",
       "var notebookContainer = gd.closest('#notebook-container');\n",
       "if (notebookContainer) {{\n",
       "    x.observe(notebookContainer, {childList: true});\n",
       "}}\n",
       "\n",
       "// Listen for the clearing of the current output cell\n",
       "var outputEl = gd.closest('.output');\n",
       "if (outputEl) {{\n",
       "    x.observe(outputEl, {childList: true});\n",
       "}}\n",
       "\n",
       "                        })\n",
       "                };\n",
       "                });\n",
       "            </script>\n",
       "        </div>"
      ]
     },
     "metadata": {},
     "output_type": "display_data"
    }
   ],
   "source": [
    "df3=df.copy()[['DISTNAME','OVERALL_LI']]\n",
    "lit1=df3.groupby(['DISTNAME']).mean()\n",
    "lit1=lit1.sort_values('OVERALL_LI',ascending=False) \n",
    "fig = go.Figure(data=go.Bar(x=lit1.index,y=lit1['OVERALL_LI']))\n",
    "fig.show()"
   ]
  },
  {
   "cell_type": "markdown",
   "metadata": {},
   "source": [
    "### If unable to view the generated plots, [Click here](https://nbviewer.jupyter.org/github/rishabh-runwal/education-india/blob/master/Education-India.ipynb)"
   ]
  },
  {
   "cell_type": "code",
   "execution_count": 38,
   "metadata": {},
   "outputs": [
    {
     "name": "stdout",
     "output_type": "stream",
     "text": [
      "Note: you may need to restart the kernel to use updated packages.\n"
     ]
    },
    {
     "name": "stderr",
     "output_type": "stream",
     "text": [
      "WARNING: Requirement 'basemap-1.0.8-cp34-none-win_amd64.whl' looks like a filename, but the file does not exist\n",
      "ERROR: basemap-1.0.8-cp34-none-win_amd64.whl is not a supported wheel on this platform.\n"
     ]
    }
   ],
   "source": []
  },
  {
   "cell_type": "code",
   "execution_count": null,
   "metadata": {},
   "outputs": [],
   "source": []
  },
  {
   "cell_type": "code",
   "execution_count": null,
   "metadata": {},
   "outputs": [],
   "source": []
  }
 ],
 "metadata": {
  "kernelspec": {
   "display_name": "Python 3",
   "language": "python",
   "name": "python3"
  },
  "language_info": {
   "codemirror_mode": {
    "name": "ipython",
    "version": 3
   },
   "file_extension": ".py",
   "mimetype": "text/x-python",
   "name": "python",
   "nbconvert_exporter": "python",
   "pygments_lexer": "ipython3",
   "version": "3.7.6"
  }
 },
 "nbformat": 4,
 "nbformat_minor": 4
}
